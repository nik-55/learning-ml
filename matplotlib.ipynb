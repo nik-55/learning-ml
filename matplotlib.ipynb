{
 "cells": [
  {
   "cell_type": "code",
   "execution_count": null,
   "id": "8bfa6612",
   "metadata": {},
   "outputs": [],
   "source": [
    "%matplotlib inline\n",
    "from matplotlib import pyplot as plt,style\n",
    "# plt.plot([1,2,3],[2,4,6])\n",
    "# x,y --> (1,2) (2,4) (3,6)\n",
    "# plt.title(\"nik data\")\n",
    "# plt.ylabel(\"this is y-axis\")\n",
    "# plt.xlabel(\"this is x-axis\")\n",
    "# plt.show()"
   ]
  },
  {
   "cell_type": "code",
   "execution_count": null,
   "id": "7ef89237",
   "metadata": {},
   "outputs": [],
   "source": [
    "style.use('ggplot')\n",
    "x1 = [3,56,72,89] \n",
    "y1 = [1.5,28,36,44.5]\n",
    "x2=[45,67,89,98]\n",
    "y2=[15,22.34,29.67,32.67]\n",
    "# plt.plot(x2,y2,label=\"second\")\n",
    "plt.scatter(x2,y2,label=\"second\")\n",
    "# plt.plot(x1,y1,label=\"first\")\n",
    "plt.hist(x1,label=\"first\")\n",
    "plt.legend()\n",
    "plt.show()"
   ]
  }
 ],
 "metadata": {
  "kernelspec": {
   "display_name": "Python 3",
   "language": "python",
   "name": "python3"
  },
  "language_info": {
   "codemirror_mode": {
    "name": "ipython",
    "version": 3
   },
   "file_extension": ".py",
   "mimetype": "text/x-python",
   "name": "python",
   "nbconvert_exporter": "python",
   "pygments_lexer": "ipython3",
   "version": "3.10.6 (tags/v3.10.6:9c7b4bd, Aug  1 2022, 21:53:49) [MSC v.1932 64 bit (AMD64)]"
  },
  "vscode": {
   "interpreter": {
    "hash": "369f2c481f4da34e4445cda3fffd2e751bd1c4d706f27375911949ba6bb62e1c"
   }
  }
 },
 "nbformat": 4,
 "nbformat_minor": 5
}
