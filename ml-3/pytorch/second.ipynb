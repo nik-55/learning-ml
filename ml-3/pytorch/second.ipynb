{
 "cells": [
  {
   "cell_type": "code",
   "execution_count": 37,
   "id": "c8258886-294d-4243-864a-65b0f2a3fe5d",
   "metadata": {},
   "outputs": [],
   "source": [
    "from torch import tensor"
   ]
  },
  {
   "cell_type": "code",
   "execution_count": 6,
   "id": "6c0db2a6-d76a-4cd4-905c-fda5740af29a",
   "metadata": {},
   "outputs": [
    {
     "data": {
      "text/plain": [
       "tensor(4.)"
      ]
     },
     "execution_count": 6,
     "metadata": {},
     "output_type": "execute_result"
    }
   ],
   "source": [
    "t1 = tensor(4.)\n",
    "t1"
   ]
  },
  {
   "cell_type": "code",
   "execution_count": 7,
   "id": "2b253c85-1d21-4386-a989-9972d28679b4",
   "metadata": {},
   "outputs": [
    {
     "data": {
      "text/plain": [
       "torch.float32"
      ]
     },
     "execution_count": 7,
     "metadata": {},
     "output_type": "execute_result"
    }
   ],
   "source": [
    "t1.dtype"
   ]
  },
  {
   "cell_type": "code",
   "execution_count": 8,
   "id": "66109b39-0064-4028-aa64-83bdf9dd1acf",
   "metadata": {},
   "outputs": [
    {
     "data": {
      "text/plain": [
       "tensor([1., 3., 2., 4.])"
      ]
     },
     "execution_count": 8,
     "metadata": {},
     "output_type": "execute_result"
    }
   ],
   "source": [
    "t2 = tensor([1.,3,2,4])\n",
    "t2"
   ]
  },
  {
   "cell_type": "code",
   "execution_count": 10,
   "id": "ec0ccf4c-3e50-40e7-8a0d-11ddc0f7c527",
   "metadata": {},
   "outputs": [
    {
     "data": {
      "text/plain": [
       "1"
      ]
     },
     "execution_count": 10,
     "metadata": {},
     "output_type": "execute_result"
    }
   ],
   "source": [
    "t2.ndim"
   ]
  },
  {
   "cell_type": "code",
   "execution_count": 15,
   "id": "41515290-7180-4654-8c58-50fcaf2331f8",
   "metadata": {},
   "outputs": [
    {
     "data": {
      "text/plain": [
       "torch.Size([2, 1, 4])"
      ]
     },
     "execution_count": 15,
     "metadata": {},
     "output_type": "execute_result"
    }
   ],
   "source": [
    "t3 = tensor([[[1,2,3,4]],[[1,5,6,7]]])\n",
    "t3.shape"
   ]
  },
  {
   "cell_type": "code",
   "execution_count": 22,
   "id": "5992430e-78ae-46d9-98f7-0d2f89b56af1",
   "metadata": {},
   "outputs": [],
   "source": [
    "x = tensor(3.)\n",
    "y = tensor(4., requires_grad=True)\n",
    "z = tensor(5., requires_grad=True)"
   ]
  },
  {
   "cell_type": "code",
   "execution_count": 23,
   "id": "f46179c6-677f-4659-b4e0-a8738e7d48cb",
   "metadata": {},
   "outputs": [
    {
     "data": {
      "text/plain": [
       "tensor(17., grad_fn=<AddBackward0>)"
      ]
     },
     "execution_count": 23,
     "metadata": {},
     "output_type": "execute_result"
    }
   ],
   "source": [
    "q = x*y+z\n",
    "q"
   ]
  },
  {
   "cell_type": "code",
   "execution_count": 24,
   "id": "2cd8e39a-3987-4af8-bd70-91584aae84c6",
   "metadata": {},
   "outputs": [],
   "source": [
    "der = q.backward()\n",
    "der"
   ]
  },
  {
   "cell_type": "code",
   "execution_count": 25,
   "id": "25dd58d4-f744-4a9a-9e25-7bbd6387caed",
   "metadata": {},
   "outputs": [],
   "source": [
    "der"
   ]
  },
  {
   "cell_type": "code",
   "execution_count": 27,
   "id": "6938daca-1f2c-4dfd-8057-6355b5e33e49",
   "metadata": {},
   "outputs": [],
   "source": [
    "x.grad"
   ]
  },
  {
   "cell_type": "code",
   "execution_count": 31,
   "id": "5d9ba3d3-86dc-4030-81bb-16066aa439ee",
   "metadata": {},
   "outputs": [
    {
     "data": {
      "text/plain": [
       "tensor(3.)"
      ]
     },
     "execution_count": 31,
     "metadata": {},
     "output_type": "execute_result"
    }
   ],
   "source": [
    "y.grad \n",
    "# differentitate q wrt y = x"
   ]
  },
  {
   "cell_type": "code",
   "execution_count": 32,
   "id": "02be18a9-feec-4b19-8667-2ff4711664fc",
   "metadata": {},
   "outputs": [
    {
     "data": {
      "text/plain": [
       "tensor(1.)"
      ]
     },
     "execution_count": 32,
     "metadata": {},
     "output_type": "execute_result"
    }
   ],
   "source": [
    "z.grad\n",
    "# differentitate q wrt z = 1"
   ]
  },
  {
   "cell_type": "code",
   "execution_count": null,
   "id": "f1bae778-74ed-46fb-95fd-53af08c62ecf",
   "metadata": {},
   "outputs": [],
   "source": []
  },
  {
   "cell_type": "code",
   "execution_count": 33,
   "id": "d3540021-c61f-47c7-b20e-9bedf6078529",
   "metadata": {},
   "outputs": [],
   "source": [
    "import numpy as np"
   ]
  },
  {
   "cell_type": "code",
   "execution_count": 45,
   "id": "f0c787ae-72a5-47a2-b082-e6d3afedbb7c",
   "metadata": {},
   "outputs": [
    {
     "data": {
      "text/plain": [
       "array([[23, 26, 23, 33, 33],\n",
       "       [14, 30, 12, 20, 28],\n",
       "       [12, 15, 22, 27, 23]])"
      ]
     },
     "execution_count": 45,
     "metadata": {},
     "output_type": "execute_result"
    }
   ],
   "source": [
    "a=np.random.randint(12,34,size=(3,5))\n",
    "a"
   ]
  },
  {
   "cell_type": "code",
   "execution_count": 46,
   "id": "5861c727-3f99-4fe6-9136-ea112b56a411",
   "metadata": {},
   "outputs": [],
   "source": [
    "import torch"
   ]
  },
  {
   "cell_type": "code",
   "execution_count": 47,
   "id": "f1a4ced0-2e96-4213-93e1-553013198d10",
   "metadata": {},
   "outputs": [
    {
     "data": {
      "text/plain": [
       "tensor([[23, 26, 23, 33, 33],\n",
       "        [14, 30, 12, 20, 28],\n",
       "        [12, 15, 22, 27, 23]])"
      ]
     },
     "execution_count": 47,
     "metadata": {},
     "output_type": "execute_result"
    }
   ],
   "source": [
    "torch.from_numpy(a) "
   ]
  },
  {
   "cell_type": "code",
   "execution_count": 49,
   "id": "06276351-9669-42f1-b07f-7b21b826b9ff",
   "metadata": {},
   "outputs": [
    {
     "data": {
      "text/plain": [
       "array([[23, 26, 23, 33, 33],\n",
       "       [14, 30, 12, 20, 28],\n",
       "       [12, 15, 22, 27, 23]])"
      ]
     },
     "execution_count": 49,
     "metadata": {},
     "output_type": "execute_result"
    }
   ],
   "source": [
    "tensor(a).numpy()"
   ]
  },
  {
   "cell_type": "code",
   "execution_count": 51,
   "id": "aa091858-b3e2-45cf-8b13-d0e1eb7e9a60",
   "metadata": {},
   "outputs": [],
   "source": [
    "# GPU Are optimized for matrix operations\n",
    "# GPU Can have parallel execution\n",
    "# Nvidia GPU use a cuda programming language \n",
    "# numpy is build to run on cpu\n",
    "# tensorflow and pytorch are implemented for GPU and exposed the api to python\n",
    "# we use pytorch to move data into gpu "
   ]
  },
  {
   "cell_type": "code",
   "execution_count": 55,
   "id": "76c0c3bd-3f32-4831-9b71-bf3791b97191",
   "metadata": {},
   "outputs": [],
   "source": [
    "import torch.nn as nn\n",
    "from torch.utils.data import TensorDataset, DataLoader"
   ]
  },
  {
   "cell_type": "code",
   "execution_count": 58,
   "id": "2153be44-fd51-4d71-8c09-bc84240ca442",
   "metadata": {},
   "outputs": [
    {
     "data": {
      "text/plain": [
       "tensor(1.)"
      ]
     },
     "execution_count": 58,
     "metadata": {},
     "output_type": "execute_result"
    }
   ],
   "source": [
    "z.grad"
   ]
  },
  {
   "cell_type": "code",
   "execution_count": null,
   "id": "70f0700e-ffe7-4747-8d5e-e11139bda8a0",
   "metadata": {},
   "outputs": [],
   "source": []
  }
 ],
 "metadata": {
  "kernelspec": {
   "display_name": "Python 3 (ipykernel)",
   "language": "python",
   "name": "python3"
  },
  "language_info": {
   "codemirror_mode": {
    "name": "ipython",
    "version": 3
   },
   "file_extension": ".py",
   "mimetype": "text/x-python",
   "name": "python",
   "nbconvert_exporter": "python",
   "pygments_lexer": "ipython3",
   "version": "3.11.5"
  }
 },
 "nbformat": 4,
 "nbformat_minor": 5
}
