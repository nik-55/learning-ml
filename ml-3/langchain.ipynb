{
 "cells": [
  {
   "cell_type": "code",
   "execution_count": 1,
   "id": "3f86d6c7-6fea-4e53-a997-91f0c040a461",
   "metadata": {},
   "outputs": [],
   "source": [
    "# LLama 2 - Open source LLM model by facebook"
   ]
  },
  {
   "cell_type": "code",
   "execution_count": 2,
   "id": "8cfe30c3-f306-4be6-8dc7-4612d8d70b72",
   "metadata": {},
   "outputs": [],
   "source": [
    "# vector databases - Text embeddings are stored in vector database\n",
    "# perform vector search"
   ]
  },
  {
   "cell_type": "code",
   "execution_count": 3,
   "id": "1a2ee5ee-b725-40a9-983c-91c2aa8f3441",
   "metadata": {},
   "outputs": [],
   "source": [
    "# Langchain is a open source framework for llm\n",
    "# available in python and js"
   ]
  },
  {
   "cell_type": "code",
   "execution_count": 4,
   "id": "cb7329a8-4ef8-44b6-bf6a-5dbbcbc1f713",
   "metadata": {},
   "outputs": [],
   "source": [
    "# Components - LLM wrappers, prompt templates\n",
    "# chains - combine multiple components\n",
    "# Agents"
   ]
  },
  {
   "cell_type": "code",
   "execution_count": 5,
   "id": "289f3502-4af5-4bb4-9ae0-5092a1b21509",
   "metadata": {},
   "outputs": [],
   "source": [
    "from langchain.llms import OpenAI"
   ]
  },
  {
   "cell_type": "code",
   "execution_count": 6,
   "id": "a4980da4-173c-4e58-bca9-edc85f546b93",
   "metadata": {},
   "outputs": [],
   "source": [
    "llm = OpenAI(temperature=0.3, api_key=\"api-key\") "
   ]
  },
  {
   "cell_type": "code",
   "execution_count": 7,
   "id": "2d0373c4-a460-45ad-8317-bb3fb27cbf0a",
   "metadata": {},
   "outputs": [],
   "source": [
    "# name = llm(\"Hello there\")"
   ]
  },
  {
   "cell_type": "code",
   "execution_count": 8,
   "id": "9d9161e7-e52a-4bf9-b89f-e428a0150555",
   "metadata": {},
   "outputs": [],
   "source": [
    "from langchain.prompts import PromptTemplate\n",
    "prompt = PromptTemplate(input_variables=['name', 'city'], template=\"My name is {name}. I am from {city}\")"
   ]
  },
  {
   "cell_type": "code",
   "execution_count": 9,
   "id": "ad4fba7f-9b1c-471c-912c-d30b5670f03f",
   "metadata": {},
   "outputs": [],
   "source": [
    "from langchain.chains import LLMChain"
   ]
  },
  {
   "cell_type": "code",
   "execution_count": 10,
   "id": "14b88f81-f6c4-4a4a-be03-c14fcf344562",
   "metadata": {},
   "outputs": [],
   "source": [
    "name = LLMChain(llm=llm, prompt=prompt)"
   ]
  },
  {
   "cell_type": "code",
   "execution_count": 11,
   "id": "9a00335f-f337-4732-a1bd-15f72195b196",
   "metadata": {},
   "outputs": [],
   "source": [
    "# name({'name':\"nikhil mahajan\", \"city\": \"India\"})"
   ]
  },
  {
   "cell_type": "code",
   "execution_count": 12,
   "id": "3eede181-46b9-4141-9027-30ebb8214049",
   "metadata": {},
   "outputs": [
    {
     "data": {
      "text/plain": [
       "'What is a good name for a company that makes colorful socks?'"
      ]
     },
     "execution_count": 12,
     "metadata": {},
     "output_type": "execute_result"
    }
   ],
   "source": [
    "from langchain.prompts import PromptTemplate\n",
    "\n",
    "prompt = PromptTemplate.from_template(\"What is a good name for a company that makes {product}?\")\n",
    "prompt.format(product=\"colorful socks\")"
   ]
  },
  {
   "cell_type": "code",
   "execution_count": 13,
   "id": "c91e7c81-dc78-47a1-88f6-d632e1f51f22",
   "metadata": {},
   "outputs": [],
   "source": [
    "from langchain.agents import load_tools, initialize_agent, AgentType"
   ]
  },
  {
   "cell_type": "code",
   "execution_count": 14,
   "id": "74c925e7-71c0-4cce-9fd8-6b2b59db155e",
   "metadata": {},
   "outputs": [],
   "source": [
    "tools = load_tools([\"wikipedia\", \"llm-math\"], llm=llm)"
   ]
  },
  {
   "cell_type": "code",
   "execution_count": 15,
   "id": "63d631b4-6c9c-4e66-889b-22fe1c4a3940",
   "metadata": {},
   "outputs": [],
   "source": [
    "# pip install wikipedia"
   ]
  },
  {
   "cell_type": "code",
   "execution_count": 16,
   "id": "8f9208a6-de95-44cf-a01a-7a229f3aa358",
   "metadata": {},
   "outputs": [],
   "source": [
    "agent = initialize_agent(\n",
    "    tools = tools,\n",
    "    llm=llm,\n",
    "    agent=AgentType.ZERO_SHOT_REACT_DESCRIPTION, verbose=True\n",
    ")"
   ]
  },
  {
   "cell_type": "code",
   "execution_count": 17,
   "id": "71ed5dc7-41e6-40ea-95e9-678c3aadc6bc",
   "metadata": {},
   "outputs": [],
   "source": [
    "# agent.run(\"what is the averGE age of dog? multiply the age by 4\")"
   ]
  },
  {
   "cell_type": "code",
   "execution_count": null,
   "id": "d7d053b0-7ce5-4cf1-81af-151338570294",
   "metadata": {},
   "outputs": [],
   "source": []
  },
  {
   "cell_type": "code",
   "execution_count": 18,
   "id": "625127f0-4f28-4fd4-93cf-fc9c0f93b795",
   "metadata": {},
   "outputs": [],
   "source": [
    "from langchain.document_loaders import YoutubeLoader\n",
    "from langchain.text_splitter import RecursiveCharacterTextSplitter\n",
    "from langchain.vectorstores import FAISS\n",
    "from langchain.embeddings.openai import OpenAIEmbeddings"
   ]
  },
  {
   "cell_type": "code",
   "execution_count": 19,
   "id": "e5829d77-57f5-4e96-8131-7b61e4a8c240",
   "metadata": {},
   "outputs": [],
   "source": [
    "embeddings = OpenAIEmbeddings(api_key=\"open-api-key\")"
   ]
  },
  {
   "cell_type": "code",
   "execution_count": 20,
   "id": "071a5b76-2982-4ddf-994b-bc830e4a1281",
   "metadata": {},
   "outputs": [],
   "source": [
    "loader = YoutubeLoader.from_youtube_url(\"https://www.youtube.com/watch?v=lG7Uxts9SXs\")"
   ]
  },
  {
   "cell_type": "code",
   "execution_count": 21,
   "id": "3ab80aee-216c-4629-8f4c-7b9603696e2a",
   "metadata": {},
   "outputs": [],
   "source": [
    "transcript = loader.load()"
   ]
  },
  {
   "cell_type": "code",
   "execution_count": 22,
   "id": "5cbb8fb5-3afb-4a78-a522-aeb95bb8f637",
   "metadata": {},
   "outputs": [],
   "source": [
    "# pip install youtube-transcript-api"
   ]
  },
  {
   "cell_type": "code",
   "execution_count": 23,
   "id": "3b86e15a-b7f8-48f0-84c7-7047ec6204c7",
   "metadata": {},
   "outputs": [],
   "source": [
    "splitter = RecursiveCharacterTextSplitter(chunk_size=1000, chunk_overlap=100)"
   ]
  },
  {
   "cell_type": "code",
   "execution_count": 24,
   "id": "a8ecc3b1-11b0-43a9-b121-bf7e51c7a20a",
   "metadata": {},
   "outputs": [
    {
     "data": {
      "text/plain": [
       "57"
      ]
     },
     "execution_count": 24,
     "metadata": {},
     "output_type": "execute_result"
    }
   ],
   "source": [
    "docs = splitter.split_documents(transcript)\n",
    "len(docs)"
   ]
  },
  {
   "cell_type": "code",
   "execution_count": 25,
   "id": "0be9fc3f-d547-4920-8084-b618b1f37c82",
   "metadata": {},
   "outputs": [],
   "source": [
    "# docs[0]"
   ]
  },
  {
   "cell_type": "code",
   "execution_count": 29,
   "id": "5c11a29f-7e21-45cb-83cf-2c328876ee64",
   "metadata": {},
   "outputs": [],
   "source": [
    "# db = FAISS.from_documents(docs, embedding=embeddings)"
   ]
  },
  {
   "cell_type": "code",
   "execution_count": 31,
   "id": "c1508060-26f9-43a1-a005-5ff7d52ca314",
   "metadata": {},
   "outputs": [],
   "source": [
    "# pip install tiktoken"
   ]
  },
  {
   "cell_type": "code",
   "execution_count": 32,
   "id": "c2bbe4f8-ad41-4d4a-9404-8097c14bd097",
   "metadata": {},
   "outputs": [],
   "source": [
    "# query = \"Quantum computers are great\"\n",
    "# db.similarity_search(query, k=number_of_document_in_response)"
   ]
  },
  {
   "cell_type": "code",
   "execution_count": null,
   "id": "2bc05fa1-dc83-4526-8e40-d19380537b70",
   "metadata": {},
   "outputs": [],
   "source": []
  }
 ],
 "metadata": {
  "kernelspec": {
   "display_name": "Python 3 (ipykernel)",
   "language": "python",
   "name": "python3"
  },
  "language_info": {
   "codemirror_mode": {
    "name": "ipython",
    "version": 3
   },
   "file_extension": ".py",
   "mimetype": "text/x-python",
   "name": "python",
   "nbconvert_exporter": "python",
   "pygments_lexer": "ipython3",
   "version": "3.11.5"
  }
 },
 "nbformat": 4,
 "nbformat_minor": 5
}
