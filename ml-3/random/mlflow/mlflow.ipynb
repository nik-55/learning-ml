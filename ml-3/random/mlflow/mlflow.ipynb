{
 "cells": [
  {
   "cell_type": "code",
   "execution_count": 1,
   "id": "2d2d7acc-b17c-4194-b390-6617a8ac0dd9",
   "metadata": {},
   "outputs": [],
   "source": [
    "# https://mlflow.org/\n",
    "# MLflow is an open source platform to manage the ML lifecycle, including experimentation, \n",
    "# reproducibility, deployment, and a central model registry\n",
    "# pip install mlflow"
   ]
  },
  {
   "cell_type": "code",
   "execution_count": null,
   "id": "12e74281-e2b0-4f95-97a5-3101b2653fde",
   "metadata": {},
   "outputs": [],
   "source": []
  },
  {
   "cell_type": "code",
   "execution_count": null,
   "id": "f51d62ef-e65c-46c6-bbba-743234800a6c",
   "metadata": {},
   "outputs": [],
   "source": []
  }
 ],
 "metadata": {
  "kernelspec": {
   "display_name": "Python 3 (ipykernel)",
   "language": "python",
   "name": "python3"
  },
  "language_info": {
   "codemirror_mode": {
    "name": "ipython",
    "version": 3
   },
   "file_extension": ".py",
   "mimetype": "text/x-python",
   "name": "python",
   "nbconvert_exporter": "python",
   "pygments_lexer": "ipython3",
   "version": "3.11.5"
  }
 },
 "nbformat": 4,
 "nbformat_minor": 5
}
