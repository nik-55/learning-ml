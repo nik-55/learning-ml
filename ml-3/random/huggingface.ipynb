{
 "cells": [
  {
   "cell_type": "code",
   "execution_count": null,
   "id": "7a4b1252-b791-41bb-bb3f-ba8e14154592",
   "metadata": {},
   "outputs": [],
   "source": [
    "# hugging face library is most popular open source library for NLP tasks\n",
    "\n",
    "from transformers import pipeline"
   ]
  },
  {
   "cell_type": "code",
   "execution_count": null,
   "id": "8369b970-d080-48bb-a985-ce8590eab2f5",
   "metadata": {},
   "outputs": [],
   "source": [
    "classifier = pipeline(\"sentiment-analysis\")\n",
    "# nlp task - sentiment-analysis"
   ]
  },
  {
   "cell_type": "code",
   "execution_count": null,
   "id": "600dd70e-3bc3-4aa1-8477-6cc53e37975a",
   "metadata": {},
   "outputs": [],
   "source": [
    "response = classifier(\"I am forced to learn about hugging face\")\n",
    "print(response)"
   ]
  },
  {
   "cell_type": "code",
   "execution_count": null,
   "id": "93103e68-4015-4de0-9359-347c2bf64253",
   "metadata": {},
   "outputs": [],
   "source": [
    "generator = pipeline(\"text-generation\", model=\"distilgpt2\")"
   ]
  },
  {
   "cell_type": "code",
   "execution_count": null,
   "id": "2cda950f-b249-4f7b-8549-e4924b360df4",
   "metadata": {},
   "outputs": [],
   "source": [
    "response = generator(\"In this course i will teach you how to\",  max_length=23)\n",
    "print(response)"
   ]
  },
  {
   "cell_type": "code",
   "execution_count": null,
   "id": "f3910197-2923-4d33-9098-fcab92632058",
   "metadata": {},
   "outputs": [],
   "source": [
    "translator = pipeline(\"translation_en_to_fr\", model=\"t5-small\")"
   ]
  },
  {
   "cell_type": "code",
   "execution_count": null,
   "id": "6797771d-3986-48eb-b598-4f28985834d2",
   "metadata": {},
   "outputs": [],
   "source": [
    "translator(\"Hello I am from India\")"
   ]
  },
  {
   "cell_type": "code",
   "execution_count": null,
   "id": "84391c93-f27c-4477-8bbf-46d1cf89cb23",
   "metadata": {},
   "outputs": [],
   "source": [
    "from transformers import AutoTokenizer, AutoModelForSequenceClassification"
   ]
  },
  {
   "cell_type": "code",
   "execution_count": null,
   "id": "d95b000d-91e5-44b0-8d27-b4a96d977569",
   "metadata": {},
   "outputs": [],
   "source": [
    "model_name = \"distilbert-base-uncased-finetuned-sst-2-english\""
   ]
  },
  {
   "cell_type": "code",
   "execution_count": null,
   "id": "610cb580-e11f-4195-a7a8-49e7194a7788",
   "metadata": {},
   "outputs": [],
   "source": [
    "model = AutoModelForSequenceClassification.from_pretrained(model_name)"
   ]
  },
  {
   "cell_type": "code",
   "execution_count": null,
   "id": "fee401da-4f66-47f1-b402-bfff2ad965bc",
   "metadata": {},
   "outputs": [],
   "source": [
    "tokenizer = AutoTokenizer.from_pretrained(model_name)"
   ]
  },
  {
   "cell_type": "code",
   "execution_count": null,
   "id": "406fb817-b12f-49d2-9a0b-4d9e42937b45",
   "metadata": {},
   "outputs": [],
   "source": [
    "classifier = pipeline(\"sentiment-analysis\", model=model, tokenizer=tokenizer)"
   ]
  },
  {
   "cell_type": "code",
   "execution_count": null,
   "id": "63099557-1e4c-4b30-b9bf-48265551f829",
   "metadata": {},
   "outputs": [],
   "source": [
    "response = classifier(\"I am forced to learn about hugging face\")\n",
    "print(response)"
   ]
  },
  {
   "cell_type": "code",
   "execution_count": null,
   "id": "eb77b395-daa5-4815-9dc0-5e9ea22bb711",
   "metadata": {},
   "outputs": [],
   "source": [
    "sequence = \"I am forced to learn about hugging face\""
   ]
  },
  {
   "cell_type": "code",
   "execution_count": null,
   "id": "63537f4c-0946-4913-88e4-be748e1ab594",
   "metadata": {},
   "outputs": [],
   "source": [
    "tokenizer(sequence)"
   ]
  },
  {
   "cell_type": "code",
   "execution_count": null,
   "id": "1692a877-59c5-4377-b10e-ac56ba624fbe",
   "metadata": {},
   "outputs": [],
   "source": [
    "tokens = tokenizer.tokenize(sequence)\n",
    "tokens"
   ]
  },
  {
   "cell_type": "code",
   "execution_count": null,
   "id": "bd210400-0225-4f56-8766-6bd9ed292114",
   "metadata": {},
   "outputs": [],
   "source": [
    "ids = tokenizer.convert_tokens_to_ids(tokens)"
   ]
  },
  {
   "cell_type": "code",
   "execution_count": null,
   "id": "bf51160d-8254-40f7-b9ee-63623d593651",
   "metadata": {},
   "outputs": [],
   "source": [
    "tokenizer.decode(ids)"
   ]
  },
  {
   "cell_type": "code",
   "execution_count": null,
   "id": "e72ea5de-0523-43d6-963d-cc605c793361",
   "metadata": {},
   "outputs": [],
   "source": [
    "input_ids = tokenizer(sequence)['input_ids']\n",
    "input_ids"
   ]
  },
  {
   "cell_type": "code",
   "execution_count": null,
   "id": "384913b1-df45-4513-b0bf-083cfb71d132",
   "metadata": {},
   "outputs": [],
   "source": [
    "tokenizer.decode(input_ids)"
   ]
  },
  {
   "cell_type": "code",
   "execution_count": null,
   "id": "07856ef6-1889-4678-804a-aa4c6f07153f",
   "metadata": {},
   "outputs": [],
   "source": []
  },
  {
   "cell_type": "code",
   "execution_count": null,
   "id": "d8b50771-9e6e-46d0-b4b1-25f53fe52b92",
   "metadata": {},
   "outputs": [],
   "source": [
    "import torch\n",
    "import torch.nn.functional as F"
   ]
  },
  {
   "cell_type": "code",
   "execution_count": null,
   "id": "2923c92a-f1a1-4538-87a2-a1b54fd9e460",
   "metadata": {},
   "outputs": [],
   "source": [
    "batch = tokenizer([sequence], return_tensors=\"pt\")\n",
    "batch"
   ]
  },
  {
   "cell_type": "code",
   "execution_count": null,
   "id": "5bd94cb9-bffa-4606-b292-edc671762a8d",
   "metadata": {},
   "outputs": [],
   "source": [
    "with torch.no_grad():\n",
    "    outputs = model(**batch)\n",
    "    print(outputs)\n",
    "    predictions = F.softmax(outputs.logits, dim=1)\n",
    "    print(predictions)\n",
    "    labels = torch.argmax(predictions)\n",
    "    print(labels)"
   ]
  },
  {
   "cell_type": "code",
   "execution_count": null,
   "id": "7ae425a8-00b3-4e53-9d89-70c42b5b7bf3",
   "metadata": {},
   "outputs": [],
   "source": []
  },
  {
   "cell_type": "code",
   "execution_count": null,
   "id": "78c364bf-52d1-4724-a0d8-b0103835945d",
   "metadata": {},
   "outputs": [],
   "source": [
    "# Fine tuning - \n",
    "# Prepare dataset\n",
    "# Load pretrained tokenizer, call it with datasets - encoding\n",
    "# build pytorch dataset with encodings\n",
    "# load pretrained model"
   ]
  },
  {
   "cell_type": "code",
   "execution_count": null,
   "id": "85ce78ba-9862-40a9-84f7-6275a69fba10",
   "metadata": {},
   "outputs": [],
   "source": [
    "from transformers import Trainer, TrainingArguments"
   ]
  },
  {
   "cell_type": "code",
   "execution_count": null,
   "id": "a5dad6fc-5f08-4487-b07f-407b8b6624a1",
   "metadata": {},
   "outputs": [],
   "source": [
    "# from torch.utils.data import Dataset, DataLoader"
   ]
  },
  {
   "cell_type": "code",
   "execution_count": null,
   "id": "e06913aa-debb-4275-9aad-cf47f9f8bb7b",
   "metadata": {},
   "outputs": [],
   "source": []
  }
 ],
 "metadata": {
  "kernelspec": {
   "display_name": "Python 3 (ipykernel)",
   "language": "python",
   "name": "python3"
  },
  "language_info": {
   "codemirror_mode": {
    "name": "ipython",
    "version": 3
   },
   "file_extension": ".py",
   "mimetype": "text/x-python",
   "name": "python",
   "nbconvert_exporter": "python",
   "pygments_lexer": "ipython3",
   "version": "3.11.5"
  }
 },
 "nbformat": 4,
 "nbformat_minor": 5
}
