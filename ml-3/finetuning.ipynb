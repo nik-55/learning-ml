{
 "cells": [
  {
   "cell_type": "code",
   "execution_count": null,
   "id": "6ac1a219-4a98-4a6d-a24f-493f4db7e415",
   "metadata": {},
   "outputs": [],
   "source": [
    "# https://www.youtube.com/watch?v=eC6Hd1hFvos"
   ]
  }
 ],
 "metadata": {
  "kernelspec": {
   "display_name": "Python 3 (ipykernel)",
   "language": "python",
   "name": "python3"
  },
  "language_info": {
   "codemirror_mode": {
    "name": "ipython",
    "version": 3
   },
   "file_extension": ".py",
   "mimetype": "text/x-python",
   "name": "python",
   "nbconvert_exporter": "python",
   "pygments_lexer": "ipython3",
   "version": "3.11.5"
  }
 },
 "nbformat": 4,
 "nbformat_minor": 5
}
