{
 "cells": [
  {
   "cell_type": "code",
   "execution_count": null,
   "id": "910ef455",
   "metadata": {},
   "outputs": [],
   "source": [
    "import numpy as np\n",
    "import pandas as pd"
   ]
  },
  {
   "cell_type": "code",
   "execution_count": null,
   "id": "51a122b8",
   "metadata": {},
   "outputs": [],
   "source": [
    "dict1 = {\n",
    "    \"name\":[\"harry\",\"nikhil\",\"nikunja\"],\n",
    "    \"marks\":[90,99,91],\n",
    "    \"city\":[\"jaipur\",\"delhi\",\"indore\"]\n",
    "}"
   ]
  },
  {
   "cell_type": "code",
   "execution_count": null,
   "id": "302dc1cc",
   "metadata": {},
   "outputs": [],
   "source": [
    "df = pd.DataFrame(dict1)"
   ]
  },
  {
   "cell_type": "code",
   "execution_count": null,
   "id": "f787cf0b",
   "metadata": {},
   "outputs": [],
   "source": [
    "df"
   ]
  },
  {
   "cell_type": "code",
   "execution_count": null,
   "id": "a22e2e43",
   "metadata": {},
   "outputs": [],
   "source": [
    "# df.to_csv(\"friends.csv\")\n",
    "df.to_csv(\"friends.csv\",index=False)"
   ]
  },
  {
   "cell_type": "code",
   "execution_count": null,
   "id": "dc49c26a",
   "metadata": {},
   "outputs": [],
   "source": [
    "df.head(2)"
   ]
  },
  {
   "cell_type": "code",
   "execution_count": null,
   "id": "2163e393",
   "metadata": {},
   "outputs": [],
   "source": [
    "df.tail(2)"
   ]
  },
  {
   "cell_type": "code",
   "execution_count": null,
   "id": "e3149f52",
   "metadata": {},
   "outputs": [],
   "source": [
    "df.describe()"
   ]
  },
  {
   "cell_type": "code",
   "execution_count": null,
   "id": "dfa5dfc0",
   "metadata": {},
   "outputs": [],
   "source": [
    "csv = pd.read_csv('friends.csv')"
   ]
  },
  {
   "cell_type": "code",
   "execution_count": null,
   "id": "ba58eb3c",
   "metadata": {},
   "outputs": [],
   "source": [
    "csv"
   ]
  },
  {
   "cell_type": "code",
   "execution_count": null,
   "id": "8fa777fe",
   "metadata": {},
   "outputs": [],
   "source": [
    "csv['marks'][0]"
   ]
  },
  {
   "cell_type": "code",
   "execution_count": null,
   "id": "1893599e",
   "metadata": {},
   "outputs": [],
   "source": [
    "# pandas is a open source data analysis library written in python\n",
    "# csv['name'] = series\n",
    "series = pd.Series(np.random.rand(34))\n",
    "series"
   ]
  },
  {
   "cell_type": "code",
   "execution_count": null,
   "id": "c3cb4578",
   "metadata": {},
   "outputs": [],
   "source": [
    "newdf = pd.DataFrame(np.random.rand(334,6))\n",
    "newdf\n",
    "# type(newdf)"
   ]
  },
  {
   "cell_type": "code",
   "execution_count": null,
   "id": "516330ae",
   "metadata": {},
   "outputs": [],
   "source": [
    "newdf.index"
   ]
  },
  {
   "cell_type": "code",
   "execution_count": null,
   "id": "8e140d8f",
   "metadata": {},
   "outputs": [],
   "source": [
    "newdf.columns"
   ]
  },
  {
   "cell_type": "code",
   "execution_count": null,
   "id": "9e9bf641",
   "metadata": {},
   "outputs": [],
   "source": [
    "arr = newdf.to_numpy()"
   ]
  },
  {
   "cell_type": "code",
   "execution_count": null,
   "id": "b92e8f4b",
   "metadata": {},
   "outputs": [],
   "source": [
    "# newdf2 = newdf --> newdf2 is just refering to same thing that newdf refering to like pointers and hence newdf is not actually\n",
    "# copy to newdf2"
   ]
  },
  {
   "cell_type": "code",
   "execution_count": null,
   "id": "231ed6bb",
   "metadata": {},
   "outputs": [],
   "source": [
    "newdf2 = newdf.copy()\n",
    "newdf2.loc[1,2] = 11 # 1st row and 2nd column\n",
    "newdf.head()"
   ]
  },
  {
   "cell_type": "code",
   "execution_count": null,
   "id": "7652bcae",
   "metadata": {},
   "outputs": [],
   "source": [
    "newdf2.head()"
   ]
  },
  {
   "cell_type": "code",
   "execution_count": null,
   "id": "6341fe55",
   "metadata": {},
   "outputs": [],
   "source": [
    "newdf2.columns = list(\"ABCDEF\")\n",
    "newdf2.head(3)"
   ]
  },
  {
   "cell_type": "code",
   "execution_count": null,
   "id": "5db34f96",
   "metadata": {},
   "outputs": [],
   "source": [
    "# newdf.drop(0,axis=1) axis = 1 --> column and axis = 0 --> row\n",
    "newdf3=newdf2.loc[[1,2],['C','D','E']]\n",
    "# newdf3=newdf2.iloc[[1,2],1:3]\n",
    "newdf3.reset_index(inplace=True)\n",
    "newdf3.drop('index',axis=1,inplace=True)\n",
    "newdf3"
   ]
  },
  {
   "cell_type": "code",
   "execution_count": null,
   "id": "eaef7d36",
   "metadata": {},
   "outputs": [],
   "source": [
    "# newdf3['C'][0]\n",
    "newdf3.iloc[0,2]"
   ]
  },
  {
   "cell_type": "code",
   "execution_count": null,
   "id": "662dc230",
   "metadata": {},
   "outputs": [],
   "source": [
    "df.drop(1,axis=0)"
   ]
  },
  {
   "cell_type": "code",
   "execution_count": null,
   "id": "40373ea6",
   "metadata": {},
   "outputs": [],
   "source": [
    "newdf3 = df.drop(1,axis=0).copy()\n",
    "newdf3.to_numpy()"
   ]
  },
  {
   "cell_type": "code",
   "execution_count": null,
   "id": "aec137e7",
   "metadata": {},
   "outputs": [],
   "source": [
    "newdf2.loc[[1,2],['C','D','E']] = df.drop(1,axis=0).to_numpy()\n",
    "newdf2.head(4)"
   ]
  },
  {
   "cell_type": "code",
   "execution_count": null,
   "id": "068d47f8",
   "metadata": {},
   "outputs": [],
   "source": [
    "newdf2['A']"
   ]
  },
  {
   "cell_type": "code",
   "execution_count": null,
   "id": "5449a908",
   "metadata": {},
   "outputs": [],
   "source": [
    "newdf2.loc[(newdf2['A']<0.3)&(newdf2['F']>0.1)]"
   ]
  },
  {
   "cell_type": "code",
   "execution_count": null,
   "id": "96c809c5",
   "metadata": {},
   "outputs": [],
   "source": [
    "newdf2.loc[:,['A']] = None\n",
    "newdf2.loc[(newdf2['B']>0.2),['A']] = 56\n",
    "newdf2.isnull()"
   ]
  },
  {
   "cell_type": "code",
   "execution_count": null,
   "id": "4969efb4",
   "metadata": {},
   "outputs": [],
   "source": [
    "newdf2.dropna()['A'].to_numpy()"
   ]
  },
  {
   "cell_type": "code",
   "execution_count": null,
   "id": "e9ec4fba",
   "metadata": {},
   "outputs": [],
   "source": [
    "newdf2['A'].value_counts(dropna=True)"
   ]
  },
  {
   "cell_type": "code",
   "execution_count": null,
   "id": "4fad89bc",
   "metadata": {},
   "outputs": [],
   "source": [
    "# pd.read_excel('data.xlsx')"
   ]
  }
 ],
 "metadata": {
  "kernelspec": {
   "display_name": "Python 3 (ipykernel)",
   "language": "python",
   "name": "python3"
  },
  "language_info": {
   "codemirror_mode": {
    "name": "ipython",
    "version": 3
   },
   "file_extension": ".py",
   "mimetype": "text/x-python",
   "name": "python",
   "nbconvert_exporter": "python",
   "pygments_lexer": "ipython3",
   "version": "3.10.6 (tags/v3.10.6:9c7b4bd, Aug  1 2022, 21:53:49) [MSC v.1932 64 bit (AMD64)]"
  },
  "vscode": {
   "interpreter": {
    "hash": "369f2c481f4da34e4445cda3fffd2e751bd1c4d706f27375911949ba6bb62e1c"
   }
  }
 },
 "nbformat": 4,
 "nbformat_minor": 5
}
