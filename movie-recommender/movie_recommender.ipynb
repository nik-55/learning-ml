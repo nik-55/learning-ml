{
 "cells": [
  {
   "cell_type": "markdown",
   "id": "c70526ca",
   "metadata": {},
   "source": [
    "### Preprocessing of Data"
   ]
  },
  {
   "cell_type": "code",
   "execution_count": null,
   "id": "ebd5a2aa",
   "metadata": {},
   "outputs": [],
   "source": [
    "# kaggle (tmdb 5000 movies dataset)\n",
    "import pandas as pd\n",
    "import numpy as np\n",
    "import matplotlib.pyplot as plt"
   ]
  },
  {
   "cell_type": "code",
   "execution_count": null,
   "id": "f3bd8ffc",
   "metadata": {},
   "outputs": [],
   "source": [
    "credits = pd.read_csv(\"tmdb_5000_credits.csv\")\n",
    "movies = pd.read_csv(\"tmdb_5000_movies.csv\")"
   ]
  },
  {
   "cell_type": "code",
   "execution_count": null,
   "id": "3ef7ad58",
   "metadata": {},
   "outputs": [],
   "source": [
    "credits.head()"
   ]
  },
  {
   "cell_type": "code",
   "execution_count": null,
   "id": "12f60cc6",
   "metadata": {},
   "outputs": [],
   "source": [
    "credits.shape"
   ]
  },
  {
   "cell_type": "code",
   "execution_count": null,
   "id": "591ce77f",
   "metadata": {},
   "outputs": [],
   "source": [
    "credits.info()"
   ]
  },
  {
   "cell_type": "code",
   "execution_count": null,
   "id": "ad0b5470",
   "metadata": {},
   "outputs": [],
   "source": [
    "movies.head()"
   ]
  },
  {
   "cell_type": "code",
   "execution_count": null,
   "id": "5139241e",
   "metadata": {},
   "outputs": [],
   "source": [
    "movies.shape"
   ]
  },
  {
   "cell_type": "code",
   "execution_count": null,
   "id": "348af4ff",
   "metadata": {},
   "outputs": [],
   "source": [
    "movies.info()\n",
    "# contain null values"
   ]
  },
  {
   "cell_type": "code",
   "execution_count": null,
   "id": "90065e85",
   "metadata": {},
   "outputs": [],
   "source": [
    "# merging the two data sets\n",
    "# movies.loc[movies['id']==credits['movie_id'],['cast','crew']] = credits.loc[movies['id']==credits['movie_id'],['cast','crew']]\n",
    "movies_data = movies.merge(credits,on='title')"
   ]
  },
  {
   "cell_type": "code",
   "execution_count": null,
   "id": "31d84177",
   "metadata": {},
   "outputs": [],
   "source": [
    "movies_data.shape"
   ]
  },
  {
   "cell_type": "code",
   "execution_count": null,
   "id": "2ff525d6",
   "metadata": {},
   "outputs": [],
   "source": [
    "movies_data.head(1)"
   ]
  },
  {
   "cell_type": "code",
   "execution_count": null,
   "id": "6576b004",
   "metadata": {},
   "outputs": [],
   "source": [
    "credits.head(1)"
   ]
  },
  {
   "cell_type": "code",
   "execution_count": null,
   "id": "30a30745",
   "metadata": {},
   "outputs": [],
   "source": [
    "movies_data.info()"
   ]
  },
  {
   "cell_type": "code",
   "execution_count": null,
   "id": "34f4b332",
   "metadata": {},
   "outputs": [],
   "source": [
    "# removing unneccessary columns\n",
    "movies_data = movies_data[['movie_id','title','cast','crew','genres','keywords']].copy()\n",
    "movies_data.head(3)"
   ]
  },
  {
   "cell_type": "code",
   "execution_count": null,
   "id": "0b41b50d",
   "metadata": {},
   "outputs": [],
   "source": [
    "movies_data.shape"
   ]
  },
  {
   "cell_type": "code",
   "execution_count": null,
   "id": "5aaf2c38",
   "metadata": {},
   "outputs": [],
   "source": [
    "movies_data.isnull().sum(axis=0)\n",
    "# 3 null in overview as these are very small we will drop these 3 rows\n",
    "movies_data.dropna(inplace=True)"
   ]
  },
  {
   "cell_type": "code",
   "execution_count": null,
   "id": "b1007c8a",
   "metadata": {},
   "outputs": [],
   "source": [
    "movies_data.isnull().sum()"
   ]
  },
  {
   "cell_type": "code",
   "execution_count": null,
   "id": "d253ac03",
   "metadata": {},
   "outputs": [],
   "source": [
    "movies_data.duplicated().sum()\n",
    "# no duplicated rows are there"
   ]
  },
  {
   "cell_type": "code",
   "execution_count": null,
   "id": "83b8dbf6",
   "metadata": {},
   "outputs": [],
   "source": [
    " movies_data.iloc[0].genres"
   ]
  },
  {
   "cell_type": "code",
   "execution_count": null,
   "id": "d78ad4ee",
   "metadata": {},
   "outputs": [],
   "source": [
    "movies_data.iloc[0].keywords"
   ]
  },
  {
   "cell_type": "code",
   "execution_count": null,
   "id": "ce313ecc",
   "metadata": {},
   "outputs": [],
   "source": [
    "# movies_data.iloc[0].cast"
   ]
  },
  {
   "cell_type": "code",
   "execution_count": null,
   "id": "09118c22",
   "metadata": {},
   "outputs": [],
   "source": [
    "# movies_data.iloc[0].crew"
   ]
  },
  {
   "cell_type": "code",
   "execution_count": null,
   "id": "1279236e",
   "metadata": {},
   "outputs": [],
   "source": [
    "from ast import literal_eval\n",
    "def convert(obj):\n",
    "    newobj = literal_eval(obj)\n",
    "    str = []\n",
    "    for i in newobj:\n",
    "        str.append(i['name'].replace(\" \",\"\"))\n",
    "    return str\n",
    "\n",
    "def convert_3(obj):\n",
    "    newobj = literal_eval(obj)\n",
    "    if(len(newobj)>3):\n",
    "        newobj=newobj[0:3]\n",
    "    str = []\n",
    "    for i in newobj:\n",
    "        str.append(i['name'].replace(\" \",\"\"))\n",
    "    return str\n",
    "\n",
    "def convert_crew(obj):\n",
    "    newobj = literal_eval(obj)\n",
    "    str = []\n",
    "    for i in newobj:\n",
    "        if i['job'] == 'Director':\n",
    "            str.append(i['name'].replace(\" \",\"\"))\n",
    "    return str"
   ]
  },
  {
   "cell_type": "code",
   "execution_count": null,
   "id": "33c706d9",
   "metadata": {},
   "outputs": [],
   "source": [
    "movies_data.loc[:,['genres']] = movies_data.loc[:,'genres'].apply(convert)\n",
    "movies_data.loc[:,['keywords']] = movies_data.loc[:,'keywords'].apply(convert)\n",
    "movies_data.loc[:,['cast']] = movies_data.loc[:,'cast'].apply(convert_3)\n",
    "movies_data.loc[:,['crew']] = movies_data.loc[:,'crew'].apply(convert_crew)\n",
    "movies_data.loc[:,['title']] = movies_data.loc[:,'title'].apply(lambda x: x.lower())"
   ]
  },
  {
   "cell_type": "code",
   "execution_count": null,
   "id": "0d01c181",
   "metadata": {},
   "outputs": [],
   "source": [
    "movies_data.head(5)"
   ]
  },
  {
   "cell_type": "code",
   "execution_count": null,
   "id": "e0e9e6fa",
   "metadata": {},
   "outputs": [],
   "source": [
    "movies_data['tags'] = (movies_data['genres']+movies_data['crew']+movies_data['cast']+movies_data['keywords']).copy()"
   ]
  },
  {
   "cell_type": "code",
   "execution_count": null,
   "id": "c55c93b0",
   "metadata": {},
   "outputs": [],
   "source": [
    "movies_data = movies_data[['movie_id','tags','title']].copy()"
   ]
  },
  {
   "cell_type": "code",
   "execution_count": null,
   "id": "9d55b5fc",
   "metadata": {},
   "outputs": [],
   "source": [
    "movies_data.head()"
   ]
  },
  {
   "cell_type": "code",
   "execution_count": null,
   "id": "caa91e9d",
   "metadata": {},
   "outputs": [],
   "source": [
    "movies_data['tags'] = movies_data.loc[:,'tags'].apply(lambda x: \" \".join(x)).apply(lambda x: x.lower())\n",
    "# join means join them using \" \""
   ]
  },
  {
   "cell_type": "code",
   "execution_count": null,
   "id": "a9c3c13f",
   "metadata": {},
   "outputs": [],
   "source": [
    "movies_data.head()"
   ]
  },
  {
   "cell_type": "code",
   "execution_count": null,
   "id": "89a09629",
   "metadata": {},
   "outputs": [],
   "source": [
    "movies_data['tags'][0]"
   ]
  },
  {
   "cell_type": "markdown",
   "id": "7a7c0005",
   "metadata": {},
   "source": [
    "### Text vectorization (bag of words)"
   ]
  },
  {
   "cell_type": "code",
   "execution_count": null,
   "id": "65a753c5",
   "metadata": {},
   "outputs": [],
   "source": [
    "from sklearn.feature_extraction.text import CountVectorizer\n",
    "cv = CountVectorizer(max_features=5000)\n",
    "vectors = cv.fit_transform(movies_data['tags']).toarray()\n",
    "vectors"
   ]
  },
  {
   "cell_type": "code",
   "execution_count": null,
   "id": "57e39cf8",
   "metadata": {},
   "outputs": [],
   "source": [
    "cv.get_feature_names()"
   ]
  },
  {
   "cell_type": "code",
   "execution_count": null,
   "id": "2e5948c5",
   "metadata": {},
   "outputs": [],
   "source": [
    "vectors.shape"
   ]
  },
  {
   "cell_type": "code",
   "execution_count": null,
   "id": "3ec758c3",
   "metadata": {},
   "outputs": [],
   "source": [
    "from sklearn.metrics.pairwise import cosine_similarity\n",
    "similarity_matrix = cosine_similarity(vectors)"
   ]
  },
  {
   "cell_type": "code",
   "execution_count": null,
   "id": "791f5605",
   "metadata": {},
   "outputs": [],
   "source": [
    "similarity_matrix[0]"
   ]
  },
  {
   "cell_type": "code",
   "execution_count": null,
   "id": "d21f4d0e",
   "metadata": {},
   "outputs": [],
   "source": [
    "similarity_matrix[0].shape"
   ]
  },
  {
   "cell_type": "code",
   "execution_count": null,
   "id": "8180053e",
   "metadata": {},
   "outputs": [],
   "source": [
    "def sort_matrix(matrix):\n",
    "    distances = list(enumerate(matrix))\n",
    "    return sorted(distances,reverse=True,key=lambda x: x[1])"
   ]
  },
  {
   "cell_type": "code",
   "execution_count": null,
   "id": "394537be",
   "metadata": {},
   "outputs": [],
   "source": [
    "similarity_matrix = [sort_matrix(matrix) for matrix in similarity_matrix]\n",
    "# similarity_matrix[0]"
   ]
  },
  {
   "cell_type": "markdown",
   "id": "97bef9e2",
   "metadata": {},
   "source": [
    "### Recommend"
   ]
  },
  {
   "cell_type": "code",
   "execution_count": null,
   "id": "54b80fa7",
   "metadata": {},
   "outputs": [],
   "source": [
    "def recommend(movie):\n",
    "    movie_index = movies_data[movies_data['title']==movie.lower()].index[0]\n",
    "    distances = similarity_matrix[movie_index]\n",
    "    recommend_movies_index = [index[0] for index in distances[1:6]]\n",
    "    return movies_data.loc[recommend_movies_index,['movie_id','title']].reset_index()"
   ]
  },
  {
   "cell_type": "code",
   "execution_count": null,
   "id": "e1dbf4e4",
   "metadata": {},
   "outputs": [],
   "source": [
    "recommend('Avatar')"
   ]
  },
  {
   "cell_type": "code",
   "execution_count": null,
   "id": "1af06a1e",
   "metadata": {},
   "outputs": [],
   "source": [
    "recommend('batman begins')"
   ]
  },
  {
   "cell_type": "code",
   "execution_count": null,
   "id": "14247495",
   "metadata": {},
   "outputs": [],
   "source": [
    "recommend('the avengers')\n",
    "# dump the movies_data as dict and similarity_matrix \n",
    "# load these in app.py and rewrite above recommend function there\n",
    "# now in app.py create website and create a select box for movie by using movies_data\n",
    "# clicking on the recommend button trigger recommend function written in app.py itself"
   ]
  }
 ],
 "metadata": {
  "kernelspec": {
   "display_name": "Python 3 (ipykernel)",
   "language": "python",
   "name": "python3"
  },
  "language_info": {
   "codemirror_mode": {
    "name": "ipython",
    "version": 3
   },
   "file_extension": ".py",
   "mimetype": "text/x-python",
   "name": "python",
   "nbconvert_exporter": "python",
   "pygments_lexer": "ipython3",
   "version": "3.9.12"
  }
 },
 "nbformat": 4,
 "nbformat_minor": 5
}
