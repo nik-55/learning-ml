{
 "cells": [
  {
   "cell_type": "code",
   "execution_count": 1,
   "id": "a2902d25",
   "metadata": {},
   "outputs": [],
   "source": [
    "import numpy as np"
   ]
  },
  {
   "cell_type": "code",
   "execution_count": 2,
   "id": "7e9433f3",
   "metadata": {},
   "outputs": [],
   "source": [
    "list = [1,2,3,4]"
   ]
  },
  {
   "cell_type": "code",
   "execution_count": 5,
   "id": "db026da5",
   "metadata": {},
   "outputs": [
    {
     "data": {
      "text/plain": [
       "array([1, 2, 3, 4])"
      ]
     },
     "execution_count": 5,
     "metadata": {},
     "output_type": "execute_result"
    }
   ],
   "source": [
    "a=np.array(list)\n",
    "a"
   ]
  },
  {
   "cell_type": "code",
   "execution_count": 6,
   "id": "2c34e4ee",
   "metadata": {},
   "outputs": [
    {
     "data": {
      "text/plain": [
       "array([1, 2, 3, 4])"
      ]
     },
     "execution_count": 6,
     "metadata": {},
     "output_type": "execute_result"
    }
   ],
   "source": [
    "a.copy()"
   ]
  },
  {
   "cell_type": "code",
   "execution_count": 7,
   "id": "1f6406f6",
   "metadata": {},
   "outputs": [
    {
     "data": {
      "text/plain": [
       "array([[0.1658    , 0.4693749 , 0.33352523],\n",
       "       [0.71838027, 0.05975046, 0.30647059]])"
      ]
     },
     "execution_count": 7,
     "metadata": {},
     "output_type": "execute_result"
    }
   ],
   "source": [
    "np.random.rand(2,3)"
   ]
  },
  {
   "cell_type": "code",
   "execution_count": 14,
   "id": "c6cebd50",
   "metadata": {},
   "outputs": [
    {
     "data": {
      "text/plain": [
       "array([[34, 36, 36, 47, 53],\n",
       "       [50, 40, 36, 36, 53],\n",
       "       [38, 40, 43, 37, 42]])"
      ]
     },
     "execution_count": 14,
     "metadata": {},
     "output_type": "execute_result"
    }
   ],
   "source": [
    "a=np.random.randint(34,54,size=(3,5))\n",
    "a"
   ]
  },
  {
   "cell_type": "code",
   "execution_count": 16,
   "id": "50bd2f56",
   "metadata": {},
   "outputs": [
    {
     "data": {
      "text/plain": [
       "36"
      ]
     },
     "execution_count": 16,
     "metadata": {},
     "output_type": "execute_result"
    }
   ],
   "source": [
    "a[1,3]"
   ]
  },
  {
   "cell_type": "code",
   "execution_count": 17,
   "id": "40361f6f",
   "metadata": {},
   "outputs": [
    {
     "data": {
      "text/plain": [
       "array([[34, 36, 36],\n",
       "       [47, 53, 50],\n",
       "       [40, 36, 36],\n",
       "       [53, 38, 40],\n",
       "       [43, 37, 42]])"
      ]
     },
     "execution_count": 17,
     "metadata": {},
     "output_type": "execute_result"
    }
   ],
   "source": [
    "a.reshape(5,3)"
   ]
  },
  {
   "cell_type": "code",
   "execution_count": 21,
   "id": "3fe10bf1",
   "metadata": {},
   "outputs": [
    {
     "data": {
      "text/plain": [
       "array([[0., 0., 0.],\n",
       "       [0., 0., 0.]])"
      ]
     },
     "execution_count": 21,
     "metadata": {},
     "output_type": "execute_result"
    }
   ],
   "source": [
    "np.zeros((2,3))"
   ]
  },
  {
   "cell_type": "code",
   "execution_count": 22,
   "id": "c6fd9488",
   "metadata": {},
   "outputs": [
    {
     "data": {
      "text/plain": [
       "array([[1., 0., 0., 0.],\n",
       "       [0., 1., 0., 0.],\n",
       "       [0., 0., 1., 0.],\n",
       "       [0., 0., 0., 1.]])"
      ]
     },
     "execution_count": 22,
     "metadata": {},
     "output_type": "execute_result"
    }
   ],
   "source": [
    "np.identity(4)"
   ]
  },
  {
   "cell_type": "code",
   "execution_count": 26,
   "id": "b066e268",
   "metadata": {},
   "outputs": [],
   "source": [
    "b=np.ones((4,5,3))"
   ]
  },
  {
   "cell_type": "code",
   "execution_count": 30,
   "id": "d432e4c6",
   "metadata": {},
   "outputs": [
    {
     "data": {
      "text/plain": [
       "array([[[1., 1., 1.],\n",
       "        [1., 1., 1.],\n",
       "        [1., 1., 1.],\n",
       "        [1., 1., 1.],\n",
       "        [1., 1., 1.]],\n",
       "\n",
       "       [[1., 1., 1.],\n",
       "        [1., 1., 1.],\n",
       "        [1., 1., 1.],\n",
       "        [1., 1., 1.],\n",
       "        [1., 1., 1.]],\n",
       "\n",
       "       [[1., 1., 1.],\n",
       "        [1., 1., 1.],\n",
       "        [1., 1., 1.],\n",
       "        [1., 1., 1.],\n",
       "        [1., 1., 1.]],\n",
       "\n",
       "       [[1., 1., 1.],\n",
       "        [1., 1., 1.],\n",
       "        [1., 1., 1.],\n",
       "        [1., 1., 1.],\n",
       "        [1., 1., 1.]]])"
      ]
     },
     "execution_count": 30,
     "metadata": {},
     "output_type": "execute_result"
    }
   ],
   "source": [
    "b[1,2,2]\n",
    "b"
   ]
  },
  {
   "cell_type": "code",
   "execution_count": 31,
   "id": "26a553a1",
   "metadata": {},
   "outputs": [
    {
     "data": {
      "text/plain": [
       "array([[1., 1., 1.],\n",
       "       [1., 1., 1.],\n",
       "       [1., 1., 1.],\n",
       "       [1., 1., 1.],\n",
       "       [1., 1., 1.]])"
      ]
     },
     "execution_count": 31,
     "metadata": {},
     "output_type": "execute_result"
    }
   ],
   "source": [
    "b[1]"
   ]
  },
  {
   "cell_type": "code",
   "execution_count": 34,
   "id": "98217820",
   "metadata": {},
   "outputs": [
    {
     "data": {
      "text/plain": [
       "array([[[91, 51, 97,  3, 53, 26],\n",
       "        [22, 53, 16, 87, 14, 19],\n",
       "        [98,  8, 70, 90, 22, 70],\n",
       "        [45, 80, 83, 33, 37, 53],\n",
       "        [71, 24, 27, 86,  2, 50],\n",
       "        [98,  7, 87, 55, 24, 26]],\n",
       "\n",
       "       [[ 9,  8,  5, 85, 37, 26],\n",
       "        [95, 61,  2, 79, 58, 25],\n",
       "        [18, 67,  9, 12, 90, 40],\n",
       "        [73, 27, 29,  0, 79, 83],\n",
       "        [43, 63, 79, 32, 28, 78],\n",
       "        [17, 56, 18, 10, 83, 58]],\n",
       "\n",
       "       [[69, 23, 85, 94, 20, 57],\n",
       "        [52, 55, 81, 34, 14, 60],\n",
       "        [30, 55, 34, 51, 21, 66],\n",
       "        [86, 52, 84, 93,  8, 52],\n",
       "        [32, 89, 13, 58, 82, 87],\n",
       "        [78, 43, 47, 81, 93, 50]],\n",
       "\n",
       "       [[38, 78, 27, 23, 94, 13],\n",
       "        [51, 85, 41, 53,  3, 86],\n",
       "        [10, 12, 12,  5, 93, 84],\n",
       "        [69, 50, 13, 63, 74, 73],\n",
       "        [79, 41, 86, 95, 25, 66],\n",
       "        [84, 59, 34,  7, 48, 76]],\n",
       "\n",
       "       [[45, 21,  8,  7, 32, 31],\n",
       "        [69, 44, 26, 94, 14, 77],\n",
       "        [69, 31, 87,  3, 67, 85],\n",
       "        [51, 48, 61,  9, 58, 19],\n",
       "        [11, 80,  1,  6, 35, 97],\n",
       "        [95, 95, 58, 86, 98,  4]],\n",
       "\n",
       "       [[35, 95, 49, 96, 72, 78],\n",
       "        [66, 97,  1, 50, 81, 67],\n",
       "        [ 7, 81, 98, 13, 11, 81],\n",
       "        [20, 29, 92, 43, 70, 16],\n",
       "        [53, 82, 33, 86, 72, 97],\n",
       "        [56, 21,  7, 53, 76, 57]]])"
      ]
     },
     "execution_count": 34,
     "metadata": {},
     "output_type": "execute_result"
    }
   ],
   "source": [
    "c=np.random.randint(0,100,size=(6,6,6))\n",
    "c"
   ]
  },
  {
   "cell_type": "code",
   "execution_count": 35,
   "id": "9985ac42",
   "metadata": {},
   "outputs": [
    {
     "data": {
      "text/plain": [
       "array([61, 27])"
      ]
     },
     "execution_count": 35,
     "metadata": {},
     "output_type": "execute_result"
    }
   ],
   "source": [
    "c[1,1:5:2,1]"
   ]
  },
  {
   "cell_type": "code",
   "execution_count": 36,
   "id": "f478d0dc",
   "metadata": {},
   "outputs": [
    {
     "data": {
      "text/plain": [
       "array([[95, 61,  2, 79, 58, 25],\n",
       "       [73, 27, 29,  0, 79, 83]])"
      ]
     },
     "execution_count": 36,
     "metadata": {},
     "output_type": "execute_result"
    }
   ],
   "source": [
    "c[1,1:5:2]"
   ]
  },
  {
   "cell_type": "code",
   "execution_count": 39,
   "id": "3eb365d5",
   "metadata": {},
   "outputs": [
    {
     "data": {
      "text/plain": [
       "array([73, 27,  2,  0, 58, 25])"
      ]
     },
     "execution_count": 39,
     "metadata": {},
     "output_type": "execute_result"
    }
   ],
   "source": [
    "np.min(c[1,1:5:2], axis=0)"
   ]
  },
  {
   "cell_type": "code",
   "execution_count": 40,
   "id": "3c713883",
   "metadata": {},
   "outputs": [],
   "source": [
    "# axis=1 row\n",
    "# axis=0 col"
   ]
  },
  {
   "cell_type": "code",
   "execution_count": 41,
   "id": "dd60bd3e",
   "metadata": {},
   "outputs": [
    {
     "data": {
      "text/plain": [
       "11002"
      ]
     },
     "execution_count": 41,
     "metadata": {},
     "output_type": "execute_result"
    }
   ],
   "source": [
    "np.sum(c)"
   ]
  },
  {
   "cell_type": "code",
   "execution_count": 43,
   "id": "4d978eb5",
   "metadata": {},
   "outputs": [
    {
     "data": {
      "text/plain": [
       "array([[ 0.52908269, -0.99177885, -0.99177885,  0.12357312,  0.39592515],\n",
       "       [-0.26237485,  0.74511316, -0.99177885, -0.99177885,  0.39592515],\n",
       "       [ 0.29636858,  0.74511316, -0.83177474, -0.64353813, -0.91652155]])"
      ]
     },
     "execution_count": 43,
     "metadata": {},
     "output_type": "execute_result"
    }
   ],
   "source": [
    "np.sin(a)"
   ]
  },
  {
   "cell_type": "code",
   "execution_count": 44,
   "id": "ac94fbbe",
   "metadata": {},
   "outputs": [
    {
     "data": {
      "text/plain": [
       "array([[ 68,  72,  72,  94, 106],\n",
       "       [100,  80,  72,  72, 106],\n",
       "       [ 76,  80,  86,  74,  84]])"
      ]
     },
     "execution_count": 44,
     "metadata": {},
     "output_type": "execute_result"
    }
   ],
   "source": [
    "a+a"
   ]
  },
  {
   "cell_type": "code",
   "execution_count": 45,
   "id": "a2ad2f39",
   "metadata": {},
   "outputs": [
    {
     "data": {
      "text/plain": [
       "array([[1156, 1296, 1296, 2209, 2809],\n",
       "       [2500, 1600, 1296, 1296, 2809],\n",
       "       [1444, 1600, 1849, 1369, 1764]])"
      ]
     },
     "execution_count": 45,
     "metadata": {},
     "output_type": "execute_result"
    }
   ],
   "source": [
    "a**2"
   ]
  },
  {
   "cell_type": "code",
   "execution_count": 46,
   "id": "05387c4d",
   "metadata": {},
   "outputs": [
    {
     "data": {
      "text/plain": [
       "(6, 6, 6)"
      ]
     },
     "execution_count": 46,
     "metadata": {},
     "output_type": "execute_result"
    }
   ],
   "source": [
    "c.shape"
   ]
  },
  {
   "cell_type": "code",
   "execution_count": 47,
   "id": "73d98d0f",
   "metadata": {},
   "outputs": [
    {
     "data": {
      "text/plain": [
       "216"
      ]
     },
     "execution_count": 47,
     "metadata": {},
     "output_type": "execute_result"
    }
   ],
   "source": [
    "c.size"
   ]
  },
  {
   "cell_type": "code",
   "execution_count": 48,
   "id": "09b4b039",
   "metadata": {},
   "outputs": [
    {
     "data": {
      "text/plain": [
       "8"
      ]
     },
     "execution_count": 48,
     "metadata": {},
     "output_type": "execute_result"
    }
   ],
   "source": [
    "c.itemsize"
   ]
  },
  {
   "cell_type": "code",
   "execution_count": 49,
   "id": "2ac5cfaa",
   "metadata": {},
   "outputs": [
    {
     "data": {
      "text/plain": [
       "dtype('int64')"
      ]
     },
     "execution_count": 49,
     "metadata": {},
     "output_type": "execute_result"
    }
   ],
   "source": [
    "c.dtype"
   ]
  },
  {
   "cell_type": "code",
   "execution_count": 50,
   "id": "24b0a73b",
   "metadata": {},
   "outputs": [
    {
     "data": {
      "text/plain": [
       "3"
      ]
     },
     "execution_count": 50,
     "metadata": {},
     "output_type": "execute_result"
    }
   ],
   "source": [
    "c.ndim"
   ]
  },
  {
   "cell_type": "code",
   "execution_count": null,
   "id": "376300af",
   "metadata": {},
   "outputs": [],
   "source": []
  },
  {
   "cell_type": "code",
   "execution_count": 51,
   "id": "d53a8b67",
   "metadata": {},
   "outputs": [],
   "source": [
    "import pandas as pd"
   ]
  },
  {
   "cell_type": "code",
   "execution_count": 53,
   "id": "e1933e67",
   "metadata": {},
   "outputs": [],
   "source": [
    "df = pd.DataFrame(columns=[]);"
   ]
  },
  {
   "cell_type": "code",
   "execution_count": 54,
   "id": "30cebea8",
   "metadata": {},
   "outputs": [
    {
     "data": {
      "text/plain": [
       "Index([], dtype='object')"
      ]
     },
     "execution_count": 54,
     "metadata": {},
     "output_type": "execute_result"
    }
   ],
   "source": [
    "df.columns"
   ]
  },
  {
   "cell_type": "code",
   "execution_count": 55,
   "id": "770319ff",
   "metadata": {},
   "outputs": [],
   "source": [
    "# pd.read_excel(\"\", del)"
   ]
  },
  {
   "cell_type": "code",
   "execution_count": 57,
   "id": "3e1245ec",
   "metadata": {},
   "outputs": [],
   "source": [
    "# df['name'][1:2]"
   ]
  },
  {
   "cell_type": "code",
   "execution_count": 58,
   "id": "fb70c1ea",
   "metadata": {},
   "outputs": [],
   "source": [
    "# df.iloc[2:3,23]"
   ]
  },
  {
   "cell_type": "code",
   "execution_count": 59,
   "id": "9b2df874",
   "metadata": {},
   "outputs": [],
   "source": [
    "# df.loc[df['mae']==s]"
   ]
  },
  {
   "cell_type": "code",
   "execution_count": 60,
   "id": "cafe071a",
   "metadata": {},
   "outputs": [],
   "source": [
    "# df.drop(columns=[''])"
   ]
  },
  {
   "cell_type": "code",
   "execution_count": 61,
   "id": "15cb0752",
   "metadata": {},
   "outputs": [],
   "source": [
    "# df.head(3) "
   ]
  },
  {
   "cell_type": "code",
   "execution_count": 63,
   "id": "9f2a20fc",
   "metadata": {},
   "outputs": [],
   "source": [
    "# df.apply(lambda x: )\n",
    "# df.describe()"
   ]
  },
  {
   "cell_type": "code",
   "execution_count": 64,
   "id": "ee7650b3",
   "metadata": {},
   "outputs": [],
   "source": [
    "# df.unique()\n",
    "# df.isna()"
   ]
  },
  {
   "cell_type": "code",
   "execution_count": 65,
   "id": "96cfdce2",
   "metadata": {},
   "outputs": [],
   "source": [
    "# df.to_csv()"
   ]
  },
  {
   "cell_type": "code",
   "execution_count": 68,
   "id": "c041f01c",
   "metadata": {},
   "outputs": [
    {
     "data": {
      "text/plain": [
       "array([ 0,  2,  4,  6,  8, 10, 12, 14, 16, 18, 20, 22, 24, 26, 28, 30, 32,\n",
       "       34, 36, 38, 40, 42, 44, 46, 48, 50, 52, 54, 56, 58, 60, 62, 64, 66,\n",
       "       68, 70, 72, 74, 76, 78, 80, 82, 84, 86, 88, 90, 92, 94, 96, 98])"
      ]
     },
     "execution_count": 68,
     "metadata": {},
     "output_type": "execute_result"
    }
   ],
   "source": [
    "np.arange(0,100,2)"
   ]
  },
  {
   "cell_type": "code",
   "execution_count": 69,
   "id": "4d7232bd",
   "metadata": {},
   "outputs": [],
   "source": [
    "# value_counts\n",
    "# corr()"
   ]
  },
  {
   "cell_type": "code",
   "execution_count": 72,
   "id": "8a9e7537",
   "metadata": {},
   "outputs": [],
   "source": [
    "# import seaborn as sns\n",
    "# sns.get_dataset_names()\n",
    "# sns.load_dataset()\n",
    "# sns.scatterplot(x,y,hue, kde, kind, size, row, col, data)\n",
    "# sns.heatmap(matrix)\n",
    "# sns.histplot()\n",
    "# sns.lineplot\n",
    "# sns.pairplot\n",
    "# lmplot"
   ]
  },
  {
   "cell_type": "code",
   "execution_count": null,
   "id": "893dafea",
   "metadata": {},
   "outputs": [],
   "source": []
  }
 ],
 "metadata": {
  "kernelspec": {
   "display_name": "Python 3 (ipykernel)",
   "language": "python",
   "name": "python3"
  },
  "language_info": {
   "codemirror_mode": {
    "name": "ipython",
    "version": 3
   },
   "file_extension": ".py",
   "mimetype": "text/x-python",
   "name": "python",
   "nbconvert_exporter": "python",
   "pygments_lexer": "ipython3",
   "version": "3.11.5"
  }
 },
 "nbformat": 4,
 "nbformat_minor": 5
}
