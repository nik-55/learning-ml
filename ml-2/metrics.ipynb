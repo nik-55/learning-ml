{
 "cells": [
  {
   "cell_type": "markdown",
   "id": "9a76bbc2",
   "metadata": {},
   "source": [
    "# Evaluate the model"
   ]
  },
  {
   "cell_type": "markdown",
   "id": "8d073d7d",
   "metadata": {},
   "source": [
    "# Metrics for Classification\n",
    "- Accuracy = no of correctly classified instances / number of instances \n",
    "    - Now let suppose we have two class where class B is rare now when we test our data it may happen all predicted labels are of class A making the accuarcy better but it is not presenting the real picture.\n",
    "- Precision and recall are mainly defined on TP, TN, FP, FN\n",
    "    - TP: True Positive : is actually true and classified as true as well\n",
    "    - FN: False Negative : is actually true but classified as false\n",
    "    - Mainly for binary classification\n",
    "- Precision = TP/(TP+FP)\n",
    "- Recall = TP/(TP+FN)\n",
    "- F1 score = harmonic mean of precision and recall = 2/( ( 1/precision ) + ( 1/recall ) )\n",
    "- PR curve is precision recall curve\n",
    "- ROC = TP vs FP\n",
    "- Crossentropy - calculate distance between two probability distribution. Let the label be [0 1 0] and prediction is [0.05 0.95 0.0]. Calculating the distance between two will help to judge better. The smaller the distance is the better it is"
   ]
  },
  {
   "cell_type": "markdown",
   "id": "27005e52",
   "metadata": {},
   "source": [
    "# Metrics for Regression\n",
    "- MAE : Mean absolute error = sum(abs(actual - pred))/n\n",
    "- MSE : Mean square error = sum((actual - pred)^2) / n\n",
    "- RMSE: Root mean square error = sqrt(MSE)\n",
    "- R2 = Coefficient of determination = in range of 0 to 1 = 1 is best and 0 is worst = gives measure of how well the model fits the data\n",
    "- Cosine similarity = tells how close are two vectors (pred and actuall)"
   ]
  },
  {
   "cell_type": "code",
   "execution_count": null,
   "id": "5742034f",
   "metadata": {},
   "outputs": [],
   "source": []
  }
 ],
 "metadata": {
  "kernelspec": {
   "display_name": "Python 3 (ipykernel)",
   "language": "python",
   "name": "python3"
  },
  "language_info": {
   "codemirror_mode": {
    "name": "ipython",
    "version": 3
   },
   "file_extension": ".py",
   "mimetype": "text/x-python",
   "name": "python",
   "nbconvert_exporter": "python",
   "pygments_lexer": "ipython3",
   "version": "3.11.5"
  }
 },
 "nbformat": 4,
 "nbformat_minor": 5
}
