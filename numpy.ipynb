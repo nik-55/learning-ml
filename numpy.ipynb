{
 "cells": [
  {
   "cell_type": "code",
   "execution_count": null,
   "id": "4779a96b",
   "metadata": {},
   "outputs": [],
   "source": [
    "import numpy as np\n",
    "arr = np.array([32,48,90,12,4])\n",
    "arr"
   ]
  },
  {
   "cell_type": "code",
   "execution_count": null,
   "id": "6d206db5",
   "metadata": {},
   "outputs": [],
   "source": [
    "arr[0]"
   ]
  },
  {
   "cell_type": "code",
   "execution_count": null,
   "id": "1b808eb9",
   "metadata": {},
   "outputs": [],
   "source": [
    "arr1 = np.array([[5,7,8,44,2,34,7],[0,989,90,8,9,99,8]])\n",
    "# arr1[0][1]\n",
    "arr1[0,1]"
   ]
  },
  {
   "cell_type": "code",
   "execution_count": null,
   "id": "4ec43cc8",
   "metadata": {},
   "outputs": [],
   "source": [
    "# arr1.shape\n",
    "# arr1.dtype"
   ]
  },
  {
   "cell_type": "code",
   "execution_count": null,
   "id": "f0afd457",
   "metadata": {},
   "outputs": [],
   "source": [
    "zeroes = np.zeros((2,5))\n",
    "zeroes"
   ]
  },
  {
   "cell_type": "code",
   "execution_count": null,
   "id": "87fcee20",
   "metadata": {},
   "outputs": [],
   "source": [
    "rng = np.arange(15)\n",
    "rng"
   ]
  },
  {
   "cell_type": "code",
   "execution_count": null,
   "id": "ba392cd1",
   "metadata": {},
   "outputs": [],
   "source": [
    "np.empty_like(rng)"
   ]
  },
  {
   "cell_type": "code",
   "execution_count": null,
   "id": "7b1ffc83",
   "metadata": {},
   "outputs": [],
   "source": [
    "rng= rng.reshape(3,5)\n",
    "rng"
   ]
  },
  {
   "cell_type": "code",
   "execution_count": null,
   "id": "690ea2d1",
   "metadata": {},
   "outputs": [],
   "source": [
    "rng.sum(axis=0)\n",
    "# axis = 0 --> is like y-axis \n",
    "# axis = 1 --> is like x-axis"
   ]
  },
  {
   "cell_type": "code",
   "execution_count": null,
   "id": "4e4134b9",
   "metadata": {},
   "outputs": [],
   "source": [
    "rng.sum(axis=1)"
   ]
  },
  {
   "cell_type": "code",
   "execution_count": null,
   "id": "2a4f08f1",
   "metadata": {},
   "outputs": [],
   "source": [
    "rng.T"
   ]
  },
  {
   "cell_type": "code",
   "execution_count": null,
   "id": "620a5a87",
   "metadata": {},
   "outputs": [],
   "source": [
    "# rng.flat --> iterator\n",
    "# rng.size"
   ]
  },
  {
   "cell_type": "code",
   "execution_count": null,
   "id": "7ab3918c",
   "metadata": {},
   "outputs": [],
   "source": [
    "# rng.ravel().argsort()"
   ]
  },
  {
   "cell_type": "code",
   "execution_count": null,
   "id": "d4363533",
   "metadata": {},
   "outputs": [],
   "source": [
    "rng.argmin()"
   ]
  },
  {
   "cell_type": "code",
   "execution_count": null,
   "id": "de1fb036",
   "metadata": {},
   "outputs": [],
   "source": [
    "rng.argmax(axis=1)"
   ]
  },
  {
   "cell_type": "code",
   "execution_count": null,
   "id": "5c6518ff",
   "metadata": {},
   "outputs": [],
   "source": [
    "rng.argsort(axis=1)"
   ]
  },
  {
   "cell_type": "code",
   "execution_count": null,
   "id": "72471f2a",
   "metadata": {},
   "outputs": [],
   "source": [
    "rng.argsort(axis=0)"
   ]
  },
  {
   "cell_type": "code",
   "execution_count": null,
   "id": "91bc311c",
   "metadata": {},
   "outputs": [],
   "source": [
    "rng+rng"
   ]
  },
  {
   "cell_type": "code",
   "execution_count": null,
   "id": "a249aece",
   "metadata": {},
   "outputs": [],
   "source": [
    "rng*rng"
   ]
  },
  {
   "cell_type": "code",
   "execution_count": null,
   "id": "459fc67a",
   "metadata": {},
   "outputs": [],
   "source": [
    "np.where(arr<20)"
   ]
  },
  {
   "cell_type": "code",
   "execution_count": null,
   "id": "75ffe064",
   "metadata": {},
   "outputs": [],
   "source": [
    "import sys\n",
    "py_array = [34,56,43,22]\n",
    "np_array = np.array(py_array)\n",
    "sys.getsizeof(1)*len(py_array)"
   ]
  },
  {
   "cell_type": "code",
   "execution_count": null,
   "id": "0f723254",
   "metadata": {},
   "outputs": [],
   "source": [
    "np_array.itemsize*np_array.size"
   ]
  },
  {
   "cell_type": "code",
   "execution_count": null,
   "id": "6159eac2",
   "metadata": {},
   "outputs": [],
   "source": [
    "# numpy optimizes storage"
   ]
  }
 ],
 "metadata": {
  "kernelspec": {
   "display_name": "Python 3 (ipykernel)",
   "language": "python",
   "name": "python3"
  },
  "language_info": {
   "codemirror_mode": {
    "name": "ipython",
    "version": 3
   },
   "file_extension": ".py",
   "mimetype": "text/x-python",
   "name": "python",
   "nbconvert_exporter": "python",
   "pygments_lexer": "ipython3",
   "version": "3.10.6 (tags/v3.10.6:9c7b4bd, Aug  1 2022, 21:53:49) [MSC v.1932 64 bit (AMD64)]"
  },
  "vscode": {
   "interpreter": {
    "hash": "369f2c481f4da34e4445cda3fffd2e751bd1c4d706f27375911949ba6bb62e1c"
   }
  }
 },
 "nbformat": 4,
 "nbformat_minor": 5
}
