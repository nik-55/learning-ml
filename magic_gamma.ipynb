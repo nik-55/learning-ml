{
 "cells": [
  {
   "cell_type": "code",
   "execution_count": null,
   "id": "e8d440e6",
   "metadata": {},
   "outputs": [],
   "source": [
    "# use uci to download magic04.data from magic-gamma-telescope\n",
    "import pandas as pd\n",
    "import numpy as np\n",
    "import matplotlib.pyplot as plt"
   ]
  },
  {
   "cell_type": "code",
   "execution_count": null,
   "id": "621e7cae",
   "metadata": {},
   "outputs": [],
   "source": [
    "mg_original = pd.read_csv(\"magic04.data\")\n",
    "mg_original.head()"
   ]
  },
  {
   "cell_type": "code",
   "execution_count": null,
   "id": "fc4c42ae",
   "metadata": {},
   "outputs": [],
   "source": [
    "mg_original.shape"
   ]
  },
  {
   "cell_type": "code",
   "execution_count": null,
   "id": "12d21765",
   "metadata": {},
   "outputs": [],
   "source": [
    "cols = list(\"ABCDEFGHIJK\")\n",
    "mg_original.columns = cols\n",
    "mg_original.head()"
   ]
  },
  {
   "cell_type": "code",
   "execution_count": null,
   "id": "a62005d5",
   "metadata": {},
   "outputs": [],
   "source": [
    "mg_original['K'].value_counts()"
   ]
  },
  {
   "cell_type": "code",
   "execution_count": null,
   "id": "bd0b88cf",
   "metadata": {},
   "outputs": [],
   "source": [
    "mg_original.loc[mg_original['K']=='g','K'] = (1)\n",
    "mg_original.loc[mg_original['K']=='h','K'] = (0)\n",
    "\n",
    "mg_original.loc[[1,4,5,7,100],'B'] = None"
   ]
  },
  {
   "cell_type": "code",
   "execution_count": null,
   "id": "45aac1de",
   "metadata": {},
   "outputs": [],
   "source": [
    "mg_original['K'].value_counts()"
   ]
  },
  {
   "cell_type": "code",
   "execution_count": null,
   "id": "f4bbe0df",
   "metadata": {},
   "outputs": [],
   "source": [
    "mg_original"
   ]
  },
  {
   "cell_type": "code",
   "execution_count": null,
   "id": "5b9095e3",
   "metadata": {},
   "outputs": [],
   "source": [
    "mg_original.info()"
   ]
  },
  {
   "cell_type": "code",
   "execution_count": null,
   "id": "fd74b213",
   "metadata": {},
   "outputs": [],
   "source": [
    "mg_original.describe()"
   ]
  },
  {
   "cell_type": "code",
   "execution_count": null,
   "id": "b45ba831",
   "metadata": {},
   "outputs": [],
   "source": [
    "from sklearn.model_selection import StratifiedShuffleSplit\n",
    "sss = StratifiedShuffleSplit(n_splits=5, test_size=0.25, random_state=42)\n",
    "features = mg_original.drop('K',axis=1).copy()\n",
    "features.head()"
   ]
  },
  {
   "cell_type": "code",
   "execution_count": null,
   "id": "76a46e21",
   "metadata": {},
   "outputs": [],
   "source": [
    "labels = mg_original['K'].copy()\n",
    "labels"
   ]
  },
  {
   "cell_type": "code",
   "execution_count": null,
   "id": "d8ed802a",
   "metadata": {},
   "outputs": [],
   "source": [
    "mg_original.iloc[[1,2,3],:]"
   ]
  },
  {
   "cell_type": "code",
   "execution_count": null,
   "id": "59cc79fc",
   "metadata": {},
   "outputs": [],
   "source": [
    "for train_index, test_index in sss.split(features, labels):\n",
    "    sss_train_features = features.iloc[train_index]\n",
    "    sss_train_labels = labels.iloc[train_index]\n",
    "    sss_test_features = features.iloc[test_index]\n",
    "    sss_test_labels = labels.iloc[test_index]"
   ]
  },
  {
   "cell_type": "code",
   "execution_count": null,
   "id": "ba64df48",
   "metadata": {},
   "outputs": [],
   "source": [
    "sss_train_features.head()"
   ]
  },
  {
   "cell_type": "code",
   "execution_count": null,
   "id": "7cae1d08",
   "metadata": {},
   "outputs": [],
   "source": [
    "sss_train_labels.head()"
   ]
  },
  {
   "cell_type": "code",
   "execution_count": null,
   "id": "c865c851",
   "metadata": {},
   "outputs": [],
   "source": [
    "mg_original.loc[[3650,10438,10541,7344,12771],'K']"
   ]
  },
  {
   "cell_type": "code",
   "execution_count": null,
   "id": "856cec11",
   "metadata": {},
   "outputs": [],
   "source": [
    "sss_test_features.head()"
   ]
  },
  {
   "cell_type": "code",
   "execution_count": null,
   "id": "3c5cbd0b",
   "metadata": {},
   "outputs": [],
   "source": [
    "sss_test_labels.head()"
   ]
  },
  {
   "cell_type": "code",
   "execution_count": null,
   "id": "5df5834c",
   "metadata": {},
   "outputs": [],
   "source": [
    "mg_original.loc[([3025,15576,11217,14263,16408],'K')]"
   ]
  },
  {
   "cell_type": "code",
   "execution_count": null,
   "id": "cd74ba87",
   "metadata": {},
   "outputs": [],
   "source": [
    "sss_train_labels.value_counts()"
   ]
  },
  {
   "cell_type": "code",
   "execution_count": null,
   "id": "fac96f3f",
   "metadata": {},
   "outputs": [],
   "source": [
    "sss_test_labels.value_counts()"
   ]
  },
  {
   "cell_type": "code",
   "execution_count": null,
   "id": "a5000559",
   "metadata": {},
   "outputs": [],
   "source": [
    "9248/5016"
   ]
  },
  {
   "cell_type": "code",
   "execution_count": null,
   "id": "71332858",
   "metadata": {},
   "outputs": [],
   "source": [
    "3089/1672"
   ]
  },
  {
   "cell_type": "code",
   "execution_count": null,
   "id": "c58c6ba1",
   "metadata": {},
   "outputs": [],
   "source": [
    "# for feature in cols:\n",
    "#     plt.plot(mg_original[feature],mg_original['K'])\n",
    "#     plt.ylabel(feature)\n",
    "#     plt.xlabel('K')\n",
    "#     plt.show()"
   ]
  },
  {
   "cell_type": "code",
   "execution_count": null,
   "id": "e8837c83",
   "metadata": {},
   "outputs": [],
   "source": [
    "correlation_matrix = mg_original.corr()\n",
    "correlation_matrix['A'].sort_values(ascending=False)"
   ]
  },
  {
   "cell_type": "code",
   "execution_count": null,
   "id": "7433b850",
   "metadata": {},
   "outputs": [],
   "source": [
    "mg_original.describe()"
   ]
  },
  {
   "cell_type": "code",
   "execution_count": null,
   "id": "d8185c8e",
   "metadata": {},
   "outputs": [],
   "source": [
    "from sklearn.impute import SimpleImputer\n",
    "imputer = SimpleImputer(missing_values=np.nan, strategy='median')\n",
    "modified_arr = imputer.fit_transform(mg_original)\n",
    "newdf = pd.DataFrame(modified_arr)\n",
    "newdf.columns = cols\n",
    "newdf.head()"
   ]
  },
  {
   "cell_type": "code",
   "execution_count": null,
   "id": "a1ac95f5",
   "metadata": {},
   "outputs": [],
   "source": [
    "newdf.describe()"
   ]
  },
  {
   "cell_type": "code",
   "execution_count": null,
   "id": "361499aa",
   "metadata": {},
   "outputs": [],
   "source": [
    "mg_original['B'].median()"
   ]
  },
  {
   "cell_type": "code",
   "execution_count": null,
   "id": "a1484a65",
   "metadata": {},
   "outputs": [],
   "source": [
    "newdf.loc[newdf['B']==17.13915]"
   ]
  },
  {
   "cell_type": "code",
   "execution_count": null,
   "id": "26055fb5",
   "metadata": {},
   "outputs": [],
   "source": [
    "from sklearn.pipeline import Pipeline\n",
    "from sklearn.preprocessing import StandardScaler"
   ]
  },
  {
   "cell_type": "code",
   "execution_count": null,
   "id": "133cea7b",
   "metadata": {},
   "outputs": [],
   "source": [
    "my_pipeline = Pipeline([\n",
    "    ('imputer',SimpleImputer(strategy = \"median\")),\n",
    "    ('std_scaler',StandardScaler())\n",
    "])\n",
    "mg_new = my_pipeline.fit_transform(mg_original)\n",
    "mg_new[0]"
   ]
  },
  {
   "cell_type": "code",
   "execution_count": null,
   "id": "e1c7fa40",
   "metadata": {},
   "outputs": [],
   "source": [
    "from sklearn.linear_model import LinearRegression\n",
    "model = LinearRegression()\n",
    "model.fit(mg_new[0:11000,0:10],mg_new[0:11000,10])\n",
    "mg_new[0,0:10]"
   ]
  },
  {
   "cell_type": "code",
   "execution_count": null,
   "id": "59195c6f",
   "metadata": {},
   "outputs": [],
   "source": [
    "pre = model.predict(mg_new[14000:14005,0:10])"
   ]
  },
  {
   "cell_type": "code",
   "execution_count": null,
   "id": "59e205b5",
   "metadata": {},
   "outputs": [],
   "source": [
    "from sklearn.metrics import mean_squared_error\n",
    "mse = mean_squared_error(mg_new[14000:14005,10],pre)\n",
    "rmse = np.sqrt(mse)\n",
    "rmse"
   ]
  },
  {
   "cell_type": "code",
   "execution_count": null,
   "id": "f810126c",
   "metadata": {},
   "outputs": [],
   "source": [
    "pre"
   ]
  },
  {
   "cell_type": "code",
   "execution_count": null,
   "id": "913e5f63",
   "metadata": {},
   "outputs": [],
   "source": [
    "mg_original.loc[14000:14005,'K']"
   ]
  }
 ],
 "metadata": {
  "kernelspec": {
   "display_name": "Python 3",
   "language": "python",
   "name": "python3"
  },
  "language_info": {
   "codemirror_mode": {
    "name": "ipython",
    "version": 3
   },
   "file_extension": ".py",
   "mimetype": "text/x-python",
   "name": "python",
   "nbconvert_exporter": "python",
   "pygments_lexer": "ipython3",
   "version": "3.10.6 (tags/v3.10.6:9c7b4bd, Aug  1 2022, 21:53:49) [MSC v.1932 64 bit (AMD64)]"
  },
  "vscode": {
   "interpreter": {
    "hash": "369f2c481f4da34e4445cda3fffd2e751bd1c4d706f27375911949ba6bb62e1c"
   }
  }
 },
 "nbformat": 4,
 "nbformat_minor": 5
}
