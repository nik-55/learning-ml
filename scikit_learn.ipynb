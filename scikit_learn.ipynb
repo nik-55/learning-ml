{
 "cells": [
  {
   "cell_type": "code",
   "execution_count": 1,
   "id": "bd4d1f57",
   "metadata": {},
   "outputs": [],
   "source": [
    "# data --> model --> prediction\n",
    "# data --> x(features),y(labels) --> data --> prediction "
   ]
  },
  {
   "cell_type": "code",
   "execution_count": 2,
   "id": "7f955727",
   "metadata": {},
   "outputs": [],
   "source": [
    "from sklearn.datasets import fetch_california_housing"
   ]
  },
  {
   "cell_type": "code",
   "execution_count": 3,
   "id": "5c37a21a",
   "metadata": {},
   "outputs": [],
   "source": [
    "X, y = fetch_california_housing(return_X_y = True)"
   ]
  },
  {
   "cell_type": "code",
   "execution_count": 4,
   "id": "9d9239bd",
   "metadata": {},
   "outputs": [
    {
     "data": {
      "text/plain": [
       "array([[   8.3252    ,   41.        ,    6.98412698, ...,    2.55555556,\n",
       "          37.88      , -122.23      ],\n",
       "       [   8.3014    ,   21.        ,    6.23813708, ...,    2.10984183,\n",
       "          37.86      , -122.22      ],\n",
       "       [   7.2574    ,   52.        ,    8.28813559, ...,    2.80225989,\n",
       "          37.85      , -122.24      ],\n",
       "       ...,\n",
       "       [   1.7       ,   17.        ,    5.20554273, ...,    2.3256351 ,\n",
       "          39.43      , -121.22      ],\n",
       "       [   1.8672    ,   18.        ,    5.32951289, ...,    2.12320917,\n",
       "          39.43      , -121.32      ],\n",
       "       [   2.3886    ,   16.        ,    5.25471698, ...,    2.61698113,\n",
       "          39.37      , -121.24      ]])"
      ]
     },
     "execution_count": 4,
     "metadata": {},
     "output_type": "execute_result"
    }
   ],
   "source": [
    "X"
   ]
  },
  {
   "cell_type": "code",
   "execution_count": 5,
   "id": "4423559e",
   "metadata": {},
   "outputs": [
    {
     "data": {
      "text/plain": [
       "array([4.526, 3.585, 3.521, ..., 0.923, 0.847, 0.894])"
      ]
     },
     "execution_count": 5,
     "metadata": {},
     "output_type": "execute_result"
    }
   ],
   "source": [
    "y"
   ]
  },
  {
   "cell_type": "code",
   "execution_count": 6,
   "id": "d504b52c",
   "metadata": {},
   "outputs": [],
   "source": [
    "# .fit --> X,y"
   ]
  },
  {
   "cell_type": "code",
   "execution_count": 7,
   "id": "d5a056df",
   "metadata": {},
   "outputs": [],
   "source": [
    "# import the model\n",
    "from sklearn.neighbors import KNeighborsRegressor"
   ]
  },
  {
   "cell_type": "code",
   "execution_count": 8,
   "id": "207e7cbb",
   "metadata": {},
   "outputs": [],
   "source": [
    "mod = KNeighborsRegressor()"
   ]
  },
  {
   "cell_type": "code",
   "execution_count": 9,
   "id": "5e1931da",
   "metadata": {},
   "outputs": [],
   "source": [
    "# mod.predict(X)"
   ]
  },
  {
   "cell_type": "code",
   "execution_count": 10,
   "id": "6b95426b",
   "metadata": {},
   "outputs": [
    {
     "data": {
      "text/html": [
       "<style>#sk-container-id-1 {color: black;}#sk-container-id-1 pre{padding: 0;}#sk-container-id-1 div.sk-toggleable {background-color: white;}#sk-container-id-1 label.sk-toggleable__label {cursor: pointer;display: block;width: 100%;margin-bottom: 0;padding: 0.3em;box-sizing: border-box;text-align: center;}#sk-container-id-1 label.sk-toggleable__label-arrow:before {content: \"▸\";float: left;margin-right: 0.25em;color: #696969;}#sk-container-id-1 label.sk-toggleable__label-arrow:hover:before {color: black;}#sk-container-id-1 div.sk-estimator:hover label.sk-toggleable__label-arrow:before {color: black;}#sk-container-id-1 div.sk-toggleable__content {max-height: 0;max-width: 0;overflow: hidden;text-align: left;background-color: #f0f8ff;}#sk-container-id-1 div.sk-toggleable__content pre {margin: 0.2em;color: black;border-radius: 0.25em;background-color: #f0f8ff;}#sk-container-id-1 input.sk-toggleable__control:checked~div.sk-toggleable__content {max-height: 200px;max-width: 100%;overflow: auto;}#sk-container-id-1 input.sk-toggleable__control:checked~label.sk-toggleable__label-arrow:before {content: \"▾\";}#sk-container-id-1 div.sk-estimator input.sk-toggleable__control:checked~label.sk-toggleable__label {background-color: #d4ebff;}#sk-container-id-1 div.sk-label input.sk-toggleable__control:checked~label.sk-toggleable__label {background-color: #d4ebff;}#sk-container-id-1 input.sk-hidden--visually {border: 0;clip: rect(1px 1px 1px 1px);clip: rect(1px, 1px, 1px, 1px);height: 1px;margin: -1px;overflow: hidden;padding: 0;position: absolute;width: 1px;}#sk-container-id-1 div.sk-estimator {font-family: monospace;background-color: #f0f8ff;border: 1px dotted black;border-radius: 0.25em;box-sizing: border-box;margin-bottom: 0.5em;}#sk-container-id-1 div.sk-estimator:hover {background-color: #d4ebff;}#sk-container-id-1 div.sk-parallel-item::after {content: \"\";width: 100%;border-bottom: 1px solid gray;flex-grow: 1;}#sk-container-id-1 div.sk-label:hover label.sk-toggleable__label {background-color: #d4ebff;}#sk-container-id-1 div.sk-serial::before {content: \"\";position: absolute;border-left: 1px solid gray;box-sizing: border-box;top: 0;bottom: 0;left: 50%;z-index: 0;}#sk-container-id-1 div.sk-serial {display: flex;flex-direction: column;align-items: center;background-color: white;padding-right: 0.2em;padding-left: 0.2em;position: relative;}#sk-container-id-1 div.sk-item {position: relative;z-index: 1;}#sk-container-id-1 div.sk-parallel {display: flex;align-items: stretch;justify-content: center;background-color: white;position: relative;}#sk-container-id-1 div.sk-item::before, #sk-container-id-1 div.sk-parallel-item::before {content: \"\";position: absolute;border-left: 1px solid gray;box-sizing: border-box;top: 0;bottom: 0;left: 50%;z-index: -1;}#sk-container-id-1 div.sk-parallel-item {display: flex;flex-direction: column;z-index: 1;position: relative;background-color: white;}#sk-container-id-1 div.sk-parallel-item:first-child::after {align-self: flex-end;width: 50%;}#sk-container-id-1 div.sk-parallel-item:last-child::after {align-self: flex-start;width: 50%;}#sk-container-id-1 div.sk-parallel-item:only-child::after {width: 0;}#sk-container-id-1 div.sk-dashed-wrapped {border: 1px dashed gray;margin: 0 0.4em 0.5em 0.4em;box-sizing: border-box;padding-bottom: 0.4em;background-color: white;}#sk-container-id-1 div.sk-label label {font-family: monospace;font-weight: bold;display: inline-block;line-height: 1.2em;}#sk-container-id-1 div.sk-label-container {text-align: center;}#sk-container-id-1 div.sk-container {/* jupyter's `normalize.less` sets `[hidden] { display: none; }` but bootstrap.min.css set `[hidden] { display: none !important; }` so we also need the `!important` here to be able to override the default hidden behavior on the sphinx rendered scikit-learn.org. See: https://github.com/scikit-learn/scikit-learn/issues/21755 */display: inline-block !important;position: relative;}#sk-container-id-1 div.sk-text-repr-fallback {display: none;}</style><div id=\"sk-container-id-1\" class=\"sk-top-container\"><div class=\"sk-text-repr-fallback\"><pre>KNeighborsRegressor()</pre><b>In a Jupyter environment, please rerun this cell to show the HTML representation or trust the notebook. <br />On GitHub, the HTML representation is unable to render, please try loading this page with nbviewer.org.</b></div><div class=\"sk-container\" hidden><div class=\"sk-item\"><div class=\"sk-estimator sk-toggleable\"><input class=\"sk-toggleable__control sk-hidden--visually\" id=\"sk-estimator-id-1\" type=\"checkbox\" checked><label for=\"sk-estimator-id-1\" class=\"sk-toggleable__label sk-toggleable__label-arrow\">KNeighborsRegressor</label><div class=\"sk-toggleable__content\"><pre>KNeighborsRegressor()</pre></div></div></div></div></div>"
      ],
      "text/plain": [
       "KNeighborsRegressor()"
      ]
     },
     "execution_count": 10,
     "metadata": {},
     "output_type": "execute_result"
    }
   ],
   "source": [
    "mod.fit(X,y)"
   ]
  },
  {
   "cell_type": "code",
   "execution_count": 11,
   "id": "0afb6ff4",
   "metadata": {},
   "outputs": [],
   "source": [
    "pred = mod.predict(X)"
   ]
  },
  {
   "cell_type": "code",
   "execution_count": 12,
   "id": "464666a3",
   "metadata": {},
   "outputs": [],
   "source": [
    "from sklearn.linear_model import LinearRegression"
   ]
  },
  {
   "cell_type": "code",
   "execution_count": 13,
   "id": "e62df9e9",
   "metadata": {},
   "outputs": [],
   "source": [
    "mod1 = LinearRegression()"
   ]
  },
  {
   "cell_type": "code",
   "execution_count": 14,
   "id": "17ca1f6e",
   "metadata": {},
   "outputs": [
    {
     "data": {
      "text/html": [
       "<style>#sk-container-id-2 {color: black;}#sk-container-id-2 pre{padding: 0;}#sk-container-id-2 div.sk-toggleable {background-color: white;}#sk-container-id-2 label.sk-toggleable__label {cursor: pointer;display: block;width: 100%;margin-bottom: 0;padding: 0.3em;box-sizing: border-box;text-align: center;}#sk-container-id-2 label.sk-toggleable__label-arrow:before {content: \"▸\";float: left;margin-right: 0.25em;color: #696969;}#sk-container-id-2 label.sk-toggleable__label-arrow:hover:before {color: black;}#sk-container-id-2 div.sk-estimator:hover label.sk-toggleable__label-arrow:before {color: black;}#sk-container-id-2 div.sk-toggleable__content {max-height: 0;max-width: 0;overflow: hidden;text-align: left;background-color: #f0f8ff;}#sk-container-id-2 div.sk-toggleable__content pre {margin: 0.2em;color: black;border-radius: 0.25em;background-color: #f0f8ff;}#sk-container-id-2 input.sk-toggleable__control:checked~div.sk-toggleable__content {max-height: 200px;max-width: 100%;overflow: auto;}#sk-container-id-2 input.sk-toggleable__control:checked~label.sk-toggleable__label-arrow:before {content: \"▾\";}#sk-container-id-2 div.sk-estimator input.sk-toggleable__control:checked~label.sk-toggleable__label {background-color: #d4ebff;}#sk-container-id-2 div.sk-label input.sk-toggleable__control:checked~label.sk-toggleable__label {background-color: #d4ebff;}#sk-container-id-2 input.sk-hidden--visually {border: 0;clip: rect(1px 1px 1px 1px);clip: rect(1px, 1px, 1px, 1px);height: 1px;margin: -1px;overflow: hidden;padding: 0;position: absolute;width: 1px;}#sk-container-id-2 div.sk-estimator {font-family: monospace;background-color: #f0f8ff;border: 1px dotted black;border-radius: 0.25em;box-sizing: border-box;margin-bottom: 0.5em;}#sk-container-id-2 div.sk-estimator:hover {background-color: #d4ebff;}#sk-container-id-2 div.sk-parallel-item::after {content: \"\";width: 100%;border-bottom: 1px solid gray;flex-grow: 1;}#sk-container-id-2 div.sk-label:hover label.sk-toggleable__label {background-color: #d4ebff;}#sk-container-id-2 div.sk-serial::before {content: \"\";position: absolute;border-left: 1px solid gray;box-sizing: border-box;top: 0;bottom: 0;left: 50%;z-index: 0;}#sk-container-id-2 div.sk-serial {display: flex;flex-direction: column;align-items: center;background-color: white;padding-right: 0.2em;padding-left: 0.2em;position: relative;}#sk-container-id-2 div.sk-item {position: relative;z-index: 1;}#sk-container-id-2 div.sk-parallel {display: flex;align-items: stretch;justify-content: center;background-color: white;position: relative;}#sk-container-id-2 div.sk-item::before, #sk-container-id-2 div.sk-parallel-item::before {content: \"\";position: absolute;border-left: 1px solid gray;box-sizing: border-box;top: 0;bottom: 0;left: 50%;z-index: -1;}#sk-container-id-2 div.sk-parallel-item {display: flex;flex-direction: column;z-index: 1;position: relative;background-color: white;}#sk-container-id-2 div.sk-parallel-item:first-child::after {align-self: flex-end;width: 50%;}#sk-container-id-2 div.sk-parallel-item:last-child::after {align-self: flex-start;width: 50%;}#sk-container-id-2 div.sk-parallel-item:only-child::after {width: 0;}#sk-container-id-2 div.sk-dashed-wrapped {border: 1px dashed gray;margin: 0 0.4em 0.5em 0.4em;box-sizing: border-box;padding-bottom: 0.4em;background-color: white;}#sk-container-id-2 div.sk-label label {font-family: monospace;font-weight: bold;display: inline-block;line-height: 1.2em;}#sk-container-id-2 div.sk-label-container {text-align: center;}#sk-container-id-2 div.sk-container {/* jupyter's `normalize.less` sets `[hidden] { display: none; }` but bootstrap.min.css set `[hidden] { display: none !important; }` so we also need the `!important` here to be able to override the default hidden behavior on the sphinx rendered scikit-learn.org. See: https://github.com/scikit-learn/scikit-learn/issues/21755 */display: inline-block !important;position: relative;}#sk-container-id-2 div.sk-text-repr-fallback {display: none;}</style><div id=\"sk-container-id-2\" class=\"sk-top-container\"><div class=\"sk-text-repr-fallback\"><pre>LinearRegression()</pre><b>In a Jupyter environment, please rerun this cell to show the HTML representation or trust the notebook. <br />On GitHub, the HTML representation is unable to render, please try loading this page with nbviewer.org.</b></div><div class=\"sk-container\" hidden><div class=\"sk-item\"><div class=\"sk-estimator sk-toggleable\"><input class=\"sk-toggleable__control sk-hidden--visually\" id=\"sk-estimator-id-2\" type=\"checkbox\" checked><label for=\"sk-estimator-id-2\" class=\"sk-toggleable__label sk-toggleable__label-arrow\">LinearRegression</label><div class=\"sk-toggleable__content\"><pre>LinearRegression()</pre></div></div></div></div></div>"
      ],
      "text/plain": [
       "LinearRegression()"
      ]
     },
     "execution_count": 14,
     "metadata": {},
     "output_type": "execute_result"
    }
   ],
   "source": [
    "mod1.fit(X,y)"
   ]
  },
  {
   "cell_type": "code",
   "execution_count": 15,
   "id": "dc6c4678",
   "metadata": {},
   "outputs": [
    {
     "data": {
      "text/plain": [
       "array([4.13164983, 3.97660644, 3.67657094, ..., 0.17125141, 0.31910524,\n",
       "       0.51580363])"
      ]
     },
     "execution_count": 15,
     "metadata": {},
     "output_type": "execute_result"
    }
   ],
   "source": [
    "mod1.predict(X)"
   ]
  },
  {
   "cell_type": "code",
   "execution_count": 16,
   "id": "a98fa40b",
   "metadata": {},
   "outputs": [],
   "source": [
    "import matplotlib.pyplot as plt"
   ]
  },
  {
   "cell_type": "code",
   "execution_count": 17,
   "id": "e91f1c0f",
   "metadata": {},
   "outputs": [
    {
     "data": {
      "text/plain": [
       "Text(0, 0.5, 'Actual Prices')"
      ]
     },
     "execution_count": 17,
     "metadata": {},
     "output_type": "execute_result"
    },
    {
     "data": {
      "image/png": "[encoded data removed]",
      "text/plain": [
       "<Figure size 640x480 with 1 Axes>"
      ]
     },
     "metadata": {},
     "output_type": "display_data"
    }
   ],
   "source": [
    "plt.scatter(pred, y)\n",
    "plt.xlabel(\"Predicted Prices\")\n",
    "plt.ylabel(\"Actual Prices\")"
   ]
  },
  {
   "cell_type": "code",
   "execution_count": null,
   "id": "0639fda0",
   "metadata": {},
   "outputs": [],
   "source": []
  },
  {
   "cell_type": "code",
   "execution_count": 18,
   "id": "c70411f9",
   "metadata": {},
   "outputs": [],
   "source": [
    "# Preprocessing\n",
    "# data-->xX,y --> scale --> model --> predict"
   ]
  },
  {
   "cell_type": "code",
   "execution_count": 19,
   "id": "b9f0b5c6",
   "metadata": {},
   "outputs": [],
   "source": [
    "# pipeline = scale--> model \n",
    "# pipeline has api .fit .predict\n",
    "# pipeline may also be regarded as model"
   ]
  },
  {
   "cell_type": "code",
   "execution_count": 20,
   "id": "188ead98",
   "metadata": {},
   "outputs": [],
   "source": [
    "from sklearn.preprocessing import StandardScaler\n",
    "from sklearn.pipeline import Pipeline"
   ]
  },
  {
   "cell_type": "code",
   "execution_count": 21,
   "id": "b66048fd",
   "metadata": {},
   "outputs": [],
   "source": [
    "pipe = Pipeline([\n",
    "    (\"scale\", StandardScaler()),\n",
    "    (\"model\", KNeighborsRegressor())\n",
    "]) "
   ]
  },
  {
   "cell_type": "code",
   "execution_count": 22,
   "id": "21faa1ac",
   "metadata": {},
   "outputs": [
    {
     "data": {
      "text/html": [
       "<style>#sk-container-id-3 {color: black;}#sk-container-id-3 pre{padding: 0;}#sk-container-id-3 div.sk-toggleable {background-color: white;}#sk-container-id-3 label.sk-toggleable__label {cursor: pointer;display: block;width: 100%;margin-bottom: 0;padding: 0.3em;box-sizing: border-box;text-align: center;}#sk-container-id-3 label.sk-toggleable__label-arrow:before {content: \"▸\";float: left;margin-right: 0.25em;color: #696969;}#sk-container-id-3 label.sk-toggleable__label-arrow:hover:before {color: black;}#sk-container-id-3 div.sk-estimator:hover label.sk-toggleable__label-arrow:before {color: black;}#sk-container-id-3 div.sk-toggleable__content {max-height: 0;max-width: 0;overflow: hidden;text-align: left;background-color: #f0f8ff;}#sk-container-id-3 div.sk-toggleable__content pre {margin: 0.2em;color: black;border-radius: 0.25em;background-color: #f0f8ff;}#sk-container-id-3 input.sk-toggleable__control:checked~div.sk-toggleable__content {max-height: 200px;max-width: 100%;overflow: auto;}#sk-container-id-3 input.sk-toggleable__control:checked~label.sk-toggleable__label-arrow:before {content: \"▾\";}#sk-container-id-3 div.sk-estimator input.sk-toggleable__control:checked~label.sk-toggleable__label {background-color: #d4ebff;}#sk-container-id-3 div.sk-label input.sk-toggleable__control:checked~label.sk-toggleable__label {background-color: #d4ebff;}#sk-container-id-3 input.sk-hidden--visually {border: 0;clip: rect(1px 1px 1px 1px);clip: rect(1px, 1px, 1px, 1px);height: 1px;margin: -1px;overflow: hidden;padding: 0;position: absolute;width: 1px;}#sk-container-id-3 div.sk-estimator {font-family: monospace;background-color: #f0f8ff;border: 1px dotted black;border-radius: 0.25em;box-sizing: border-box;margin-bottom: 0.5em;}#sk-container-id-3 div.sk-estimator:hover {background-color: #d4ebff;}#sk-container-id-3 div.sk-parallel-item::after {content: \"\";width: 100%;border-bottom: 1px solid gray;flex-grow: 1;}#sk-container-id-3 div.sk-label:hover label.sk-toggleable__label {background-color: #d4ebff;}#sk-container-id-3 div.sk-serial::before {content: \"\";position: absolute;border-left: 1px solid gray;box-sizing: border-box;top: 0;bottom: 0;left: 50%;z-index: 0;}#sk-container-id-3 div.sk-serial {display: flex;flex-direction: column;align-items: center;background-color: white;padding-right: 0.2em;padding-left: 0.2em;position: relative;}#sk-container-id-3 div.sk-item {position: relative;z-index: 1;}#sk-container-id-3 div.sk-parallel {display: flex;align-items: stretch;justify-content: center;background-color: white;position: relative;}#sk-container-id-3 div.sk-item::before, #sk-container-id-3 div.sk-parallel-item::before {content: \"\";position: absolute;border-left: 1px solid gray;box-sizing: border-box;top: 0;bottom: 0;left: 50%;z-index: -1;}#sk-container-id-3 div.sk-parallel-item {display: flex;flex-direction: column;z-index: 1;position: relative;background-color: white;}#sk-container-id-3 div.sk-parallel-item:first-child::after {align-self: flex-end;width: 50%;}#sk-container-id-3 div.sk-parallel-item:last-child::after {align-self: flex-start;width: 50%;}#sk-container-id-3 div.sk-parallel-item:only-child::after {width: 0;}#sk-container-id-3 div.sk-dashed-wrapped {border: 1px dashed gray;margin: 0 0.4em 0.5em 0.4em;box-sizing: border-box;padding-bottom: 0.4em;background-color: white;}#sk-container-id-3 div.sk-label label {font-family: monospace;font-weight: bold;display: inline-block;line-height: 1.2em;}#sk-container-id-3 div.sk-label-container {text-align: center;}#sk-container-id-3 div.sk-container {/* jupyter's `normalize.less` sets `[hidden] { display: none; }` but bootstrap.min.css set `[hidden] { display: none !important; }` so we also need the `!important` here to be able to override the default hidden behavior on the sphinx rendered scikit-learn.org. See: https://github.com/scikit-learn/scikit-learn/issues/21755 */display: inline-block !important;position: relative;}#sk-container-id-3 div.sk-text-repr-fallback {display: none;}</style><div id=\"sk-container-id-3\" class=\"sk-top-container\"><div class=\"sk-text-repr-fallback\"><pre>Pipeline(steps=[(&#x27;scale&#x27;, StandardScaler()), (&#x27;model&#x27;, KNeighborsRegressor())])</pre><b>In a Jupyter environment, please rerun this cell to show the HTML representation or trust the notebook. <br />On GitHub, the HTML representation is unable to render, please try loading this page with nbviewer.org.</b></div><div class=\"sk-container\" hidden><div class=\"sk-item sk-dashed-wrapped\"><div class=\"sk-label-container\"><div class=\"sk-label sk-toggleable\"><input class=\"sk-toggleable__control sk-hidden--visually\" id=\"sk-estimator-id-3\" type=\"checkbox\" ><label for=\"sk-estimator-id-3\" class=\"sk-toggleable__label sk-toggleable__label-arrow\">Pipeline</label><div class=\"sk-toggleable__content\"><pre>Pipeline(steps=[(&#x27;scale&#x27;, StandardScaler()), (&#x27;model&#x27;, KNeighborsRegressor())])</pre></div></div></div><div class=\"sk-serial\"><div class=\"sk-item\"><div class=\"sk-estimator sk-toggleable\"><input class=\"sk-toggleable__control sk-hidden--visually\" id=\"sk-estimator-id-4\" type=\"checkbox\" ><label for=\"sk-estimator-id-4\" class=\"sk-toggleable__label sk-toggleable__label-arrow\">StandardScaler</label><div class=\"sk-toggleable__content\"><pre>StandardScaler()</pre></div></div></div><div class=\"sk-item\"><div class=\"sk-estimator sk-toggleable\"><input class=\"sk-toggleable__control sk-hidden--visually\" id=\"sk-estimator-id-5\" type=\"checkbox\" ><label for=\"sk-estimator-id-5\" class=\"sk-toggleable__label sk-toggleable__label-arrow\">KNeighborsRegressor</label><div class=\"sk-toggleable__content\"><pre>KNeighborsRegressor()</pre></div></div></div></div></div></div></div>"
      ],
      "text/plain": [
       "Pipeline(steps=[('scale', StandardScaler()), ('model', KNeighborsRegressor())])"
      ]
     },
     "execution_count": 22,
     "metadata": {},
     "output_type": "execute_result"
    }
   ],
   "source": [
    "pipe.fit(X,y)"
   ]
  },
  {
   "cell_type": "code",
   "execution_count": 23,
   "id": "77ecec48",
   "metadata": {},
   "outputs": [],
   "source": [
    "pred = pipe.predict(X)"
   ]
  },
  {
   "cell_type": "code",
   "execution_count": 24,
   "id": "c948238b",
   "metadata": {},
   "outputs": [
    {
     "data": {
      "text/plain": [
       "<matplotlib.collections.PathCollection at 0x1d566d1be90>"
      ]
     },
     "execution_count": 24,
     "metadata": {},
     "output_type": "execute_result"
    },
    {
     "data": {
      "image/png": "[encoded data removed]",
      "text/plain": [
       "<Figure size 640x480 with 1 Axes>"
      ]
     },
     "metadata": {},
     "output_type": "display_data"
    }
   ],
   "source": [
    "plt.scatter(pred, y)"
   ]
  },
  {
   "cell_type": "code",
   "execution_count": 25,
   "id": "ea607575",
   "metadata": {},
   "outputs": [],
   "source": [
    "pipe2 = Pipeline([\n",
    "    (\"scale\", StandardScaler()),\n",
    "    (\"model\", KNeighborsRegressor(n_neighbors=1))\n",
    "])"
   ]
  },
  {
   "cell_type": "code",
   "execution_count": 26,
   "id": "b1ede5fc",
   "metadata": {},
   "outputs": [
    {
     "data": {
      "text/html": [
       "<style>#sk-container-id-4 {color: black;}#sk-container-id-4 pre{padding: 0;}#sk-container-id-4 div.sk-toggleable {background-color: white;}#sk-container-id-4 label.sk-toggleable__label {cursor: pointer;display: block;width: 100%;margin-bottom: 0;padding: 0.3em;box-sizing: border-box;text-align: center;}#sk-container-id-4 label.sk-toggleable__label-arrow:before {content: \"▸\";float: left;margin-right: 0.25em;color: #696969;}#sk-container-id-4 label.sk-toggleable__label-arrow:hover:before {color: black;}#sk-container-id-4 div.sk-estimator:hover label.sk-toggleable__label-arrow:before {color: black;}#sk-container-id-4 div.sk-toggleable__content {max-height: 0;max-width: 0;overflow: hidden;text-align: left;background-color: #f0f8ff;}#sk-container-id-4 div.sk-toggleable__content pre {margin: 0.2em;color: black;border-radius: 0.25em;background-color: #f0f8ff;}#sk-container-id-4 input.sk-toggleable__control:checked~div.sk-toggleable__content {max-height: 200px;max-width: 100%;overflow: auto;}#sk-container-id-4 input.sk-toggleable__control:checked~label.sk-toggleable__label-arrow:before {content: \"▾\";}#sk-container-id-4 div.sk-estimator input.sk-toggleable__control:checked~label.sk-toggleable__label {background-color: #d4ebff;}#sk-container-id-4 div.sk-label input.sk-toggleable__control:checked~label.sk-toggleable__label {background-color: #d4ebff;}#sk-container-id-4 input.sk-hidden--visually {border: 0;clip: rect(1px 1px 1px 1px);clip: rect(1px, 1px, 1px, 1px);height: 1px;margin: -1px;overflow: hidden;padding: 0;position: absolute;width: 1px;}#sk-container-id-4 div.sk-estimator {font-family: monospace;background-color: #f0f8ff;border: 1px dotted black;border-radius: 0.25em;box-sizing: border-box;margin-bottom: 0.5em;}#sk-container-id-4 div.sk-estimator:hover {background-color: #d4ebff;}#sk-container-id-4 div.sk-parallel-item::after {content: \"\";width: 100%;border-bottom: 1px solid gray;flex-grow: 1;}#sk-container-id-4 div.sk-label:hover label.sk-toggleable__label {background-color: #d4ebff;}#sk-container-id-4 div.sk-serial::before {content: \"\";position: absolute;border-left: 1px solid gray;box-sizing: border-box;top: 0;bottom: 0;left: 50%;z-index: 0;}#sk-container-id-4 div.sk-serial {display: flex;flex-direction: column;align-items: center;background-color: white;padding-right: 0.2em;padding-left: 0.2em;position: relative;}#sk-container-id-4 div.sk-item {position: relative;z-index: 1;}#sk-container-id-4 div.sk-parallel {display: flex;align-items: stretch;justify-content: center;background-color: white;position: relative;}#sk-container-id-4 div.sk-item::before, #sk-container-id-4 div.sk-parallel-item::before {content: \"\";position: absolute;border-left: 1px solid gray;box-sizing: border-box;top: 0;bottom: 0;left: 50%;z-index: -1;}#sk-container-id-4 div.sk-parallel-item {display: flex;flex-direction: column;z-index: 1;position: relative;background-color: white;}#sk-container-id-4 div.sk-parallel-item:first-child::after {align-self: flex-end;width: 50%;}#sk-container-id-4 div.sk-parallel-item:last-child::after {align-self: flex-start;width: 50%;}#sk-container-id-4 div.sk-parallel-item:only-child::after {width: 0;}#sk-container-id-4 div.sk-dashed-wrapped {border: 1px dashed gray;margin: 0 0.4em 0.5em 0.4em;box-sizing: border-box;padding-bottom: 0.4em;background-color: white;}#sk-container-id-4 div.sk-label label {font-family: monospace;font-weight: bold;display: inline-block;line-height: 1.2em;}#sk-container-id-4 div.sk-label-container {text-align: center;}#sk-container-id-4 div.sk-container {/* jupyter's `normalize.less` sets `[hidden] { display: none; }` but bootstrap.min.css set `[hidden] { display: none !important; }` so we also need the `!important` here to be able to override the default hidden behavior on the sphinx rendered scikit-learn.org. See: https://github.com/scikit-learn/scikit-learn/issues/21755 */display: inline-block !important;position: relative;}#sk-container-id-4 div.sk-text-repr-fallback {display: none;}</style><div id=\"sk-container-id-4\" class=\"sk-top-container\"><div class=\"sk-text-repr-fallback\"><pre>Pipeline(steps=[(&#x27;scale&#x27;, StandardScaler()),\n",
       "                (&#x27;model&#x27;, KNeighborsRegressor(n_neighbors=1))])</pre><b>In a Jupyter environment, please rerun this cell to show the HTML representation or trust the notebook. <br />On GitHub, the HTML representation is unable to render, please try loading this page with nbviewer.org.</b></div><div class=\"sk-container\" hidden><div class=\"sk-item sk-dashed-wrapped\"><div class=\"sk-label-container\"><div class=\"sk-label sk-toggleable\"><input class=\"sk-toggleable__control sk-hidden--visually\" id=\"sk-estimator-id-6\" type=\"checkbox\" ><label for=\"sk-estimator-id-6\" class=\"sk-toggleable__label sk-toggleable__label-arrow\">Pipeline</label><div class=\"sk-toggleable__content\"><pre>Pipeline(steps=[(&#x27;scale&#x27;, StandardScaler()),\n",
       "                (&#x27;model&#x27;, KNeighborsRegressor(n_neighbors=1))])</pre></div></div></div><div class=\"sk-serial\"><div class=\"sk-item\"><div class=\"sk-estimator sk-toggleable\"><input class=\"sk-toggleable__control sk-hidden--visually\" id=\"sk-estimator-id-7\" type=\"checkbox\" ><label for=\"sk-estimator-id-7\" class=\"sk-toggleable__label sk-toggleable__label-arrow\">StandardScaler</label><div class=\"sk-toggleable__content\"><pre>StandardScaler()</pre></div></div></div><div class=\"sk-item\"><div class=\"sk-estimator sk-toggleable\"><input class=\"sk-toggleable__control sk-hidden--visually\" id=\"sk-estimator-id-8\" type=\"checkbox\" ><label for=\"sk-estimator-id-8\" class=\"sk-toggleable__label sk-toggleable__label-arrow\">KNeighborsRegressor</label><div class=\"sk-toggleable__content\"><pre>KNeighborsRegressor(n_neighbors=1)</pre></div></div></div></div></div></div></div>"
      ],
      "text/plain": [
       "Pipeline(steps=[('scale', StandardScaler()),\n",
       "                ('model', KNeighborsRegressor(n_neighbors=1))])"
      ]
     },
     "execution_count": 26,
     "metadata": {},
     "output_type": "execute_result"
    }
   ],
   "source": [
    "pipe2.fit(X,y)"
   ]
  },
  {
   "cell_type": "code",
   "execution_count": 27,
   "id": "01caf801",
   "metadata": {},
   "outputs": [],
   "source": [
    "pred = pipe2.predict(X)"
   ]
  },
  {
   "cell_type": "code",
   "execution_count": 28,
   "id": "dfb47aa2",
   "metadata": {},
   "outputs": [
    {
     "data": {
      "text/plain": [
       "<matplotlib.collections.PathCollection at 0x1d566d26a10>"
      ]
     },
     "execution_count": 28,
     "metadata": {},
     "output_type": "execute_result"
    },
    {
     "data": {
      "image/png": "[encoded data removed]",
      "text/plain": [
       "<Figure size 640x480 with 1 Axes>"
      ]
     },
     "metadata": {},
     "output_type": "display_data"
    }
   ],
   "source": [
    "plt.scatter(pred, y)"
   ]
  },
  {
   "cell_type": "code",
   "execution_count": 29,
   "id": "2c2b5e26",
   "metadata": {},
   "outputs": [],
   "source": [
    "# Train, predict"
   ]
  },
  {
   "cell_type": "code",
   "execution_count": 30,
   "id": "17bed4b6",
   "metadata": {},
   "outputs": [],
   "source": [
    "# Dividing the dataset\n",
    "# Grid Search ---> .fit .predict"
   ]
  },
  {
   "cell_type": "code",
   "execution_count": 31,
   "id": "7a30821f",
   "metadata": {},
   "outputs": [
    {
     "data": {
      "text/plain": [
       "{'memory': None,\n",
       " 'steps': [('scale', StandardScaler()), ('model', KNeighborsRegressor())],\n",
       " 'verbose': False,\n",
       " 'scale': StandardScaler(),\n",
       " 'model': KNeighborsRegressor(),\n",
       " 'scale__copy': True,\n",
       " 'scale__with_mean': True,\n",
       " 'scale__with_std': True,\n",
       " 'model__algorithm': 'auto',\n",
       " 'model__leaf_size': 30,\n",
       " 'model__metric': 'minkowski',\n",
       " 'model__metric_params': None,\n",
       " 'model__n_jobs': None,\n",
       " 'model__n_neighbors': 5,\n",
       " 'model__p': 2,\n",
       " 'model__weights': 'uniform'}"
      ]
     },
     "execution_count": 31,
     "metadata": {},
     "output_type": "execute_result"
    }
   ],
   "source": [
    "from sklearn.model_selection import GridSearchCV\n",
    "pipe.get_params()"
   ]
  },
  {
   "cell_type": "code",
   "execution_count": 32,
   "id": "76d76c50",
   "metadata": {},
   "outputs": [],
   "source": [
    "# cv = cross validation\n",
    "model = GridSearchCV(estimator=pipe, param_grid={'model__n_neighbors':[1,2,3,4,5,6,7,8,9]}, cv=3)"
   ]
  },
  {
   "cell_type": "code",
   "execution_count": 33,
   "id": "e7cc840e",
   "metadata": {},
   "outputs": [
    {
     "data": {
      "text/html": [
       "<style>#sk-container-id-5 {color: black;}#sk-container-id-5 pre{padding: 0;}#sk-container-id-5 div.sk-toggleable {background-color: white;}#sk-container-id-5 label.sk-toggleable__label {cursor: pointer;display: block;width: 100%;margin-bottom: 0;padding: 0.3em;box-sizing: border-box;text-align: center;}#sk-container-id-5 label.sk-toggleable__label-arrow:before {content: \"▸\";float: left;margin-right: 0.25em;color: #696969;}#sk-container-id-5 label.sk-toggleable__label-arrow:hover:before {color: black;}#sk-container-id-5 div.sk-estimator:hover label.sk-toggleable__label-arrow:before {color: black;}#sk-container-id-5 div.sk-toggleable__content {max-height: 0;max-width: 0;overflow: hidden;text-align: left;background-color: #f0f8ff;}#sk-container-id-5 div.sk-toggleable__content pre {margin: 0.2em;color: black;border-radius: 0.25em;background-color: #f0f8ff;}#sk-container-id-5 input.sk-toggleable__control:checked~div.sk-toggleable__content {max-height: 200px;max-width: 100%;overflow: auto;}#sk-container-id-5 input.sk-toggleable__control:checked~label.sk-toggleable__label-arrow:before {content: \"▾\";}#sk-container-id-5 div.sk-estimator input.sk-toggleable__control:checked~label.sk-toggleable__label {background-color: #d4ebff;}#sk-container-id-5 div.sk-label input.sk-toggleable__control:checked~label.sk-toggleable__label {background-color: #d4ebff;}#sk-container-id-5 input.sk-hidden--visually {border: 0;clip: rect(1px 1px 1px 1px);clip: rect(1px, 1px, 1px, 1px);height: 1px;margin: -1px;overflow: hidden;padding: 0;position: absolute;width: 1px;}#sk-container-id-5 div.sk-estimator {font-family: monospace;background-color: #f0f8ff;border: 1px dotted black;border-radius: 0.25em;box-sizing: border-box;margin-bottom: 0.5em;}#sk-container-id-5 div.sk-estimator:hover {background-color: #d4ebff;}#sk-container-id-5 div.sk-parallel-item::after {content: \"\";width: 100%;border-bottom: 1px solid gray;flex-grow: 1;}#sk-container-id-5 div.sk-label:hover label.sk-toggleable__label {background-color: #d4ebff;}#sk-container-id-5 div.sk-serial::before {content: \"\";position: absolute;border-left: 1px solid gray;box-sizing: border-box;top: 0;bottom: 0;left: 50%;z-index: 0;}#sk-container-id-5 div.sk-serial {display: flex;flex-direction: column;align-items: center;background-color: white;padding-right: 0.2em;padding-left: 0.2em;position: relative;}#sk-container-id-5 div.sk-item {position: relative;z-index: 1;}#sk-container-id-5 div.sk-parallel {display: flex;align-items: stretch;justify-content: center;background-color: white;position: relative;}#sk-container-id-5 div.sk-item::before, #sk-container-id-5 div.sk-parallel-item::before {content: \"\";position: absolute;border-left: 1px solid gray;box-sizing: border-box;top: 0;bottom: 0;left: 50%;z-index: -1;}#sk-container-id-5 div.sk-parallel-item {display: flex;flex-direction: column;z-index: 1;position: relative;background-color: white;}#sk-container-id-5 div.sk-parallel-item:first-child::after {align-self: flex-end;width: 50%;}#sk-container-id-5 div.sk-parallel-item:last-child::after {align-self: flex-start;width: 50%;}#sk-container-id-5 div.sk-parallel-item:only-child::after {width: 0;}#sk-container-id-5 div.sk-dashed-wrapped {border: 1px dashed gray;margin: 0 0.4em 0.5em 0.4em;box-sizing: border-box;padding-bottom: 0.4em;background-color: white;}#sk-container-id-5 div.sk-label label {font-family: monospace;font-weight: bold;display: inline-block;line-height: 1.2em;}#sk-container-id-5 div.sk-label-container {text-align: center;}#sk-container-id-5 div.sk-container {/* jupyter's `normalize.less` sets `[hidden] { display: none; }` but bootstrap.min.css set `[hidden] { display: none !important; }` so we also need the `!important` here to be able to override the default hidden behavior on the sphinx rendered scikit-learn.org. See: https://github.com/scikit-learn/scikit-learn/issues/21755 */display: inline-block !important;position: relative;}#sk-container-id-5 div.sk-text-repr-fallback {display: none;}</style><div id=\"sk-container-id-5\" class=\"sk-top-container\"><div class=\"sk-text-repr-fallback\"><pre>GridSearchCV(cv=3,\n",
       "             estimator=Pipeline(steps=[(&#x27;scale&#x27;, StandardScaler()),\n",
       "                                       (&#x27;model&#x27;, KNeighborsRegressor())]),\n",
       "             param_grid={&#x27;model__n_neighbors&#x27;: [1, 2, 3, 4, 5, 6, 7, 8, 9]})</pre><b>In a Jupyter environment, please rerun this cell to show the HTML representation or trust the notebook. <br />On GitHub, the HTML representation is unable to render, please try loading this page with nbviewer.org.</b></div><div class=\"sk-container\" hidden><div class=\"sk-item sk-dashed-wrapped\"><div class=\"sk-label-container\"><div class=\"sk-label sk-toggleable\"><input class=\"sk-toggleable__control sk-hidden--visually\" id=\"sk-estimator-id-9\" type=\"checkbox\" ><label for=\"sk-estimator-id-9\" class=\"sk-toggleable__label sk-toggleable__label-arrow\">GridSearchCV</label><div class=\"sk-toggleable__content\"><pre>GridSearchCV(cv=3,\n",
       "             estimator=Pipeline(steps=[(&#x27;scale&#x27;, StandardScaler()),\n",
       "                                       (&#x27;model&#x27;, KNeighborsRegressor())]),\n",
       "             param_grid={&#x27;model__n_neighbors&#x27;: [1, 2, 3, 4, 5, 6, 7, 8, 9]})</pre></div></div></div><div class=\"sk-parallel\"><div class=\"sk-parallel-item\"><div class=\"sk-item\"><div class=\"sk-label-container\"><div class=\"sk-label sk-toggleable\"><input class=\"sk-toggleable__control sk-hidden--visually\" id=\"sk-estimator-id-10\" type=\"checkbox\" ><label for=\"sk-estimator-id-10\" class=\"sk-toggleable__label sk-toggleable__label-arrow\">estimator: Pipeline</label><div class=\"sk-toggleable__content\"><pre>Pipeline(steps=[(&#x27;scale&#x27;, StandardScaler()), (&#x27;model&#x27;, KNeighborsRegressor())])</pre></div></div></div><div class=\"sk-serial\"><div class=\"sk-item\"><div class=\"sk-serial\"><div class=\"sk-item\"><div class=\"sk-estimator sk-toggleable\"><input class=\"sk-toggleable__control sk-hidden--visually\" id=\"sk-estimator-id-11\" type=\"checkbox\" ><label for=\"sk-estimator-id-11\" class=\"sk-toggleable__label sk-toggleable__label-arrow\">StandardScaler</label><div class=\"sk-toggleable__content\"><pre>StandardScaler()</pre></div></div></div><div class=\"sk-item\"><div class=\"sk-estimator sk-toggleable\"><input class=\"sk-toggleable__control sk-hidden--visually\" id=\"sk-estimator-id-12\" type=\"checkbox\" ><label for=\"sk-estimator-id-12\" class=\"sk-toggleable__label sk-toggleable__label-arrow\">KNeighborsRegressor</label><div class=\"sk-toggleable__content\"><pre>KNeighborsRegressor()</pre></div></div></div></div></div></div></div></div></div></div></div></div>"
      ],
      "text/plain": [
       "GridSearchCV(cv=3,\n",
       "             estimator=Pipeline(steps=[('scale', StandardScaler()),\n",
       "                                       ('model', KNeighborsRegressor())]),\n",
       "             param_grid={'model__n_neighbors': [1, 2, 3, 4, 5, 6, 7, 8, 9]})"
      ]
     },
     "execution_count": 33,
     "metadata": {},
     "output_type": "execute_result"
    }
   ],
   "source": [
    "model.fit(X,y)"
   ]
  },
  {
   "cell_type": "code",
   "execution_count": 34,
   "id": "286cfcb4",
   "metadata": {},
   "outputs": [],
   "source": [
    "cv_results = model.cv_results_"
   ]
  },
  {
   "cell_type": "code",
   "execution_count": 35,
   "id": "3a52d3a1",
   "metadata": {},
   "outputs": [
    {
     "data": {
      "text/html": [
       "<div>\n",
       "<style scoped>\n",
       "    .dataframe tbody tr th:only-of-type {\n",
       "        vertical-align: middle;\n",
       "    }\n",
       "\n",
       "    .dataframe tbody tr th {\n",
       "        vertical-align: top;\n",
       "    }\n",
       "\n",
       "    .dataframe thead th {\n",
       "        text-align: right;\n",
       "    }\n",
       "</style>\n",
       "<table border=\"1\" class=\"dataframe\">\n",
       "  <thead>\n",
       "    <tr style=\"text-align: right;\">\n",
       "      <th></th>\n",
       "      <th>mean_fit_time</th>\n",
       "      <th>std_fit_time</th>\n",
       "      <th>mean_score_time</th>\n",
       "      <th>std_score_time</th>\n",
       "      <th>param_model__n_neighbors</th>\n",
       "      <th>params</th>\n",
       "      <th>split0_test_score</th>\n",
       "      <th>split1_test_score</th>\n",
       "      <th>split2_test_score</th>\n",
       "      <th>mean_test_score</th>\n",
       "      <th>std_test_score</th>\n",
       "      <th>rank_test_score</th>\n",
       "    </tr>\n",
       "  </thead>\n",
       "  <tbody>\n",
       "    <tr>\n",
       "      <th>0</th>\n",
       "      <td>0.032848</td>\n",
       "      <td>0.003221</td>\n",
       "      <td>0.673984</td>\n",
       "      <td>0.033352</td>\n",
       "      <td>1</td>\n",
       "      <td>{'model__n_neighbors': 1}</td>\n",
       "      <td>0.324068</td>\n",
       "      <td>0.334830</td>\n",
       "      <td>0.323371</td>\n",
       "      <td>0.327423</td>\n",
       "      <td>0.005245</td>\n",
       "      <td>9</td>\n",
       "    </tr>\n",
       "    <tr>\n",
       "      <th>1</th>\n",
       "      <td>0.031210</td>\n",
       "      <td>0.000577</td>\n",
       "      <td>0.759791</td>\n",
       "      <td>0.074245</td>\n",
       "      <td>2</td>\n",
       "      <td>{'model__n_neighbors': 2}</td>\n",
       "      <td>0.468788</td>\n",
       "      <td>0.503457</td>\n",
       "      <td>0.424388</td>\n",
       "      <td>0.465544</td>\n",
       "      <td>0.032361</td>\n",
       "      <td>8</td>\n",
       "    </tr>\n",
       "    <tr>\n",
       "      <th>2</th>\n",
       "      <td>0.030170</td>\n",
       "      <td>0.001358</td>\n",
       "      <td>0.784943</td>\n",
       "      <td>0.057638</td>\n",
       "      <td>3</td>\n",
       "      <td>{'model__n_neighbors': 3}</td>\n",
       "      <td>0.518547</td>\n",
       "      <td>0.543340</td>\n",
       "      <td>0.473595</td>\n",
       "      <td>0.511827</td>\n",
       "      <td>0.028867</td>\n",
       "      <td>7</td>\n",
       "    </tr>\n",
       "    <tr>\n",
       "      <th>3</th>\n",
       "      <td>0.031197</td>\n",
       "      <td>0.000695</td>\n",
       "      <td>0.839535</td>\n",
       "      <td>0.069270</td>\n",
       "      <td>4</td>\n",
       "      <td>{'model__n_neighbors': 4}</td>\n",
       "      <td>0.540323</td>\n",
       "      <td>0.564974</td>\n",
       "      <td>0.499827</td>\n",
       "      <td>0.535041</td>\n",
       "      <td>0.026857</td>\n",
       "      <td>6</td>\n",
       "    </tr>\n",
       "    <tr>\n",
       "      <th>4</th>\n",
       "      <td>0.040592</td>\n",
       "      <td>0.012025</td>\n",
       "      <td>0.937271</td>\n",
       "      <td>0.103932</td>\n",
       "      <td>5</td>\n",
       "      <td>{'model__n_neighbors': 5}</td>\n",
       "      <td>0.551149</td>\n",
       "      <td>0.579313</td>\n",
       "      <td>0.511781</td>\n",
       "      <td>0.547414</td>\n",
       "      <td>0.027696</td>\n",
       "      <td>5</td>\n",
       "    </tr>\n",
       "    <tr>\n",
       "      <th>5</th>\n",
       "      <td>0.032679</td>\n",
       "      <td>0.001689</td>\n",
       "      <td>0.967982</td>\n",
       "      <td>0.063135</td>\n",
       "      <td>6</td>\n",
       "      <td>{'model__n_neighbors': 6}</td>\n",
       "      <td>0.558435</td>\n",
       "      <td>0.586185</td>\n",
       "      <td>0.521134</td>\n",
       "      <td>0.555251</td>\n",
       "      <td>0.026652</td>\n",
       "      <td>4</td>\n",
       "    </tr>\n",
       "    <tr>\n",
       "      <th>6</th>\n",
       "      <td>0.030157</td>\n",
       "      <td>0.001825</td>\n",
       "      <td>0.914604</td>\n",
       "      <td>0.043774</td>\n",
       "      <td>7</td>\n",
       "      <td>{'model__n_neighbors': 7}</td>\n",
       "      <td>0.564207</td>\n",
       "      <td>0.590509</td>\n",
       "      <td>0.525223</td>\n",
       "      <td>0.559979</td>\n",
       "      <td>0.026820</td>\n",
       "      <td>3</td>\n",
       "    </tr>\n",
       "    <tr>\n",
       "      <th>7</th>\n",
       "      <td>0.029021</td>\n",
       "      <td>0.000726</td>\n",
       "      <td>0.944195</td>\n",
       "      <td>0.073221</td>\n",
       "      <td>8</td>\n",
       "      <td>{'model__n_neighbors': 8}</td>\n",
       "      <td>0.568637</td>\n",
       "      <td>0.593942</td>\n",
       "      <td>0.529337</td>\n",
       "      <td>0.563972</td>\n",
       "      <td>0.026580</td>\n",
       "      <td>2</td>\n",
       "    </tr>\n",
       "    <tr>\n",
       "      <th>8</th>\n",
       "      <td>0.030188</td>\n",
       "      <td>0.000984</td>\n",
       "      <td>0.949731</td>\n",
       "      <td>0.079482</td>\n",
       "      <td>9</td>\n",
       "      <td>{'model__n_neighbors': 9}</td>\n",
       "      <td>0.571972</td>\n",
       "      <td>0.594863</td>\n",
       "      <td>0.529928</td>\n",
       "      <td>0.565588</td>\n",
       "      <td>0.026891</td>\n",
       "      <td>1</td>\n",
       "    </tr>\n",
       "  </tbody>\n",
       "</table>\n",
       "</div>"
      ],
      "text/plain": [
       "   mean_fit_time  std_fit_time  mean_score_time  std_score_time  \\\n",
       "0       0.032848      0.003221         0.673984        0.033352   \n",
       "1       0.031210      0.000577         0.759791        0.074245   \n",
       "2       0.030170      0.001358         0.784943        0.057638   \n",
       "3       0.031197      0.000695         0.839535        0.069270   \n",
       "4       0.040592      0.012025         0.937271        0.103932   \n",
       "5       0.032679      0.001689         0.967982        0.063135   \n",
       "6       0.030157      0.001825         0.914604        0.043774   \n",
       "7       0.029021      0.000726         0.944195        0.073221   \n",
       "8       0.030188      0.000984         0.949731        0.079482   \n",
       "\n",
       "  param_model__n_neighbors                     params  split0_test_score  \\\n",
       "0                        1  {'model__n_neighbors': 1}           0.324068   \n",
       "1                        2  {'model__n_neighbors': 2}           0.468788   \n",
       "2                        3  {'model__n_neighbors': 3}           0.518547   \n",
       "3                        4  {'model__n_neighbors': 4}           0.540323   \n",
       "4                        5  {'model__n_neighbors': 5}           0.551149   \n",
       "5                        6  {'model__n_neighbors': 6}           0.558435   \n",
       "6                        7  {'model__n_neighbors': 7}           0.564207   \n",
       "7                        8  {'model__n_neighbors': 8}           0.568637   \n",
       "8                        9  {'model__n_neighbors': 9}           0.571972   \n",
       "\n",
       "   split1_test_score  split2_test_score  mean_test_score  std_test_score  \\\n",
       "0           0.334830           0.323371         0.327423        0.005245   \n",
       "1           0.503457           0.424388         0.465544        0.032361   \n",
       "2           0.543340           0.473595         0.511827        0.028867   \n",
       "3           0.564974           0.499827         0.535041        0.026857   \n",
       "4           0.579313           0.511781         0.547414        0.027696   \n",
       "5           0.586185           0.521134         0.555251        0.026652   \n",
       "6           0.590509           0.525223         0.559979        0.026820   \n",
       "7           0.593942           0.529337         0.563972        0.026580   \n",
       "8           0.594863           0.529928         0.565588        0.026891   \n",
       "\n",
       "   rank_test_score  \n",
       "0                9  \n",
       "1                8  \n",
       "2                7  \n",
       "3                6  \n",
       "4                5  \n",
       "5                4  \n",
       "6                3  \n",
       "7                2  \n",
       "8                1  "
      ]
     },
     "execution_count": 35,
     "metadata": {},
     "output_type": "execute_result"
    }
   ],
   "source": [
    "import pandas as pd\n",
    "df = pd.DataFrame(cv_results)\n",
    "df"
   ]
  },
  {
   "cell_type": "code",
   "execution_count": 36,
   "id": "ed84db36",
   "metadata": {},
   "outputs": [],
   "source": [
    "data = fetch_california_housing()"
   ]
  },
  {
   "cell_type": "code",
   "execution_count": 37,
   "id": "80beae18",
   "metadata": {},
   "outputs": [
    {
     "name": "stdout",
     "output_type": "stream",
     "text": [
      ".. _california_housing_dataset:\n",
      "\n",
      "California Housing dataset\n",
      "--------------------------\n",
      "\n",
      "**Data Set Characteristics:**\n",
      "\n",
      "    :Number of Instances: 20640\n",
      "\n",
      "    :Number of Attributes: 8 numeric, predictive attributes and the target\n",
      "\n",
      "    :Attribute Information:\n",
      "        - MedInc        median income in block group\n",
      "        - HouseAge      median house age in block group\n",
      "        - AveRooms      average number of rooms per household\n",
      "        - AveBedrms     average number of bedrooms per household\n",
      "        - Population    block group population\n",
      "        - AveOccup      average number of household members\n",
      "        - Latitude      block group latitude\n",
      "        - Longitude     block group longitude\n",
      "\n",
      "    :Missing Attribute Values: None\n",
      "\n",
      "This dataset was obtained from the StatLib repository.\n",
      "https://www.dcc.fc.up.pt/~ltorgo/Regression/cal_housing.html\n",
      "\n",
      "The target variable is the median house value for California districts,\n",
      "expressed in hundreds of thousands of dollars ($100,000).\n",
      "\n",
      "This dataset was derived from the 1990 U.S. census, using one row per census\n",
      "block group. A block group is the smallest geographical unit for which the U.S.\n",
      "Census Bureau publishes sample data (a block group typically has a population\n",
      "of 600 to 3,000 people).\n",
      "\n",
      "A household is a group of people residing within a home. Since the average\n",
      "number of rooms and bedrooms in this dataset are provided per household, these\n",
      "columns may take surprisingly large values for block groups with few households\n",
      "and many empty houses, such as vacation resorts.\n",
      "\n",
      "It can be downloaded/loaded using the\n",
      ":func:`sklearn.datasets.fetch_california_housing` function.\n",
      "\n",
      ".. topic:: References\n",
      "\n",
      "    - Pace, R. Kelley and Ronald Barry, Sparse Spatial Autoregressions,\n",
      "      Statistics and Probability Letters, 33 (1997) 291-297\n",
      "\n"
     ]
    }
   ],
   "source": [
    "print(data['DESCR'])"
   ]
  },
  {
   "cell_type": "code",
   "execution_count": 38,
   "id": "11b27234",
   "metadata": {},
   "outputs": [],
   "source": [
    "# data --> transform --> model "
   ]
  },
  {
   "cell_type": "code",
   "execution_count": 39,
   "id": "cab45124",
   "metadata": {},
   "outputs": [
    {
     "data": {
      "text/html": [
       "<div>\n",
       "<style scoped>\n",
       "    .dataframe tbody tr th:only-of-type {\n",
       "        vertical-align: middle;\n",
       "    }\n",
       "\n",
       "    .dataframe tbody tr th {\n",
       "        vertical-align: top;\n",
       "    }\n",
       "\n",
       "    .dataframe thead th {\n",
       "        text-align: right;\n",
       "    }\n",
       "</style>\n",
       "<table border=\"1\" class=\"dataframe\">\n",
       "  <thead>\n",
       "    <tr style=\"text-align: right;\">\n",
       "      <th></th>\n",
       "      <th>x</th>\n",
       "      <th>y</th>\n",
       "      <th>z</th>\n",
       "    </tr>\n",
       "  </thead>\n",
       "  <tbody>\n",
       "    <tr>\n",
       "      <th>0</th>\n",
       "      <td>58.080365</td>\n",
       "      <td>225.699042</td>\n",
       "      <td>a</td>\n",
       "    </tr>\n",
       "    <tr>\n",
       "      <th>1</th>\n",
       "      <td>238.867357</td>\n",
       "      <td>247.456645</td>\n",
       "      <td>a</td>\n",
       "    </tr>\n",
       "    <tr>\n",
       "      <th>2</th>\n",
       "      <td>156.218212</td>\n",
       "      <td>286.588782</td>\n",
       "      <td>a</td>\n",
       "    </tr>\n",
       "    <tr>\n",
       "      <th>3</th>\n",
       "      <td>262.004361</td>\n",
       "      <td>284.251445</td>\n",
       "      <td>a</td>\n",
       "    </tr>\n",
       "    <tr>\n",
       "      <th>4</th>\n",
       "      <td>185.243183</td>\n",
       "      <td>308.187571</td>\n",
       "      <td>a</td>\n",
       "    </tr>\n",
       "  </tbody>\n",
       "</table>\n",
       "</div>"
      ],
      "text/plain": [
       "            x           y  z\n",
       "0   58.080365  225.699042  a\n",
       "1  238.867357  247.456645  a\n",
       "2  156.218212  286.588782  a\n",
       "3  262.004361  284.251445  a\n",
       "4  185.243183  308.187571  a"
      ]
     },
     "execution_count": 39,
     "metadata": {},
     "output_type": "execute_result"
    }
   ],
   "source": [
    "df = pd.read_csv(\"drawndata1.csv\");\n",
    "df.head()"
   ]
  },
  {
   "cell_type": "code",
   "execution_count": 40,
   "id": "97504faf",
   "metadata": {},
   "outputs": [
    {
     "data": {
      "text/plain": [
       "<matplotlib.collections.PathCollection at 0x1d56970e7d0>"
      ]
     },
     "execution_count": 40,
     "metadata": {},
     "output_type": "execute_result"
    },
    {
     "data": {
      "image/png": "[encoded data removed]",
      "text/plain": [
       "<Figure size 640x480 with 1 Axes>"
      ]
     },
     "metadata": {},
     "output_type": "display_data"
    }
   ],
   "source": [
    "c = df[\"z\"]==\"a\"\n",
    "plt.scatter(df[\"x\"], df[\"y\"], c=c)"
   ]
  },
  {
   "cell_type": "code",
   "execution_count": 41,
   "id": "615ce0fc",
   "metadata": {},
   "outputs": [],
   "source": [
    "X = df.iloc[:,0:2]\n",
    "y = df.iloc[:,2]\n",
    "scaler = StandardScaler()"
   ]
  },
  {
   "cell_type": "code",
   "execution_count": 42,
   "id": "675f7440",
   "metadata": {},
   "outputs": [
    {
     "data": {
      "text/plain": [
       "array([[-1.28490284e+00, -2.02938609e-01],\n",
       "       [-1.07019011e+00,  1.06286357e-01],\n",
       "       [-1.16834885e+00,  6.62442922e-01],\n",
       "       [-1.04271130e+00,  6.29224047e-01],\n",
       "       [-1.13387717e+00,  9.69410783e-01],\n",
       "       [-1.13999061e+00,  7.04799839e-01],\n",
       "       [-1.05154411e+00,  6.88669471e-01],\n",
       "       [-1.01707798e+00,  9.32760991e-01],\n",
       "       [-1.19503336e+00,  1.01244490e+00],\n",
       "       [-8.43593131e-01,  3.55711966e-01],\n",
       "       [-9.58498740e-01,  3.07028637e-01],\n",
       "       [-9.53904849e-01,  2.32077079e-01],\n",
       "       [-1.33474572e+00, -6.94908496e-01],\n",
       "       [-1.07838422e+00, -4.41591025e-01],\n",
       "       [-1.02616337e+00, -2.81701682e-01],\n",
       "       [-8.76483033e-01, -8.23516780e-01],\n",
       "       [-1.31412137e+00, -9.13222090e-01],\n",
       "       [-1.18501236e+00, -7.32397990e-01],\n",
       "       [-1.07174408e+00, -8.93754092e-01],\n",
       "       [-1.16959047e+00, -8.68372412e-01],\n",
       "       [-1.30617644e+00, -3.20344923e-01],\n",
       "       [-1.20853433e+00, -2.63137180e-01],\n",
       "       [-1.30555057e+00, -4.44734188e-02],\n",
       "       [-1.33177760e+00, -9.20591797e-02],\n",
       "       [-1.35391836e+00,  4.14467295e-01],\n",
       "       [-1.37181338e+00,  7.77097850e-01],\n",
       "       [-1.10695232e+00,  5.90211320e-01],\n",
       "       [-1.11864570e+00,  6.39525467e-01],\n",
       "       [-1.00529131e+00,  7.15860417e-01],\n",
       "       [-7.85335640e-01,  7.36590928e-01],\n",
       "       [-1.08871872e+00,  6.97360182e-01],\n",
       "       [-1.12768958e+00,  2.62682566e-01],\n",
       "       [-1.07771279e+00, -1.86196376e-01],\n",
       "       [-6.86133888e-01, -2.50154549e-01],\n",
       "       [-1.05728336e+00,  6.85026167e-02],\n",
       "       [-9.95321985e-01, -6.99701729e-01],\n",
       "       [-8.56527424e-01, -6.09543874e-01],\n",
       "       [-9.93967235e-01, -1.34491527e+00],\n",
       "       [-9.59167778e-01, -8.88259301e-01],\n",
       "       [-7.80129011e-01, -1.04460630e+00],\n",
       "       [-1.07464768e+00, -1.18914150e+00],\n",
       "       [-1.24325181e+00, -9.86223499e-01],\n",
       "       [-1.17950551e+00, -1.53462531e+00],\n",
       "       [-1.26039724e+00, -2.68617173e-01],\n",
       "       [-1.15610442e+00, -6.99075908e-01],\n",
       "       [-1.21264711e+00,  4.06465967e-01],\n",
       "       [-9.57507076e-01, -7.00895431e-02],\n",
       "       [-1.26248536e+00,  1.30383531e+00],\n",
       "       [-1.19397510e+00,  6.58728158e-01],\n",
       "       [-9.95522809e-01,  9.66344099e-01],\n",
       "       [-1.14546043e+00,  3.41098190e-01],\n",
       "       [-8.32487592e-01,  8.98203307e-01],\n",
       "       [-6.72461989e-01,  5.03478196e-01],\n",
       "       [-6.60559365e-01,  2.06454095e-01],\n",
       "       [-9.74206433e-01,  7.31872221e-01],\n",
       "       [-1.07205140e+00, -2.63393807e-01],\n",
       "       [-9.43276250e-01, -1.05197957e-01],\n",
       "       [-8.32004036e-01, -4.00188416e-01],\n",
       "       [-6.23127941e-01,  1.51226233e-01],\n",
       "       [-7.12938791e-01, -8.65451755e-01],\n",
       "       [-7.76502606e-01, -6.81869118e-01],\n",
       "       [-9.62794757e-01, -7.57365517e-01],\n",
       "       [-1.06406164e+00, -1.57791681e-01],\n",
       "       [-1.09971854e+00, -1.43944793e-01],\n",
       "       [-1.13450090e+00, -5.03928284e-02],\n",
       "       [-1.02586188e+00,  5.69870154e-01],\n",
       "       [-9.24507744e-01,  3.13825123e-01],\n",
       "       [-8.61702941e-01,  4.70814557e-01],\n",
       "       [-9.33087440e-01,  5.25013367e-01],\n",
       "       [-9.74960429e-01,  5.21991365e-01],\n",
       "       [-1.25828489e+00,  6.41817488e-01],\n",
       "       [-8.28046626e-01,  1.00346026e+00],\n",
       "       [-8.53906608e-01, -2.73736371e-01],\n",
       "       [-7.71749756e-01, -5.53516970e-01],\n",
       "       [-9.74903494e-01,  1.42019141e-01],\n",
       "       [-6.03874584e-01, -3.74293818e-01],\n",
       "       [-1.08134195e+00, -8.23699653e-01],\n",
       "       [-6.84905759e-01, -1.58788099e-01],\n",
       "       [-5.22485014e-01, -2.38458995e-01],\n",
       "       [-6.00965506e-01,  4.29037170e-01],\n",
       "       [-5.78630746e-01,  3.25834988e-01],\n",
       "       [-6.55316546e-01,  1.00006070e+00],\n",
       "       [-3.20517731e-01,  1.88214504e-01],\n",
       "       [-5.79852674e-01,  8.08353018e-01],\n",
       "       [-5.20565120e-01,  6.59180625e-01],\n",
       "       [-5.15058959e-01,  6.69851059e-01],\n",
       "       [-5.24203513e-01,  3.32904826e-01],\n",
       "       [-3.46959612e-01,  8.75693277e-01],\n",
       "       [-3.86141370e-01,  9.15177093e-01],\n",
       "       [-5.41199999e-01,  6.43735449e-01],\n",
       "       [-3.40133014e-01, -9.00799437e-02],\n",
       "       [-4.12569995e-01, -9.06907974e-01],\n",
       "       [-5.25269812e-01, -8.75706674e-01],\n",
       "       [-5.57084064e-01, -1.76613815e-01],\n",
       "       [-4.14064537e-01, -1.07932971e+00],\n",
       "       [-4.29353845e-01, -5.56991988e-01],\n",
       "       [-1.30993218e-01, -6.64045858e-01],\n",
       "       [-5.77416246e-01, -6.15975502e-01],\n",
       "       [-3.96880947e-01,  2.87288987e-01],\n",
       "       [-2.51940441e-01,  4.89764687e-01],\n",
       "       [-1.70845558e-01,  7.47491852e-01],\n",
       "       [-1.02268697e-01,  6.39904161e-01],\n",
       "       [-1.98701821e-01,  1.11948627e+00],\n",
       "       [-5.19956746e-01,  4.94163583e-01],\n",
       "       [-2.70703705e-01,  9.14566276e-01],\n",
       "       [-7.73252110e-02,  9.63777580e-01],\n",
       "       [-1.24841307e-01,  5.96855702e-01],\n",
       "       [-2.20970455e-01, -5.36957669e-01],\n",
       "       [-6.18213428e-02, -3.63850612e-01],\n",
       "       [-2.87139984e-01, -4.49752704e-01],\n",
       "       [-5.42722261e-02, -1.83265917e-01],\n",
       "       [-1.50853583e-01, -3.60594144e-01],\n",
       "       [-2.34669462e-01, -8.29772563e-01],\n",
       "       [ 8.93113100e-02, -2.02699419e-01],\n",
       "       [-2.20651464e-01, -6.05827254e-01],\n",
       "       [-7.41931960e-02,  2.44205783e-02],\n",
       "       [-5.61191667e-02,  1.00924888e+00],\n",
       "       [ 2.66590415e-02,  1.01244980e+00],\n",
       "       [-1.07764396e-01,  1.87012452e-01],\n",
       "       [-1.15722524e-01, -3.58707199e-03],\n",
       "       [-1.22553397e-01,  6.21157780e-01],\n",
       "       [-1.66233546e-01,  6.40746779e-01],\n",
       "       [ 2.00619379e-01,  8.15065185e-02],\n",
       "       [-4.35916021e-02,  9.31585813e-01],\n",
       "       [-1.47886343e-01,  5.75314790e-01],\n",
       "       [ 5.90056356e-02, -3.33207905e-02],\n",
       "       [ 1.81690715e-03,  2.24990376e-01],\n",
       "       [-2.23921739e-02, -1.43273569e-01],\n",
       "       [ 1.51013075e-01, -5.58066072e-01],\n",
       "       [ 1.60369475e-01, -1.09640819e+00],\n",
       "       [-4.55987686e-02, -7.18297421e-01],\n",
       "       [-5.49695388e-02, -2.09279389e-01],\n",
       "       [ 9.95510409e-03, -7.37770267e-02],\n",
       "       [ 1.08957784e-01, -4.97573958e-01],\n",
       "       [-9.46594992e-02, -5.40433302e-01],\n",
       "       [-9.01463882e-02,  2.94742237e-01],\n",
       "       [-3.78891125e-02, -4.09512243e-01],\n",
       "       [ 2.13001431e-01,  4.68580198e-01],\n",
       "       [ 3.60488819e-01,  1.00189181e+00],\n",
       "       [ 2.72765263e-01,  1.35090971e+00],\n",
       "       [ 2.80623348e-01,  1.41970129e+00],\n",
       "       [ 2.96235433e-01,  8.21403052e-01],\n",
       "       [ 1.67950412e-01,  1.43103580e+00],\n",
       "       [ 1.89103035e-01,  1.60510676e+00],\n",
       "       [-4.95392608e-02,  8.47837435e-01],\n",
       "       [ 2.27659467e-01, -9.55431181e-03],\n",
       "       [ 3.93562270e-02,  2.00639312e-01],\n",
       "       [ 3.35250336e-01,  3.22275900e-01],\n",
       "       [ 3.80415395e-01,  6.07837851e-02],\n",
       "       [ 2.12086040e-01, -5.93231111e-01],\n",
       "       [ 2.52888163e-01, -5.51374366e-01],\n",
       "       [ 1.24525168e-01, -9.51903452e-02],\n",
       "       [ 1.88468390e-01, -4.93009102e-01],\n",
       "       [ 2.94449194e-01, -6.89699743e-01],\n",
       "       [ 5.01542261e-01, -5.21428230e-01],\n",
       "       [ 4.92739789e-01,  4.35022373e-01],\n",
       "       [ 5.08277790e-01,  1.50371504e+00],\n",
       "       [ 4.86988175e-01,  5.06280066e-01],\n",
       "       [ 3.48695236e-01,  6.52213948e-01],\n",
       "       [ 3.16591925e-01,  5.92760068e-01],\n",
       "       [ 3.32199820e-01,  8.02000260e-01],\n",
       "       [ 3.38108619e-01,  1.31644833e+00],\n",
       "       [ 3.39975334e-01,  2.85071205e-01],\n",
       "       [ 2.87795971e-01, -4.28473960e-01],\n",
       "       [ 3.41340533e-01,  2.21493579e-01],\n",
       "       [ 6.84235325e-01, -2.46183916e-01],\n",
       "       [ 3.60161541e-01, -1.15891301e+00],\n",
       "       [ 7.82982190e-01,  9.05734351e-02],\n",
       "       [ 6.10096315e-01, -8.63155303e-01],\n",
       "       [ 4.22401951e-01, -1.23360344e+00],\n",
       "       [ 5.79476658e-01, -6.81533920e-01],\n",
       "       [ 4.91584293e-01, -4.78458575e-01],\n",
       "       [ 7.89277922e-01, -2.06126493e-01],\n",
       "       [ 8.08224086e-01,  2.06802461e-01],\n",
       "       [ 1.02388045e+00,  4.11028034e-01],\n",
       "       [ 7.80143038e-01,  6.03232979e-01],\n",
       "       [ 6.54413750e-01,  6.75601391e-01],\n",
       "       [ 7.21336885e-01,  6.49346277e-01],\n",
       "       [ 7.87544952e-01,  1.14275254e-01],\n",
       "       [ 9.07142771e-01,  6.01156425e-01],\n",
       "       [ 7.31710209e-01,  8.10525266e-02],\n",
       "       [ 9.03279588e-01,  5.05655480e-01],\n",
       "       [ 8.44350060e-01,  7.52273534e-02],\n",
       "       [ 7.07098015e-01, -1.80802079e-01],\n",
       "       [ 7.95554032e-01, -7.14303048e-01],\n",
       "       [ 7.51573156e-01, -5.83264792e-01],\n",
       "       [ 9.14784562e-01, -7.47198797e-01],\n",
       "       [ 9.92519241e-01, -1.00057316e+00],\n",
       "       [ 1.01054627e+00, -3.24627031e-01],\n",
       "       [ 1.21545587e+00, -9.07384322e-02],\n",
       "       [ 9.98008271e-01, -7.14609398e-02],\n",
       "       [ 1.23114328e+00,  1.07621306e-01],\n",
       "       [ 1.65247605e+00,  8.07053748e-01],\n",
       "       [ 1.37672647e+00,  8.16077940e-01],\n",
       "       [ 1.24479067e+00,  4.23578791e-01],\n",
       "       [ 1.27508068e+00,  5.47139382e-01],\n",
       "       [ 1.18515010e+00,  1.06597612e+00],\n",
       "       [ 1.33247418e+00,  1.04139897e+00],\n",
       "       [ 1.01236867e+00,  5.22299207e-01],\n",
       "       [ 1.12739410e+00,  1.26610349e+00],\n",
       "       [ 1.03651912e+00,  8.91754555e-01],\n",
       "       [ 1.02075749e+00,  6.23132236e-01],\n",
       "       [ 9.61542022e-01,  2.50599124e-01],\n",
       "       [ 1.25099502e+00, -7.62481532e-02],\n",
       "       [ 1.03748308e+00,  3.96441732e-01],\n",
       "       [ 1.20994496e+00,  1.43839734e-01],\n",
       "       [ 1.21411327e+00, -3.61869556e-01],\n",
       "       [ 1.60082177e+00, -4.98043086e-01],\n",
       "       [ 1.56013161e+00, -1.97535026e-01],\n",
       "       [ 1.64403913e+00, -2.76285348e-01],\n",
       "       [ 1.70681935e+00, -6.25267403e-01],\n",
       "       [ 1.66538618e+00, -2.16529498e-01],\n",
       "       [ 1.81192243e+00, -1.92724677e-01],\n",
       "       [ 1.51655707e+00,  1.01782020e-01],\n",
       "       [ 1.81299476e+00,  2.55130948e-01],\n",
       "       [ 1.70341058e+00, -2.55229167e-01],\n",
       "       [ 1.59819582e+00,  6.39867228e-01],\n",
       "       [ 1.69884999e+00,  1.46774748e-01],\n",
       "       [ 1.72376978e+00, -1.44356187e-01],\n",
       "       [ 1.65542616e+00, -5.25970412e-02],\n",
       "       [ 1.81320455e+00,  2.56921480e-01],\n",
       "       [ 1.66660150e+00, -2.17927217e-01],\n",
       "       [ 1.63745643e+00, -2.20774267e-01],\n",
       "       [ 1.68812084e+00,  1.73965940e-02],\n",
       "       [ 1.82538635e+00, -4.79719600e-02],\n",
       "       [ 1.96348848e+00,  3.38100835e-01],\n",
       "       [ 1.82816262e+00, -1.22028417e-01],\n",
       "       [ 1.89703687e+00,  2.50984370e-01],\n",
       "       [ 1.84131315e+00, -3.02574493e-02],\n",
       "       [ 1.61402752e+00, -3.24332175e-01],\n",
       "       [ 1.66304488e+00, -1.28443726e-01],\n",
       "       [ 1.80368676e+00, -5.35417379e-01],\n",
       "       [ 1.64579538e+00, -3.20768510e-01],\n",
       "       [ 1.58604810e+00, -8.04947208e-01],\n",
       "       [ 1.46008310e+00,  4.59618483e-01],\n",
       "       [ 1.53663205e+00, -3.14975816e-01],\n",
       "       [ 1.65133809e+00, -5.93363345e-01],\n",
       "       [-3.12567512e-01, -2.74006693e-01],\n",
       "       [ 1.93260909e+00,  3.03564178e+00],\n",
       "       [ 1.87080849e+00,  3.89428109e+00],\n",
       "       [ 2.06665032e+00,  3.52943964e+00],\n",
       "       [ 2.01319037e+00,  3.72407927e+00],\n",
       "       [-1.29128711e+00, -2.99681329e+00],\n",
       "       [-1.20729754e+00, -2.31283407e+00],\n",
       "       [-1.42371190e+00, -3.75047193e+00],\n",
       "       [-1.27448859e+00, -3.19296001e+00],\n",
       "       [-1.26363668e+00, -3.90650514e+00],\n",
       "       [-1.13284544e+00, -2.82173890e+00],\n",
       "       [-1.29003632e+00, -3.38969322e+00],\n",
       "       [-1.29935003e+00, -3.07660374e+00],\n",
       "       [-1.22246522e+00, -3.23807216e+00],\n",
       "       [-1.05551372e+00, -3.52229243e+00]])"
      ]
     },
     "execution_count": 42,
     "metadata": {},
     "output_type": "execute_result"
    }
   ],
   "source": [
    "X_transform = scaler.fit_transform(X);\n",
    "X_transform"
   ]
  },
  {
   "cell_type": "code",
   "execution_count": 43,
   "id": "aceb6fc2",
   "metadata": {},
   "outputs": [
    {
     "data": {
      "text/plain": [
       "<matplotlib.collections.PathCollection at 0x1d569769fd0>"
      ]
     },
     "execution_count": 43,
     "metadata": {},
     "output_type": "execute_result"
    },
    {
     "data": {
      "image/png": "[encoded data removed]",
      "text/plain": [
       "<Figure size 640x480 with 1 Axes>"
      ]
     },
     "metadata": {},
     "output_type": "display_data"
    }
   ],
   "source": [
    "plt.scatter(X_transform[:,0], X_transform[:,1],c=c)"
   ]
  },
  {
   "cell_type": "code",
   "execution_count": 44,
   "id": "baf56700",
   "metadata": {},
   "outputs": [],
   "source": [
    "import numpy as np\n",
    "x = np.random.exponential(10,(1000))+np.random.normal(0,1,(1000))"
   ]
  },
  {
   "cell_type": "code",
   "execution_count": 45,
   "id": "1ad5f1aa",
   "metadata": {},
   "outputs": [
    {
     "data": {
      "text/plain": [
       "(array([ 74., 169., 156., 128., 100.,  78.,  76.,  40.,  43.,  33.,  20.,\n",
       "         18.,  15.,  10.,   8.,   6.,   6.,   3.,   5.,   3.,   3.,   1.,\n",
       "          2.,   0.,   1.,   0.,   0.,   0.,   1.,   1.]),\n",
       " array([-1.60486641,  0.82970432,  3.26427505,  5.69884578,  8.13341651,\n",
       "        10.56798724, 13.00255797, 15.43712871, 17.87169944, 20.30627017,\n",
       "        22.7408409 , 25.17541163, 27.60998236, 30.04455309, 32.47912382,\n",
       "        34.91369455, 37.34826528, 39.78283601, 42.21740674, 44.65197747,\n",
       "        47.0865482 , 49.52111893, 51.95568966, 54.39026039, 56.82483113,\n",
       "        59.25940186, 61.69397259, 64.12854332, 66.56311405, 68.99768478,\n",
       "        71.43225551]),\n",
       " <BarContainer object of 30 artists>)"
      ]
     },
     "execution_count": 45,
     "metadata": {},
     "output_type": "execute_result"
    },
    {
     "data": {
      "image/png": "[encoded data removed]",
      "text/plain": [
       "<Figure size 640x480 with 1 Axes>"
      ]
     },
     "metadata": {},
     "output_type": "display_data"
    }
   ],
   "source": [
    "plt.hist(x, bins=30)"
   ]
  },
  {
   "cell_type": "code",
   "execution_count": 46,
   "id": "7acdda97",
   "metadata": {
    "scrolled": true
   },
   "outputs": [
    {
     "data": {
      "text/plain": [
       "(array([ 74., 169., 156., 128., 100.,  78.,  76.,  40.,  43.,  33.,  20.,\n",
       "         18.,  15.,  10.,   8.,   6.,   6.,   3.,   5.,   3.,   3.,   1.,\n",
       "          2.,   0.,   1.,   0.,   0.,   0.,   1.,   1.]),\n",
       " array([-1.20408611, -0.96014246, -0.71619881, -0.47225515, -0.2283115 ,\n",
       "         0.01563215,  0.25957581,  0.50351946,  0.74746311,  0.99140677,\n",
       "         1.23535042,  1.47929408,  1.72323773,  1.96718138,  2.21112504,\n",
       "         2.45506869,  2.69901234,  2.942956  ,  3.18689965,  3.4308433 ,\n",
       "         3.67478696,  3.91873061,  4.16267426,  4.40661792,  4.65056157,\n",
       "         4.89450522,  5.13844888,  5.38239253,  5.62633618,  5.87027984,\n",
       "         6.11422349]),\n",
       " <BarContainer object of 30 artists>)"
      ]
     },
     "execution_count": 46,
     "metadata": {},
     "output_type": "execute_result"
    },
    {
     "data": {
      "image/png": "[encoded data removed]",
      "text/plain": [
       "<Figure size 640x480 with 1 Axes>"
      ]
     },
     "metadata": {},
     "output_type": "display_data"
    }
   ],
   "source": [
    "plt.hist((x-np.mean(x))/np.std(x), bins=30)"
   ]
  },
  {
   "cell_type": "code",
   "execution_count": 47,
   "id": "6e3d8fec",
   "metadata": {},
   "outputs": [],
   "source": [
    "# outlier is a problem"
   ]
  },
  {
   "cell_type": "code",
   "execution_count": 48,
   "id": "453ef263",
   "metadata": {},
   "outputs": [],
   "source": [
    "# Quantile --> percentage"
   ]
  },
  {
   "cell_type": "code",
   "execution_count": 49,
   "id": "b474471f",
   "metadata": {},
   "outputs": [],
   "source": [
    "from sklearn.preprocessing import QuantileTransformer"
   ]
  },
  {
   "cell_type": "code",
   "execution_count": 50,
   "id": "a8e9e1db",
   "metadata": {},
   "outputs": [],
   "source": [
    "X_transform = QuantileTransformer(n_quantiles=100).fit_transform(X)"
   ]
  },
  {
   "cell_type": "code",
   "execution_count": 51,
   "id": "85a54a53",
   "metadata": {},
   "outputs": [
    {
     "data": {
      "text/plain": [
       "<matplotlib.collections.PathCollection at 0x1d569c5a690>"
      ]
     },
     "execution_count": 51,
     "metadata": {},
     "output_type": "execute_result"
    },
    {
     "data": {
      "image/png": "[encoded data removed]",
      "text/plain": [
       "<Figure size 640x480 with 1 Axes>"
      ]
     },
     "metadata": {},
     "output_type": "display_data"
    }
   ],
   "source": [
    "plt.scatter(X_transform[:,0], X_transform[:,1],c=c)"
   ]
  },
  {
   "cell_type": "code",
   "execution_count": 52,
   "id": "9aa39d8b",
   "metadata": {},
   "outputs": [
    {
     "data": {
      "text/html": [
       "<div>\n",
       "<style scoped>\n",
       "    .dataframe tbody tr th:only-of-type {\n",
       "        vertical-align: middle;\n",
       "    }\n",
       "\n",
       "    .dataframe tbody tr th {\n",
       "        vertical-align: top;\n",
       "    }\n",
       "\n",
       "    .dataframe thead th {\n",
       "        text-align: right;\n",
       "    }\n",
       "</style>\n",
       "<table border=\"1\" class=\"dataframe\">\n",
       "  <thead>\n",
       "    <tr style=\"text-align: right;\">\n",
       "      <th></th>\n",
       "      <th>x</th>\n",
       "      <th>y</th>\n",
       "      <th>z</th>\n",
       "    </tr>\n",
       "  </thead>\n",
       "  <tbody>\n",
       "    <tr>\n",
       "      <th>0</th>\n",
       "      <td>469.759355</td>\n",
       "      <td>453.574946</td>\n",
       "      <td>a</td>\n",
       "    </tr>\n",
       "    <tr>\n",
       "      <th>1</th>\n",
       "      <td>535.331819</td>\n",
       "      <td>435.221848</td>\n",
       "      <td>a</td>\n",
       "    </tr>\n",
       "    <tr>\n",
       "      <th>2</th>\n",
       "      <td>504.285526</td>\n",
       "      <td>437.767578</td>\n",
       "      <td>a</td>\n",
       "    </tr>\n",
       "    <tr>\n",
       "      <th>3</th>\n",
       "      <td>469.891398</td>\n",
       "      <td>368.371652</td>\n",
       "      <td>a</td>\n",
       "    </tr>\n",
       "    <tr>\n",
       "      <th>4</th>\n",
       "      <td>405.425622</td>\n",
       "      <td>403.141546</td>\n",
       "      <td>a</td>\n",
       "    </tr>\n",
       "  </tbody>\n",
       "</table>\n",
       "</div>"
      ],
      "text/plain": [
       "            x           y  z\n",
       "0  469.759355  453.574946  a\n",
       "1  535.331819  435.221848  a\n",
       "2  504.285526  437.767578  a\n",
       "3  469.891398  368.371652  a\n",
       "4  405.425622  403.141546  a"
      ]
     },
     "execution_count": 52,
     "metadata": {},
     "output_type": "execute_result"
    }
   ],
   "source": [
    "df = pd.read_csv(\"drawndata2.csv\");\n",
    "df.head()"
   ]
  },
  {
   "cell_type": "code",
   "execution_count": 53,
   "id": "298086cb",
   "metadata": {},
   "outputs": [],
   "source": [
    "from sklearn.linear_model import LogisticRegression\n",
    "model =  LogisticRegression()\n",
    "\n",
    "pipe = Pipeline([\n",
    "    (\"scaler\",QuantileTransformer(n_quantiles=100)),\n",
    "    (\"model\",LogisticRegression()) ]\n",
    ");"
   ]
  },
  {
   "cell_type": "code",
   "execution_count": 54,
   "id": "3e26a1d3",
   "metadata": {
    "scrolled": true
   },
   "outputs": [
    {
     "data": {
      "text/html": [
       "<style>#sk-container-id-6 {color: black;}#sk-container-id-6 pre{padding: 0;}#sk-container-id-6 div.sk-toggleable {background-color: white;}#sk-container-id-6 label.sk-toggleable__label {cursor: pointer;display: block;width: 100%;margin-bottom: 0;padding: 0.3em;box-sizing: border-box;text-align: center;}#sk-container-id-6 label.sk-toggleable__label-arrow:before {content: \"▸\";float: left;margin-right: 0.25em;color: #696969;}#sk-container-id-6 label.sk-toggleable__label-arrow:hover:before {color: black;}#sk-container-id-6 div.sk-estimator:hover label.sk-toggleable__label-arrow:before {color: black;}#sk-container-id-6 div.sk-toggleable__content {max-height: 0;max-width: 0;overflow: hidden;text-align: left;background-color: #f0f8ff;}#sk-container-id-6 div.sk-toggleable__content pre {margin: 0.2em;color: black;border-radius: 0.25em;background-color: #f0f8ff;}#sk-container-id-6 input.sk-toggleable__control:checked~div.sk-toggleable__content {max-height: 200px;max-width: 100%;overflow: auto;}#sk-container-id-6 input.sk-toggleable__control:checked~label.sk-toggleable__label-arrow:before {content: \"▾\";}#sk-container-id-6 div.sk-estimator input.sk-toggleable__control:checked~label.sk-toggleable__label {background-color: #d4ebff;}#sk-container-id-6 div.sk-label input.sk-toggleable__control:checked~label.sk-toggleable__label {background-color: #d4ebff;}#sk-container-id-6 input.sk-hidden--visually {border: 0;clip: rect(1px 1px 1px 1px);clip: rect(1px, 1px, 1px, 1px);height: 1px;margin: -1px;overflow: hidden;padding: 0;position: absolute;width: 1px;}#sk-container-id-6 div.sk-estimator {font-family: monospace;background-color: #f0f8ff;border: 1px dotted black;border-radius: 0.25em;box-sizing: border-box;margin-bottom: 0.5em;}#sk-container-id-6 div.sk-estimator:hover {background-color: #d4ebff;}#sk-container-id-6 div.sk-parallel-item::after {content: \"\";width: 100%;border-bottom: 1px solid gray;flex-grow: 1;}#sk-container-id-6 div.sk-label:hover label.sk-toggleable__label {background-color: #d4ebff;}#sk-container-id-6 div.sk-serial::before {content: \"\";position: absolute;border-left: 1px solid gray;box-sizing: border-box;top: 0;bottom: 0;left: 50%;z-index: 0;}#sk-container-id-6 div.sk-serial {display: flex;flex-direction: column;align-items: center;background-color: white;padding-right: 0.2em;padding-left: 0.2em;position: relative;}#sk-container-id-6 div.sk-item {position: relative;z-index: 1;}#sk-container-id-6 div.sk-parallel {display: flex;align-items: stretch;justify-content: center;background-color: white;position: relative;}#sk-container-id-6 div.sk-item::before, #sk-container-id-6 div.sk-parallel-item::before {content: \"\";position: absolute;border-left: 1px solid gray;box-sizing: border-box;top: 0;bottom: 0;left: 50%;z-index: -1;}#sk-container-id-6 div.sk-parallel-item {display: flex;flex-direction: column;z-index: 1;position: relative;background-color: white;}#sk-container-id-6 div.sk-parallel-item:first-child::after {align-self: flex-end;width: 50%;}#sk-container-id-6 div.sk-parallel-item:last-child::after {align-self: flex-start;width: 50%;}#sk-container-id-6 div.sk-parallel-item:only-child::after {width: 0;}#sk-container-id-6 div.sk-dashed-wrapped {border: 1px dashed gray;margin: 0 0.4em 0.5em 0.4em;box-sizing: border-box;padding-bottom: 0.4em;background-color: white;}#sk-container-id-6 div.sk-label label {font-family: monospace;font-weight: bold;display: inline-block;line-height: 1.2em;}#sk-container-id-6 div.sk-label-container {text-align: center;}#sk-container-id-6 div.sk-container {/* jupyter's `normalize.less` sets `[hidden] { display: none; }` but bootstrap.min.css set `[hidden] { display: none !important; }` so we also need the `!important` here to be able to override the default hidden behavior on the sphinx rendered scikit-learn.org. See: https://github.com/scikit-learn/scikit-learn/issues/21755 */display: inline-block !important;position: relative;}#sk-container-id-6 div.sk-text-repr-fallback {display: none;}</style><div id=\"sk-container-id-6\" class=\"sk-top-container\"><div class=\"sk-text-repr-fallback\"><pre>Pipeline(steps=[(&#x27;scaler&#x27;, QuantileTransformer(n_quantiles=100)),\n",
       "                (&#x27;model&#x27;, LogisticRegression())])</pre><b>In a Jupyter environment, please rerun this cell to show the HTML representation or trust the notebook. <br />On GitHub, the HTML representation is unable to render, please try loading this page with nbviewer.org.</b></div><div class=\"sk-container\" hidden><div class=\"sk-item sk-dashed-wrapped\"><div class=\"sk-label-container\"><div class=\"sk-label sk-toggleable\"><input class=\"sk-toggleable__control sk-hidden--visually\" id=\"sk-estimator-id-13\" type=\"checkbox\" ><label for=\"sk-estimator-id-13\" class=\"sk-toggleable__label sk-toggleable__label-arrow\">Pipeline</label><div class=\"sk-toggleable__content\"><pre>Pipeline(steps=[(&#x27;scaler&#x27;, QuantileTransformer(n_quantiles=100)),\n",
       "                (&#x27;model&#x27;, LogisticRegression())])</pre></div></div></div><div class=\"sk-serial\"><div class=\"sk-item\"><div class=\"sk-estimator sk-toggleable\"><input class=\"sk-toggleable__control sk-hidden--visually\" id=\"sk-estimator-id-14\" type=\"checkbox\" ><label for=\"sk-estimator-id-14\" class=\"sk-toggleable__label sk-toggleable__label-arrow\">QuantileTransformer</label><div class=\"sk-toggleable__content\"><pre>QuantileTransformer(n_quantiles=100)</pre></div></div></div><div class=\"sk-item\"><div class=\"sk-estimator sk-toggleable\"><input class=\"sk-toggleable__control sk-hidden--visually\" id=\"sk-estimator-id-15\" type=\"checkbox\" ><label for=\"sk-estimator-id-15\" class=\"sk-toggleable__label sk-toggleable__label-arrow\">LogisticRegression</label><div class=\"sk-toggleable__content\"><pre>LogisticRegression()</pre></div></div></div></div></div></div></div>"
      ],
      "text/plain": [
       "Pipeline(steps=[('scaler', QuantileTransformer(n_quantiles=100)),\n",
       "                ('model', LogisticRegression())])"
      ]
     },
     "execution_count": 54,
     "metadata": {},
     "output_type": "execute_result"
    }
   ],
   "source": [
    "X = df.iloc[:,0:2]\n",
    "y = df.iloc[:,2]\n",
    "pipe.fit(X,y)"
   ]
  },
  {
   "cell_type": "code",
   "execution_count": 55,
   "id": "9e2c5c45",
   "metadata": {},
   "outputs": [
    {
     "data": {
      "text/plain": [
       "<matplotlib.collections.PathCollection at 0x1d569702610>"
      ]
     },
     "execution_count": 55,
     "metadata": {},
     "output_type": "execute_result"
    },
    {
     "data": {
      "image/png": "[encoded data removed]",
      "text/plain": [
       "<Figure size 640x480 with 1 Axes>"
      ]
     },
     "metadata": {},
     "output_type": "display_data"
    }
   ],
   "source": [
    "plt.scatter(X.iloc[:,0], X.iloc[:,1])"
   ]
  },
  {
   "cell_type": "code",
   "execution_count": 56,
   "id": "830a01b4",
   "metadata": {},
   "outputs": [
    {
     "data": {
      "text/plain": [
       "array(['a', 'a', 'a', 'a', 'a', 'a', 'a', 'a', 'a', 'a', 'a', 'a', 'b',\n",
       "       'b', 'b', 'b', 'b', 'b', 'b', 'b', 'b', 'b', 'b', 'b', 'b', 'b',\n",
       "       'b', 'b', 'b', 'b', 'b', 'b', 'b', 'b', 'a', 'a', 'a', 'a', 'a',\n",
       "       'a', 'a', 'a', 'a', 'a', 'a', 'a', 'a', 'a', 'a', 'a', 'a', 'a',\n",
       "       'a', 'a', 'a', 'a', 'a', 'b', 'b', 'b', 'b', 'b', 'b', 'b', 'b',\n",
       "       'b', 'b', 'b', 'b', 'b', 'b', 'a', 'a', 'a', 'a', 'a', 'a', 'a',\n",
       "       'a', 'a', 'a', 'a', 'a', 'a', 'a', 'a', 'a', 'b', 'b', 'b', 'b',\n",
       "       'b', 'b', 'b', 'b', 'b', 'b', 'a', 'a', 'a', 'a', 'a', 'a', 'a',\n",
       "       'a', 'a', 'a', 'a', 'a', 'a', 'a', 'a', 'a', 'a', 'a', 'a', 'b',\n",
       "       'b', 'b', 'b', 'b', 'b', 'b', 'a', 'a', 'a', 'a', 'a', 'a', 'a',\n",
       "       'a', 'a', 'a', 'b', 'b', 'b', 'b', 'b', 'b', 'a', 'b', 'a', 'a',\n",
       "       'a', 'a', 'a', 'a', 'b', 'b', 'b', 'b', 'b', 'b', 'b', 'b', 'b',\n",
       "       'b', 'b', 'a', 'a', 'a', 'a', 'a', 'a', 'a', 'a', 'a', 'a', 'a',\n",
       "       'b', 'b', 'b', 'b', 'b', 'b', 'b', 'b', 'b', 'a', 'a', 'a', 'a',\n",
       "       'a', 'a', 'a', 'a', 'a', 'a', 'b', 'b', 'b', 'b', 'b', 'b', 'b',\n",
       "       'b', 'a', 'a', 'a', 'a', 'a', 'b', 'a', 'b', 'b', 'b', 'b', 'b',\n",
       "       'a', 'a', 'a', 'a', 'a', 'b', 'a', 'a', 'a'], dtype=object)"
      ]
     },
     "execution_count": 56,
     "metadata": {},
     "output_type": "execute_result"
    }
   ],
   "source": [
    "pred = pipe.predict(X)\n",
    "pred"
   ]
  },
  {
   "cell_type": "code",
   "execution_count": 57,
   "id": "7ebff92a",
   "metadata": {},
   "outputs": [
    {
     "data": {
      "text/plain": [
       "<matplotlib.collections.PathCollection at 0x1d569a8be90>"
      ]
     },
     "execution_count": 57,
     "metadata": {},
     "output_type": "execute_result"
    },
    {
     "data": {
      "image/png": "[encoded data removed]",
      "text/plain": [
       "<Figure size 640x480 with 1 Axes>"
      ]
     },
     "metadata": {},
     "output_type": "display_data"
    }
   ],
   "source": [
    "pred = pred==\"a\"\n",
    "plt.scatter(X.iloc[:,0], X.iloc[:,1], c=pred)"
   ]
  },
  {
   "cell_type": "code",
   "execution_count": 58,
   "id": "a126d984",
   "metadata": {},
   "outputs": [],
   "source": [
    "from sklearn.preprocessing import PolynomialFeatures"
   ]
  },
  {
   "cell_type": "code",
   "execution_count": 59,
   "id": "4c56d163",
   "metadata": {},
   "outputs": [
    {
     "data": {
      "text/plain": [
       "array(['a', 'a', 'a', 'a', 'a', 'a', 'a', 'a', 'a', 'a', 'a', 'a', 'a',\n",
       "       'a', 'a', 'a', 'a', 'a', 'a', 'a', 'a', 'a', 'a', 'a', 'a', 'a',\n",
       "       'a', 'a', 'a', 'a', 'a', 'a', 'a', 'a', 'a', 'a', 'a', 'a', 'a',\n",
       "       'a', 'a', 'a', 'a', 'a', 'a', 'a', 'a', 'a', 'a', 'a', 'a', 'a',\n",
       "       'a', 'a', 'a', 'a', 'a', 'a', 'a', 'a', 'a', 'a', 'a', 'a', 'a',\n",
       "       'a', 'a', 'a', 'a', 'a', 'a', 'a', 'a', 'a', 'a', 'a', 'a', 'a',\n",
       "       'a', 'a', 'a', 'a', 'a', 'a', 'a', 'a', 'a', 'a', 'a', 'a', 'a',\n",
       "       'a', 'a', 'a', 'a', 'a', 'a', 'a', 'a', 'a', 'a', 'a', 'a', 'a',\n",
       "       'a', 'a', 'a', 'a', 'a', 'a', 'a', 'b', 'b', 'b', 'b', 'b', 'b',\n",
       "       'b', 'b', 'b', 'b', 'b', 'b', 'b', 'b', 'b', 'b', 'b', 'b', 'b',\n",
       "       'b', 'b', 'b', 'b', 'b', 'b', 'b', 'b', 'b', 'b', 'b', 'b', 'b',\n",
       "       'b', 'b', 'b', 'b', 'b', 'b', 'b', 'b', 'b', 'b', 'b', 'b', 'b',\n",
       "       'b', 'b', 'b', 'b', 'b', 'b', 'b', 'b', 'b', 'b', 'b', 'b', 'b',\n",
       "       'b', 'b', 'b', 'b', 'b', 'b', 'b', 'b', 'b', 'b', 'b', 'b', 'b',\n",
       "       'b', 'b', 'b', 'b', 'b', 'b', 'b', 'b', 'b', 'b', 'b', 'b', 'b',\n",
       "       'b', 'b', 'b', 'b', 'b', 'b', 'b', 'b', 'b', 'b', 'b', 'b', 'b',\n",
       "       'b', 'b', 'b', 'b', 'b', 'b', 'b', 'b', 'b'], dtype=object)"
      ]
     },
     "execution_count": 59,
     "metadata": {},
     "output_type": "execute_result"
    }
   ],
   "source": [
    "pipe = Pipeline([\n",
    "    (\"scaler\",PolynomialFeatures()),\n",
    "    (\"model\",LogisticRegression()) ]\n",
    ");\n",
    "\n",
    "X = df.iloc[:,0:2]\n",
    "y = df.iloc[:,2]\n",
    "pipe.fit(X,y)\n",
    "\n",
    "pred = pipe.predict(X)\n",
    "pred"
   ]
  },
  {
   "cell_type": "code",
   "execution_count": 60,
   "id": "d6b3f503",
   "metadata": {},
   "outputs": [
    {
     "data": {
      "text/plain": [
       "<matplotlib.collections.PathCollection at 0x1d569c33910>"
      ]
     },
     "execution_count": 60,
     "metadata": {},
     "output_type": "execute_result"
    },
    {
     "data": {
      "image/png": "[encoded data removed]",
      "text/plain": [
       "<Figure size 640x480 with 1 Axes>"
      ]
     },
     "metadata": {},
     "output_type": "display_data"
    }
   ],
   "source": [
    "pred = pred==\"a\"\n",
    "plt.scatter(X.iloc[:,0], X.iloc[:,1], c=pred)"
   ]
  },
  {
   "cell_type": "code",
   "execution_count": 61,
   "id": "2d82dc37",
   "metadata": {},
   "outputs": [],
   "source": [
    "arr = np.array([\"low\",\"low\", \"high\", \"medium\"])"
   ]
  },
  {
   "cell_type": "code",
   "execution_count": 62,
   "id": "d11ab363",
   "metadata": {},
   "outputs": [
    {
     "data": {
      "text/plain": [
       "array(['low', 'low', 'high', 'medium'], dtype='<U6')"
      ]
     },
     "execution_count": 62,
     "metadata": {},
     "output_type": "execute_result"
    }
   ],
   "source": [
    "arr"
   ]
  },
  {
   "cell_type": "code",
   "execution_count": 63,
   "id": "da0d1f85",
   "metadata": {},
   "outputs": [],
   "source": [
    "arr = arr.reshape(-1,1)"
   ]
  },
  {
   "cell_type": "code",
   "execution_count": 64,
   "id": "4f853e6a",
   "metadata": {},
   "outputs": [],
   "source": [
    "# converting text to numeric"
   ]
  },
  {
   "cell_type": "code",
   "execution_count": 65,
   "id": "12e3e002",
   "metadata": {},
   "outputs": [],
   "source": [
    "from sklearn.preprocessing import OneHotEncoder"
   ]
  },
  {
   "cell_type": "code",
   "execution_count": 66,
   "id": "cf60ea58",
   "metadata": {},
   "outputs": [
    {
     "data": {
      "text/plain": [
       "array([[0., 1., 0.],\n",
       "       [0., 1., 0.],\n",
       "       [1., 0., 0.],\n",
       "       [0., 0., 1.]])"
      ]
     },
     "execution_count": 66,
     "metadata": {},
     "output_type": "execute_result"
    }
   ],
   "source": [
    "encoder = OneHotEncoder(sparse_output=False, handle_unknown='ignore')\n",
    "encoder.fit_transform(arr)"
   ]
  },
  {
   "cell_type": "code",
   "execution_count": 67,
   "id": "cd69616f",
   "metadata": {},
   "outputs": [
    {
     "data": {
      "text/plain": [
       "array([[0., 0., 0.]])"
      ]
     },
     "execution_count": 67,
     "metadata": {},
     "output_type": "execute_result"
    }
   ],
   "source": [
    "encoder.transform([[\"zero\"]])"
   ]
  },
  {
   "cell_type": "code",
   "execution_count": 68,
   "id": "87dad0b7",
   "metadata": {},
   "outputs": [],
   "source": [
    "# drawsata.xyz"
   ]
  },
  {
   "cell_type": "code",
   "execution_count": 69,
   "id": "d82e7aa4",
   "metadata": {},
   "outputs": [],
   "source": [
    "# from kaggle: Credit card fault detection\n",
    "df = pd.read_csv(\"creditcard.csv\")[:80_000]"
   ]
  },
  {
   "cell_type": "code",
   "execution_count": 70,
   "id": "3f15cd53",
   "metadata": {},
   "outputs": [
    {
     "data": {
      "text/html": [
       "<div>\n",
       "<style scoped>\n",
       "    .dataframe tbody tr th:only-of-type {\n",
       "        vertical-align: middle;\n",
       "    }\n",
       "\n",
       "    .dataframe tbody tr th {\n",
       "        vertical-align: top;\n",
       "    }\n",
       "\n",
       "    .dataframe thead th {\n",
       "        text-align: right;\n",
       "    }\n",
       "</style>\n",
       "<table border=\"1\" class=\"dataframe\">\n",
       "  <thead>\n",
       "    <tr style=\"text-align: right;\">\n",
       "      <th></th>\n",
       "      <th>Time</th>\n",
       "      <th>V1</th>\n",
       "      <th>V2</th>\n",
       "      <th>V3</th>\n",
       "      <th>V4</th>\n",
       "      <th>V5</th>\n",
       "      <th>V6</th>\n",
       "      <th>V7</th>\n",
       "      <th>V8</th>\n",
       "      <th>V9</th>\n",
       "      <th>...</th>\n",
       "      <th>V21</th>\n",
       "      <th>V22</th>\n",
       "      <th>V23</th>\n",
       "      <th>V24</th>\n",
       "      <th>V25</th>\n",
       "      <th>V26</th>\n",
       "      <th>V27</th>\n",
       "      <th>V28</th>\n",
       "      <th>Amount</th>\n",
       "      <th>Class</th>\n",
       "    </tr>\n",
       "  </thead>\n",
       "  <tbody>\n",
       "    <tr>\n",
       "      <th>0</th>\n",
       "      <td>0</td>\n",
       "      <td>-1.359807</td>\n",
       "      <td>-0.072781</td>\n",
       "      <td>2.536347</td>\n",
       "      <td>1.378155</td>\n",
       "      <td>-0.338321</td>\n",
       "      <td>0.462388</td>\n",
       "      <td>0.239599</td>\n",
       "      <td>0.098698</td>\n",
       "      <td>0.363787</td>\n",
       "      <td>...</td>\n",
       "      <td>-0.018307</td>\n",
       "      <td>0.277838</td>\n",
       "      <td>-0.110474</td>\n",
       "      <td>0.066928</td>\n",
       "      <td>0.128539</td>\n",
       "      <td>-0.189115</td>\n",
       "      <td>0.133558</td>\n",
       "      <td>-0.021053</td>\n",
       "      <td>149.62</td>\n",
       "      <td>0</td>\n",
       "    </tr>\n",
       "    <tr>\n",
       "      <th>1</th>\n",
       "      <td>0</td>\n",
       "      <td>1.191857</td>\n",
       "      <td>0.266151</td>\n",
       "      <td>0.166480</td>\n",
       "      <td>0.448154</td>\n",
       "      <td>0.060018</td>\n",
       "      <td>-0.082361</td>\n",
       "      <td>-0.078803</td>\n",
       "      <td>0.085102</td>\n",
       "      <td>-0.255425</td>\n",
       "      <td>...</td>\n",
       "      <td>-0.225775</td>\n",
       "      <td>-0.638672</td>\n",
       "      <td>0.101288</td>\n",
       "      <td>-0.339846</td>\n",
       "      <td>0.167170</td>\n",
       "      <td>0.125895</td>\n",
       "      <td>-0.008983</td>\n",
       "      <td>0.014724</td>\n",
       "      <td>2.69</td>\n",
       "      <td>0</td>\n",
       "    </tr>\n",
       "    <tr>\n",
       "      <th>2</th>\n",
       "      <td>1</td>\n",
       "      <td>-1.358354</td>\n",
       "      <td>-1.340163</td>\n",
       "      <td>1.773209</td>\n",
       "      <td>0.379780</td>\n",
       "      <td>-0.503198</td>\n",
       "      <td>1.800499</td>\n",
       "      <td>0.791461</td>\n",
       "      <td>0.247676</td>\n",
       "      <td>-1.514654</td>\n",
       "      <td>...</td>\n",
       "      <td>0.247998</td>\n",
       "      <td>0.771679</td>\n",
       "      <td>0.909412</td>\n",
       "      <td>-0.689281</td>\n",
       "      <td>-0.327642</td>\n",
       "      <td>-0.139097</td>\n",
       "      <td>-0.055353</td>\n",
       "      <td>-0.059752</td>\n",
       "      <td>378.66</td>\n",
       "      <td>0</td>\n",
       "    </tr>\n",
       "    <tr>\n",
       "      <th>3</th>\n",
       "      <td>1</td>\n",
       "      <td>-0.966272</td>\n",
       "      <td>-0.185226</td>\n",
       "      <td>1.792993</td>\n",
       "      <td>-0.863291</td>\n",
       "      <td>-0.010309</td>\n",
       "      <td>1.247203</td>\n",
       "      <td>0.237609</td>\n",
       "      <td>0.377436</td>\n",
       "      <td>-1.387024</td>\n",
       "      <td>...</td>\n",
       "      <td>-0.108300</td>\n",
       "      <td>0.005274</td>\n",
       "      <td>-0.190321</td>\n",
       "      <td>-1.175575</td>\n",
       "      <td>0.647376</td>\n",
       "      <td>-0.221929</td>\n",
       "      <td>0.062723</td>\n",
       "      <td>0.061458</td>\n",
       "      <td>123.50</td>\n",
       "      <td>0</td>\n",
       "    </tr>\n",
       "    <tr>\n",
       "      <th>4</th>\n",
       "      <td>2</td>\n",
       "      <td>-1.158233</td>\n",
       "      <td>0.877737</td>\n",
       "      <td>1.548718</td>\n",
       "      <td>0.403034</td>\n",
       "      <td>-0.407193</td>\n",
       "      <td>0.095921</td>\n",
       "      <td>0.592941</td>\n",
       "      <td>-0.270533</td>\n",
       "      <td>0.817739</td>\n",
       "      <td>...</td>\n",
       "      <td>-0.009431</td>\n",
       "      <td>0.798278</td>\n",
       "      <td>-0.137458</td>\n",
       "      <td>0.141267</td>\n",
       "      <td>-0.206010</td>\n",
       "      <td>0.502292</td>\n",
       "      <td>0.219422</td>\n",
       "      <td>0.215153</td>\n",
       "      <td>69.99</td>\n",
       "      <td>0</td>\n",
       "    </tr>\n",
       "  </tbody>\n",
       "</table>\n",
       "<p>5 rows × 31 columns</p>\n",
       "</div>"
      ],
      "text/plain": [
       "   Time        V1        V2        V3        V4        V5        V6        V7  \\\n",
       "0     0 -1.359807 -0.072781  2.536347  1.378155 -0.338321  0.462388  0.239599   \n",
       "1     0  1.191857  0.266151  0.166480  0.448154  0.060018 -0.082361 -0.078803   \n",
       "2     1 -1.358354 -1.340163  1.773209  0.379780 -0.503198  1.800499  0.791461   \n",
       "3     1 -0.966272 -0.185226  1.792993 -0.863291 -0.010309  1.247203  0.237609   \n",
       "4     2 -1.158233  0.877737  1.548718  0.403034 -0.407193  0.095921  0.592941   \n",
       "\n",
       "         V8        V9  ...       V21       V22       V23       V24       V25  \\\n",
       "0  0.098698  0.363787  ... -0.018307  0.277838 -0.110474  0.066928  0.128539   \n",
       "1  0.085102 -0.255425  ... -0.225775 -0.638672  0.101288 -0.339846  0.167170   \n",
       "2  0.247676 -1.514654  ...  0.247998  0.771679  0.909412 -0.689281 -0.327642   \n",
       "3  0.377436 -1.387024  ... -0.108300  0.005274 -0.190321 -1.175575  0.647376   \n",
       "4 -0.270533  0.817739  ... -0.009431  0.798278 -0.137458  0.141267 -0.206010   \n",
       "\n",
       "        V26       V27       V28  Amount  Class  \n",
       "0 -0.189115  0.133558 -0.021053  149.62      0  \n",
       "1  0.125895 -0.008983  0.014724    2.69      0  \n",
       "2 -0.139097 -0.055353 -0.059752  378.66      0  \n",
       "3 -0.221929  0.062723  0.061458  123.50      0  \n",
       "4  0.502292  0.219422  0.215153   69.99      0  \n",
       "\n",
       "[5 rows x 31 columns]"
      ]
     },
     "execution_count": 70,
     "metadata": {},
     "output_type": "execute_result"
    }
   ],
   "source": [
    "df.head()"
   ]
  },
  {
   "cell_type": "code",
   "execution_count": 71,
   "id": "b216c66a",
   "metadata": {},
   "outputs": [],
   "source": [
    "X = df.drop(columns=['Time', 'Amount', 'Class'])\n",
    "y = df['Class']"
   ]
  },
  {
   "cell_type": "code",
   "execution_count": 72,
   "id": "4c461cea",
   "metadata": {},
   "outputs": [
    {
     "data": {
      "text/plain": [
       "array([0, 1], dtype=int64)"
      ]
     },
     "execution_count": 72,
     "metadata": {},
     "output_type": "execute_result"
    }
   ],
   "source": [
    "y.unique()"
   ]
  },
  {
   "cell_type": "code",
   "execution_count": 73,
   "id": "9581823c",
   "metadata": {},
   "outputs": [
    {
     "data": {
      "text/plain": [
       "Class\n",
       "0    79803\n",
       "1      196\n",
       "Name: count, dtype: int64"
      ]
     },
     "execution_count": 73,
     "metadata": {},
     "output_type": "execute_result"
    }
   ],
   "source": [
    "y.value_counts()"
   ]
  },
  {
   "cell_type": "code",
   "execution_count": 74,
   "id": "737923ed",
   "metadata": {},
   "outputs": [],
   "source": [
    "# 196 out of 80_000 is very low\n",
    "# unbalanced"
   ]
  },
  {
   "cell_type": "code",
   "execution_count": 75,
   "id": "0fa5b604",
   "metadata": {},
   "outputs": [
    {
     "data": {
      "text/html": [
       "<style>#sk-container-id-7 {color: black;}#sk-container-id-7 pre{padding: 0;}#sk-container-id-7 div.sk-toggleable {background-color: white;}#sk-container-id-7 label.sk-toggleable__label {cursor: pointer;display: block;width: 100%;margin-bottom: 0;padding: 0.3em;box-sizing: border-box;text-align: center;}#sk-container-id-7 label.sk-toggleable__label-arrow:before {content: \"▸\";float: left;margin-right: 0.25em;color: #696969;}#sk-container-id-7 label.sk-toggleable__label-arrow:hover:before {color: black;}#sk-container-id-7 div.sk-estimator:hover label.sk-toggleable__label-arrow:before {color: black;}#sk-container-id-7 div.sk-toggleable__content {max-height: 0;max-width: 0;overflow: hidden;text-align: left;background-color: #f0f8ff;}#sk-container-id-7 div.sk-toggleable__content pre {margin: 0.2em;color: black;border-radius: 0.25em;background-color: #f0f8ff;}#sk-container-id-7 input.sk-toggleable__control:checked~div.sk-toggleable__content {max-height: 200px;max-width: 100%;overflow: auto;}#sk-container-id-7 input.sk-toggleable__control:checked~label.sk-toggleable__label-arrow:before {content: \"▾\";}#sk-container-id-7 div.sk-estimator input.sk-toggleable__control:checked~label.sk-toggleable__label {background-color: #d4ebff;}#sk-container-id-7 div.sk-label input.sk-toggleable__control:checked~label.sk-toggleable__label {background-color: #d4ebff;}#sk-container-id-7 input.sk-hidden--visually {border: 0;clip: rect(1px 1px 1px 1px);clip: rect(1px, 1px, 1px, 1px);height: 1px;margin: -1px;overflow: hidden;padding: 0;position: absolute;width: 1px;}#sk-container-id-7 div.sk-estimator {font-family: monospace;background-color: #f0f8ff;border: 1px dotted black;border-radius: 0.25em;box-sizing: border-box;margin-bottom: 0.5em;}#sk-container-id-7 div.sk-estimator:hover {background-color: #d4ebff;}#sk-container-id-7 div.sk-parallel-item::after {content: \"\";width: 100%;border-bottom: 1px solid gray;flex-grow: 1;}#sk-container-id-7 div.sk-label:hover label.sk-toggleable__label {background-color: #d4ebff;}#sk-container-id-7 div.sk-serial::before {content: \"\";position: absolute;border-left: 1px solid gray;box-sizing: border-box;top: 0;bottom: 0;left: 50%;z-index: 0;}#sk-container-id-7 div.sk-serial {display: flex;flex-direction: column;align-items: center;background-color: white;padding-right: 0.2em;padding-left: 0.2em;position: relative;}#sk-container-id-7 div.sk-item {position: relative;z-index: 1;}#sk-container-id-7 div.sk-parallel {display: flex;align-items: stretch;justify-content: center;background-color: white;position: relative;}#sk-container-id-7 div.sk-item::before, #sk-container-id-7 div.sk-parallel-item::before {content: \"\";position: absolute;border-left: 1px solid gray;box-sizing: border-box;top: 0;bottom: 0;left: 50%;z-index: -1;}#sk-container-id-7 div.sk-parallel-item {display: flex;flex-direction: column;z-index: 1;position: relative;background-color: white;}#sk-container-id-7 div.sk-parallel-item:first-child::after {align-self: flex-end;width: 50%;}#sk-container-id-7 div.sk-parallel-item:last-child::after {align-self: flex-start;width: 50%;}#sk-container-id-7 div.sk-parallel-item:only-child::after {width: 0;}#sk-container-id-7 div.sk-dashed-wrapped {border: 1px dashed gray;margin: 0 0.4em 0.5em 0.4em;box-sizing: border-box;padding-bottom: 0.4em;background-color: white;}#sk-container-id-7 div.sk-label label {font-family: monospace;font-weight: bold;display: inline-block;line-height: 1.2em;}#sk-container-id-7 div.sk-label-container {text-align: center;}#sk-container-id-7 div.sk-container {/* jupyter's `normalize.less` sets `[hidden] { display: none; }` but bootstrap.min.css set `[hidden] { display: none !important; }` so we also need the `!important` here to be able to override the default hidden behavior on the sphinx rendered scikit-learn.org. See: https://github.com/scikit-learn/scikit-learn/issues/21755 */display: inline-block !important;position: relative;}#sk-container-id-7 div.sk-text-repr-fallback {display: none;}</style><div id=\"sk-container-id-7\" class=\"sk-top-container\"><div class=\"sk-text-repr-fallback\"><pre>LogisticRegression(max_iter=1000)</pre><b>In a Jupyter environment, please rerun this cell to show the HTML representation or trust the notebook. <br />On GitHub, the HTML representation is unable to render, please try loading this page with nbviewer.org.</b></div><div class=\"sk-container\" hidden><div class=\"sk-item\"><div class=\"sk-estimator sk-toggleable\"><input class=\"sk-toggleable__control sk-hidden--visually\" id=\"sk-estimator-id-16\" type=\"checkbox\" checked><label for=\"sk-estimator-id-16\" class=\"sk-toggleable__label sk-toggleable__label-arrow\">LogisticRegression</label><div class=\"sk-toggleable__content\"><pre>LogisticRegression(max_iter=1000)</pre></div></div></div></div></div>"
      ],
      "text/plain": [
       "LogisticRegression(max_iter=1000)"
      ]
     },
     "execution_count": 75,
     "metadata": {},
     "output_type": "execute_result"
    }
   ],
   "source": [
    "model = LogisticRegression(max_iter=1000)\n",
    "model.fit(X,y)"
   ]
  },
  {
   "cell_type": "code",
   "execution_count": 76,
   "id": "b9e2d189",
   "metadata": {},
   "outputs": [
    {
     "data": {
      "text/plain": [
       "151"
      ]
     },
     "execution_count": 76,
     "metadata": {},
     "output_type": "execute_result"
    }
   ],
   "source": [
    "model.predict(X).sum()"
   ]
  },
  {
   "cell_type": "code",
   "execution_count": 77,
   "id": "f995d023",
   "metadata": {},
   "outputs": [
    {
     "data": {
      "text/plain": [
       "196"
      ]
     },
     "execution_count": 77,
     "metadata": {},
     "output_type": "execute_result"
    }
   ],
   "source": [
    "model = LogisticRegression(class_weight={0:1, 1:5},max_iter=1000)\n",
    "model.fit(X,y)\n",
    "model.predict(X).sum()"
   ]
  },
  {
   "cell_type": "code",
   "execution_count": 78,
   "id": "fefe3194",
   "metadata": {},
   "outputs": [
    {
     "data": {
      "text/plain": [
       "{'C': 1.0,\n",
       " 'class_weight': None,\n",
       " 'dual': False,\n",
       " 'fit_intercept': True,\n",
       " 'intercept_scaling': 1,\n",
       " 'l1_ratio': None,\n",
       " 'max_iter': 100,\n",
       " 'multi_class': 'auto',\n",
       " 'n_jobs': None,\n",
       " 'penalty': 'l2',\n",
       " 'random_state': None,\n",
       " 'solver': 'lbfgs',\n",
       " 'tol': 0.0001,\n",
       " 'verbose': 0,\n",
       " 'warm_start': False}"
      ]
     },
     "execution_count": 78,
     "metadata": {},
     "output_type": "execute_result"
    }
   ],
   "source": [
    "LogisticRegression().get_params()"
   ]
  },
  {
   "cell_type": "code",
   "execution_count": 79,
   "id": "ea4618be",
   "metadata": {},
   "outputs": [
    {
     "data": {
      "text/html": [
       "<style>#sk-container-id-8 {color: black;}#sk-container-id-8 pre{padding: 0;}#sk-container-id-8 div.sk-toggleable {background-color: white;}#sk-container-id-8 label.sk-toggleable__label {cursor: pointer;display: block;width: 100%;margin-bottom: 0;padding: 0.3em;box-sizing: border-box;text-align: center;}#sk-container-id-8 label.sk-toggleable__label-arrow:before {content: \"▸\";float: left;margin-right: 0.25em;color: #696969;}#sk-container-id-8 label.sk-toggleable__label-arrow:hover:before {color: black;}#sk-container-id-8 div.sk-estimator:hover label.sk-toggleable__label-arrow:before {color: black;}#sk-container-id-8 div.sk-toggleable__content {max-height: 0;max-width: 0;overflow: hidden;text-align: left;background-color: #f0f8ff;}#sk-container-id-8 div.sk-toggleable__content pre {margin: 0.2em;color: black;border-radius: 0.25em;background-color: #f0f8ff;}#sk-container-id-8 input.sk-toggleable__control:checked~div.sk-toggleable__content {max-height: 200px;max-width: 100%;overflow: auto;}#sk-container-id-8 input.sk-toggleable__control:checked~label.sk-toggleable__label-arrow:before {content: \"▾\";}#sk-container-id-8 div.sk-estimator input.sk-toggleable__control:checked~label.sk-toggleable__label {background-color: #d4ebff;}#sk-container-id-8 div.sk-label input.sk-toggleable__control:checked~label.sk-toggleable__label {background-color: #d4ebff;}#sk-container-id-8 input.sk-hidden--visually {border: 0;clip: rect(1px 1px 1px 1px);clip: rect(1px, 1px, 1px, 1px);height: 1px;margin: -1px;overflow: hidden;padding: 0;position: absolute;width: 1px;}#sk-container-id-8 div.sk-estimator {font-family: monospace;background-color: #f0f8ff;border: 1px dotted black;border-radius: 0.25em;box-sizing: border-box;margin-bottom: 0.5em;}#sk-container-id-8 div.sk-estimator:hover {background-color: #d4ebff;}#sk-container-id-8 div.sk-parallel-item::after {content: \"\";width: 100%;border-bottom: 1px solid gray;flex-grow: 1;}#sk-container-id-8 div.sk-label:hover label.sk-toggleable__label {background-color: #d4ebff;}#sk-container-id-8 div.sk-serial::before {content: \"\";position: absolute;border-left: 1px solid gray;box-sizing: border-box;top: 0;bottom: 0;left: 50%;z-index: 0;}#sk-container-id-8 div.sk-serial {display: flex;flex-direction: column;align-items: center;background-color: white;padding-right: 0.2em;padding-left: 0.2em;position: relative;}#sk-container-id-8 div.sk-item {position: relative;z-index: 1;}#sk-container-id-8 div.sk-parallel {display: flex;align-items: stretch;justify-content: center;background-color: white;position: relative;}#sk-container-id-8 div.sk-item::before, #sk-container-id-8 div.sk-parallel-item::before {content: \"\";position: absolute;border-left: 1px solid gray;box-sizing: border-box;top: 0;bottom: 0;left: 50%;z-index: -1;}#sk-container-id-8 div.sk-parallel-item {display: flex;flex-direction: column;z-index: 1;position: relative;background-color: white;}#sk-container-id-8 div.sk-parallel-item:first-child::after {align-self: flex-end;width: 50%;}#sk-container-id-8 div.sk-parallel-item:last-child::after {align-self: flex-start;width: 50%;}#sk-container-id-8 div.sk-parallel-item:only-child::after {width: 0;}#sk-container-id-8 div.sk-dashed-wrapped {border: 1px dashed gray;margin: 0 0.4em 0.5em 0.4em;box-sizing: border-box;padding-bottom: 0.4em;background-color: white;}#sk-container-id-8 div.sk-label label {font-family: monospace;font-weight: bold;display: inline-block;line-height: 1.2em;}#sk-container-id-8 div.sk-label-container {text-align: center;}#sk-container-id-8 div.sk-container {/* jupyter's `normalize.less` sets `[hidden] { display: none; }` but bootstrap.min.css set `[hidden] { display: none !important; }` so we also need the `!important` here to be able to override the default hidden behavior on the sphinx rendered scikit-learn.org. See: https://github.com/scikit-learn/scikit-learn/issues/21755 */display: inline-block !important;position: relative;}#sk-container-id-8 div.sk-text-repr-fallback {display: none;}</style><div id=\"sk-container-id-8\" class=\"sk-top-container\"><div class=\"sk-text-repr-fallback\"><pre>GridSearchCV(cv=4, estimator=LogisticRegression(max_iter=1000),\n",
       "             param_grid={&#x27;class_weight&#x27;: [{0: 1, 1: 5}, {0: 1, 1: 4},\n",
       "                                          {0: 1, 1: 3}, {0: 1, 1: 2},\n",
       "                                          {0: 1, 1: 1}]})</pre><b>In a Jupyter environment, please rerun this cell to show the HTML representation or trust the notebook. <br />On GitHub, the HTML representation is unable to render, please try loading this page with nbviewer.org.</b></div><div class=\"sk-container\" hidden><div class=\"sk-item sk-dashed-wrapped\"><div class=\"sk-label-container\"><div class=\"sk-label sk-toggleable\"><input class=\"sk-toggleable__control sk-hidden--visually\" id=\"sk-estimator-id-17\" type=\"checkbox\" ><label for=\"sk-estimator-id-17\" class=\"sk-toggleable__label sk-toggleable__label-arrow\">GridSearchCV</label><div class=\"sk-toggleable__content\"><pre>GridSearchCV(cv=4, estimator=LogisticRegression(max_iter=1000),\n",
       "             param_grid={&#x27;class_weight&#x27;: [{0: 1, 1: 5}, {0: 1, 1: 4},\n",
       "                                          {0: 1, 1: 3}, {0: 1, 1: 2},\n",
       "                                          {0: 1, 1: 1}]})</pre></div></div></div><div class=\"sk-parallel\"><div class=\"sk-parallel-item\"><div class=\"sk-item\"><div class=\"sk-label-container\"><div class=\"sk-label sk-toggleable\"><input class=\"sk-toggleable__control sk-hidden--visually\" id=\"sk-estimator-id-18\" type=\"checkbox\" ><label for=\"sk-estimator-id-18\" class=\"sk-toggleable__label sk-toggleable__label-arrow\">estimator: LogisticRegression</label><div class=\"sk-toggleable__content\"><pre>LogisticRegression(max_iter=1000)</pre></div></div></div><div class=\"sk-serial\"><div class=\"sk-item\"><div class=\"sk-estimator sk-toggleable\"><input class=\"sk-toggleable__control sk-hidden--visually\" id=\"sk-estimator-id-19\" type=\"checkbox\" ><label for=\"sk-estimator-id-19\" class=\"sk-toggleable__label sk-toggleable__label-arrow\">LogisticRegression</label><div class=\"sk-toggleable__content\"><pre>LogisticRegression(max_iter=1000)</pre></div></div></div></div></div></div></div></div></div></div>"
      ],
      "text/plain": [
       "GridSearchCV(cv=4, estimator=LogisticRegression(max_iter=1000),\n",
       "             param_grid={'class_weight': [{0: 1, 1: 5}, {0: 1, 1: 4},\n",
       "                                          {0: 1, 1: 3}, {0: 1, 1: 2},\n",
       "                                          {0: 1, 1: 1}]})"
      ]
     },
     "execution_count": 79,
     "metadata": {},
     "output_type": "execute_result"
    }
   ],
   "source": [
    "grid = GridSearchCV(\n",
    "    estimator=LogisticRegression(max_iter=1000),\n",
    "    param_grid={\"class_weight\":[{0:1, 1:5}, {0:1, 1:4}, {0:1, 1:3}, {0:1, 1:2}, {0:1,1:1}]},\n",
    "    cv=4\n",
    ")\n",
    "grid"
   ]
  },
  {
   "cell_type": "code",
   "execution_count": 80,
   "id": "d8e30091",
   "metadata": {},
   "outputs": [
    {
     "data": {
      "text/html": [
       "<style>#sk-container-id-9 {color: black;}#sk-container-id-9 pre{padding: 0;}#sk-container-id-9 div.sk-toggleable {background-color: white;}#sk-container-id-9 label.sk-toggleable__label {cursor: pointer;display: block;width: 100%;margin-bottom: 0;padding: 0.3em;box-sizing: border-box;text-align: center;}#sk-container-id-9 label.sk-toggleable__label-arrow:before {content: \"▸\";float: left;margin-right: 0.25em;color: #696969;}#sk-container-id-9 label.sk-toggleable__label-arrow:hover:before {color: black;}#sk-container-id-9 div.sk-estimator:hover label.sk-toggleable__label-arrow:before {color: black;}#sk-container-id-9 div.sk-toggleable__content {max-height: 0;max-width: 0;overflow: hidden;text-align: left;background-color: #f0f8ff;}#sk-container-id-9 div.sk-toggleable__content pre {margin: 0.2em;color: black;border-radius: 0.25em;background-color: #f0f8ff;}#sk-container-id-9 input.sk-toggleable__control:checked~div.sk-toggleable__content {max-height: 200px;max-width: 100%;overflow: auto;}#sk-container-id-9 input.sk-toggleable__control:checked~label.sk-toggleable__label-arrow:before {content: \"▾\";}#sk-container-id-9 div.sk-estimator input.sk-toggleable__control:checked~label.sk-toggleable__label {background-color: #d4ebff;}#sk-container-id-9 div.sk-label input.sk-toggleable__control:checked~label.sk-toggleable__label {background-color: #d4ebff;}#sk-container-id-9 input.sk-hidden--visually {border: 0;clip: rect(1px 1px 1px 1px);clip: rect(1px, 1px, 1px, 1px);height: 1px;margin: -1px;overflow: hidden;padding: 0;position: absolute;width: 1px;}#sk-container-id-9 div.sk-estimator {font-family: monospace;background-color: #f0f8ff;border: 1px dotted black;border-radius: 0.25em;box-sizing: border-box;margin-bottom: 0.5em;}#sk-container-id-9 div.sk-estimator:hover {background-color: #d4ebff;}#sk-container-id-9 div.sk-parallel-item::after {content: \"\";width: 100%;border-bottom: 1px solid gray;flex-grow: 1;}#sk-container-id-9 div.sk-label:hover label.sk-toggleable__label {background-color: #d4ebff;}#sk-container-id-9 div.sk-serial::before {content: \"\";position: absolute;border-left: 1px solid gray;box-sizing: border-box;top: 0;bottom: 0;left: 50%;z-index: 0;}#sk-container-id-9 div.sk-serial {display: flex;flex-direction: column;align-items: center;background-color: white;padding-right: 0.2em;padding-left: 0.2em;position: relative;}#sk-container-id-9 div.sk-item {position: relative;z-index: 1;}#sk-container-id-9 div.sk-parallel {display: flex;align-items: stretch;justify-content: center;background-color: white;position: relative;}#sk-container-id-9 div.sk-item::before, #sk-container-id-9 div.sk-parallel-item::before {content: \"\";position: absolute;border-left: 1px solid gray;box-sizing: border-box;top: 0;bottom: 0;left: 50%;z-index: -1;}#sk-container-id-9 div.sk-parallel-item {display: flex;flex-direction: column;z-index: 1;position: relative;background-color: white;}#sk-container-id-9 div.sk-parallel-item:first-child::after {align-self: flex-end;width: 50%;}#sk-container-id-9 div.sk-parallel-item:last-child::after {align-self: flex-start;width: 50%;}#sk-container-id-9 div.sk-parallel-item:only-child::after {width: 0;}#sk-container-id-9 div.sk-dashed-wrapped {border: 1px dashed gray;margin: 0 0.4em 0.5em 0.4em;box-sizing: border-box;padding-bottom: 0.4em;background-color: white;}#sk-container-id-9 div.sk-label label {font-family: monospace;font-weight: bold;display: inline-block;line-height: 1.2em;}#sk-container-id-9 div.sk-label-container {text-align: center;}#sk-container-id-9 div.sk-container {/* jupyter's `normalize.less` sets `[hidden] { display: none; }` but bootstrap.min.css set `[hidden] { display: none !important; }` so we also need the `!important` here to be able to override the default hidden behavior on the sphinx rendered scikit-learn.org. See: https://github.com/scikit-learn/scikit-learn/issues/21755 */display: inline-block !important;position: relative;}#sk-container-id-9 div.sk-text-repr-fallback {display: none;}</style><div id=\"sk-container-id-9\" class=\"sk-top-container\"><div class=\"sk-text-repr-fallback\"><pre>GridSearchCV(cv=4, estimator=LogisticRegression(max_iter=1000),\n",
       "             param_grid={&#x27;class_weight&#x27;: [{0: 1, 1: 5}, {0: 1, 1: 4},\n",
       "                                          {0: 1, 1: 3}, {0: 1, 1: 2},\n",
       "                                          {0: 1, 1: 1}]})</pre><b>In a Jupyter environment, please rerun this cell to show the HTML representation or trust the notebook. <br />On GitHub, the HTML representation is unable to render, please try loading this page with nbviewer.org.</b></div><div class=\"sk-container\" hidden><div class=\"sk-item sk-dashed-wrapped\"><div class=\"sk-label-container\"><div class=\"sk-label sk-toggleable\"><input class=\"sk-toggleable__control sk-hidden--visually\" id=\"sk-estimator-id-20\" type=\"checkbox\" ><label for=\"sk-estimator-id-20\" class=\"sk-toggleable__label sk-toggleable__label-arrow\">GridSearchCV</label><div class=\"sk-toggleable__content\"><pre>GridSearchCV(cv=4, estimator=LogisticRegression(max_iter=1000),\n",
       "             param_grid={&#x27;class_weight&#x27;: [{0: 1, 1: 5}, {0: 1, 1: 4},\n",
       "                                          {0: 1, 1: 3}, {0: 1, 1: 2},\n",
       "                                          {0: 1, 1: 1}]})</pre></div></div></div><div class=\"sk-parallel\"><div class=\"sk-parallel-item\"><div class=\"sk-item\"><div class=\"sk-label-container\"><div class=\"sk-label sk-toggleable\"><input class=\"sk-toggleable__control sk-hidden--visually\" id=\"sk-estimator-id-21\" type=\"checkbox\" ><label for=\"sk-estimator-id-21\" class=\"sk-toggleable__label sk-toggleable__label-arrow\">estimator: LogisticRegression</label><div class=\"sk-toggleable__content\"><pre>LogisticRegression(max_iter=1000)</pre></div></div></div><div class=\"sk-serial\"><div class=\"sk-item\"><div class=\"sk-estimator sk-toggleable\"><input class=\"sk-toggleable__control sk-hidden--visually\" id=\"sk-estimator-id-22\" type=\"checkbox\" ><label for=\"sk-estimator-id-22\" class=\"sk-toggleable__label sk-toggleable__label-arrow\">LogisticRegression</label><div class=\"sk-toggleable__content\"><pre>LogisticRegression(max_iter=1000)</pre></div></div></div></div></div></div></div></div></div></div>"
      ],
      "text/plain": [
       "GridSearchCV(cv=4, estimator=LogisticRegression(max_iter=1000),\n",
       "             param_grid={'class_weight': [{0: 1, 1: 5}, {0: 1, 1: 4},\n",
       "                                          {0: 1, 1: 3}, {0: 1, 1: 2},\n",
       "                                          {0: 1, 1: 1}]})"
      ]
     },
     "execution_count": 80,
     "metadata": {},
     "output_type": "execute_result"
    }
   ],
   "source": [
    "grid.fit(X,y)"
   ]
  },
  {
   "cell_type": "code",
   "execution_count": 81,
   "id": "a9cd331e",
   "metadata": {},
   "outputs": [
    {
     "data": {
      "text/html": [
       "<div>\n",
       "<style scoped>\n",
       "    .dataframe tbody tr th:only-of-type {\n",
       "        vertical-align: middle;\n",
       "    }\n",
       "\n",
       "    .dataframe tbody tr th {\n",
       "        vertical-align: top;\n",
       "    }\n",
       "\n",
       "    .dataframe thead th {\n",
       "        text-align: right;\n",
       "    }\n",
       "</style>\n",
       "<table border=\"1\" class=\"dataframe\">\n",
       "  <thead>\n",
       "    <tr style=\"text-align: right;\">\n",
       "      <th></th>\n",
       "      <th>mean_fit_time</th>\n",
       "      <th>std_fit_time</th>\n",
       "      <th>mean_score_time</th>\n",
       "      <th>std_score_time</th>\n",
       "      <th>param_class_weight</th>\n",
       "      <th>params</th>\n",
       "      <th>split0_test_score</th>\n",
       "      <th>split1_test_score</th>\n",
       "      <th>split2_test_score</th>\n",
       "      <th>split3_test_score</th>\n",
       "      <th>mean_test_score</th>\n",
       "      <th>std_test_score</th>\n",
       "      <th>rank_test_score</th>\n",
       "    </tr>\n",
       "  </thead>\n",
       "  <tbody>\n",
       "    <tr>\n",
       "      <th>0</th>\n",
       "      <td>0.836180</td>\n",
       "      <td>0.277326</td>\n",
       "      <td>0.009527</td>\n",
       "      <td>0.003411</td>\n",
       "      <td>{0: 1, 1: 5}</td>\n",
       "      <td>{'class_weight': {0: 1, 1: 5}}</td>\n",
       "      <td>0.98175</td>\n",
       "      <td>0.99850</td>\n",
       "      <td>0.99955</td>\n",
       "      <td>0.99825</td>\n",
       "      <td>0.994512</td>\n",
       "      <td>0.007385</td>\n",
       "      <td>5</td>\n",
       "    </tr>\n",
       "    <tr>\n",
       "      <th>1</th>\n",
       "      <td>1.153585</td>\n",
       "      <td>0.340781</td>\n",
       "      <td>0.013816</td>\n",
       "      <td>0.004346</td>\n",
       "      <td>{0: 1, 1: 4}</td>\n",
       "      <td>{'class_weight': {0: 1, 1: 4}}</td>\n",
       "      <td>0.98465</td>\n",
       "      <td>0.99850</td>\n",
       "      <td>0.99960</td>\n",
       "      <td>0.99820</td>\n",
       "      <td>0.995237</td>\n",
       "      <td>0.006135</td>\n",
       "      <td>4</td>\n",
       "    </tr>\n",
       "    <tr>\n",
       "      <th>2</th>\n",
       "      <td>0.825847</td>\n",
       "      <td>0.152420</td>\n",
       "      <td>0.007993</td>\n",
       "      <td>0.000005</td>\n",
       "      <td>{0: 1, 1: 3}</td>\n",
       "      <td>{'class_weight': {0: 1, 1: 3}}</td>\n",
       "      <td>0.98730</td>\n",
       "      <td>0.99845</td>\n",
       "      <td>0.99960</td>\n",
       "      <td>0.99815</td>\n",
       "      <td>0.995875</td>\n",
       "      <td>0.004980</td>\n",
       "      <td>3</td>\n",
       "    </tr>\n",
       "    <tr>\n",
       "      <th>3</th>\n",
       "      <td>0.803071</td>\n",
       "      <td>0.176844</td>\n",
       "      <td>0.007247</td>\n",
       "      <td>0.000828</td>\n",
       "      <td>{0: 1, 1: 2}</td>\n",
       "      <td>{'class_weight': {0: 1, 1: 2}}</td>\n",
       "      <td>0.99025</td>\n",
       "      <td>0.99840</td>\n",
       "      <td>0.99960</td>\n",
       "      <td>0.99805</td>\n",
       "      <td>0.996575</td>\n",
       "      <td>0.003697</td>\n",
       "      <td>2</td>\n",
       "    </tr>\n",
       "    <tr>\n",
       "      <th>4</th>\n",
       "      <td>0.830932</td>\n",
       "      <td>0.222374</td>\n",
       "      <td>0.007506</td>\n",
       "      <td>0.001116</td>\n",
       "      <td>{0: 1, 1: 1}</td>\n",
       "      <td>{'class_weight': {0: 1, 1: 1}}</td>\n",
       "      <td>0.99405</td>\n",
       "      <td>0.99835</td>\n",
       "      <td>0.99945</td>\n",
       "      <td>0.99780</td>\n",
       "      <td>0.997412</td>\n",
       "      <td>0.002030</td>\n",
       "      <td>1</td>\n",
       "    </tr>\n",
       "  </tbody>\n",
       "</table>\n",
       "</div>"
      ],
      "text/plain": [
       "   mean_fit_time  std_fit_time  mean_score_time  std_score_time  \\\n",
       "0       0.836180      0.277326         0.009527        0.003411   \n",
       "1       1.153585      0.340781         0.013816        0.004346   \n",
       "2       0.825847      0.152420         0.007993        0.000005   \n",
       "3       0.803071      0.176844         0.007247        0.000828   \n",
       "4       0.830932      0.222374         0.007506        0.001116   \n",
       "\n",
       "  param_class_weight                          params  split0_test_score  \\\n",
       "0       {0: 1, 1: 5}  {'class_weight': {0: 1, 1: 5}}            0.98175   \n",
       "1       {0: 1, 1: 4}  {'class_weight': {0: 1, 1: 4}}            0.98465   \n",
       "2       {0: 1, 1: 3}  {'class_weight': {0: 1, 1: 3}}            0.98730   \n",
       "3       {0: 1, 1: 2}  {'class_weight': {0: 1, 1: 2}}            0.99025   \n",
       "4       {0: 1, 1: 1}  {'class_weight': {0: 1, 1: 1}}            0.99405   \n",
       "\n",
       "   split1_test_score  split2_test_score  split3_test_score  mean_test_score  \\\n",
       "0            0.99850            0.99955            0.99825         0.994512   \n",
       "1            0.99850            0.99960            0.99820         0.995237   \n",
       "2            0.99845            0.99960            0.99815         0.995875   \n",
       "3            0.99840            0.99960            0.99805         0.996575   \n",
       "4            0.99835            0.99945            0.99780         0.997412   \n",
       "\n",
       "   std_test_score  rank_test_score  \n",
       "0        0.007385                5  \n",
       "1        0.006135                4  \n",
       "2        0.004980                3  \n",
       "3        0.003697                2  \n",
       "4        0.002030                1  "
      ]
     },
     "execution_count": 81,
     "metadata": {},
     "output_type": "execute_result"
    }
   ],
   "source": [
    "pd.DataFrame(grid.cv_results_)"
   ]
  },
  {
   "cell_type": "code",
   "execution_count": 82,
   "id": "7674da54",
   "metadata": {},
   "outputs": [],
   "source": [
    "??model.score"
   ]
  },
  {
   "cell_type": "code",
   "execution_count": 83,
   "id": "230ac772",
   "metadata": {},
   "outputs": [],
   "source": [
    "from sklearn.metrics import precision_score, recall_score, make_scorer"
   ]
  },
  {
   "cell_type": "code",
   "execution_count": 84,
   "id": "1e8c5eb3",
   "metadata": {},
   "outputs": [
    {
     "data": {
      "text/plain": [
       "0.7682119205298014"
      ]
     },
     "execution_count": 84,
     "metadata": {},
     "output_type": "execute_result"
    }
   ],
   "source": [
    "precision_score(y, grid.predict(X))"
   ]
  },
  {
   "cell_type": "code",
   "execution_count": 85,
   "id": "ef4eb891",
   "metadata": {},
   "outputs": [
    {
     "data": {
      "text/plain": [
       "0.5918367346938775"
      ]
     },
     "execution_count": 85,
     "metadata": {},
     "output_type": "execute_result"
    }
   ],
   "source": [
    "recall_score(y, grid.predict(X))"
   ]
  },
  {
   "cell_type": "code",
   "execution_count": 86,
   "id": "01ed7af2",
   "metadata": {},
   "outputs": [],
   "source": [
    "grid = GridSearchCV(\n",
    "    estimator=LogisticRegression(max_iter=1000),\n",
    "    param_grid={\"class_weight\":[{0:1, 1:5}, {0:1, 1:4}, {0:1, 1:3}, {0:1, 1:2}, {0:1,1:1}]},\n",
    "    cv=4,\n",
    "    scoring={'precision': make_scorer(precision_score), 'recall_score': make_scorer(recall_score)},\n",
    "    refit='precision'\n",
    ")\n",
    "grid.fit(X,y)\n",
    "results = pd.DataFrame(grid.cv_results_)"
   ]
  },
  {
   "cell_type": "code",
   "execution_count": 87,
   "id": "5334b96f",
   "metadata": {},
   "outputs": [],
   "source": [
    "# np.linspace(1,91,30) \n",
    "# starts at 1 ends at 91 have 30 steps in between"
   ]
  },
  {
   "cell_type": "code",
   "execution_count": 88,
   "id": "c131c997",
   "metadata": {},
   "outputs": [
    {
     "data": {
      "text/html": [
       "<div>\n",
       "<style scoped>\n",
       "    .dataframe tbody tr th:only-of-type {\n",
       "        vertical-align: middle;\n",
       "    }\n",
       "\n",
       "    .dataframe tbody tr th {\n",
       "        vertical-align: top;\n",
       "    }\n",
       "\n",
       "    .dataframe thead th {\n",
       "        text-align: right;\n",
       "    }\n",
       "</style>\n",
       "<table border=\"1\" class=\"dataframe\">\n",
       "  <thead>\n",
       "    <tr style=\"text-align: right;\">\n",
       "      <th></th>\n",
       "      <th>mean_fit_time</th>\n",
       "      <th>std_fit_time</th>\n",
       "      <th>mean_score_time</th>\n",
       "      <th>std_score_time</th>\n",
       "      <th>param_class_weight</th>\n",
       "      <th>params</th>\n",
       "      <th>split0_test_precision</th>\n",
       "      <th>split1_test_precision</th>\n",
       "      <th>split2_test_precision</th>\n",
       "      <th>split3_test_precision</th>\n",
       "      <th>mean_test_precision</th>\n",
       "      <th>std_test_precision</th>\n",
       "      <th>rank_test_precision</th>\n",
       "      <th>split0_test_recall_score</th>\n",
       "      <th>split1_test_recall_score</th>\n",
       "      <th>split2_test_recall_score</th>\n",
       "      <th>split3_test_recall_score</th>\n",
       "      <th>mean_test_recall_score</th>\n",
       "      <th>std_test_recall_score</th>\n",
       "      <th>rank_test_recall_score</th>\n",
       "    </tr>\n",
       "  </thead>\n",
       "  <tbody>\n",
       "    <tr>\n",
       "      <th>0</th>\n",
       "      <td>0.797062</td>\n",
       "      <td>0.179523</td>\n",
       "      <td>0.031995</td>\n",
       "      <td>0.003232</td>\n",
       "      <td>{0: 1, 1: 5}</td>\n",
       "      <td>{'class_weight': {0: 1, 1: 5}}</td>\n",
       "      <td>0.114634</td>\n",
       "      <td>0.952381</td>\n",
       "      <td>0.934783</td>\n",
       "      <td>0.818182</td>\n",
       "      <td>0.704995</td>\n",
       "      <td>0.344724</td>\n",
       "      <td>5</td>\n",
       "      <td>0.959184</td>\n",
       "      <td>0.408163</td>\n",
       "      <td>0.877551</td>\n",
       "      <td>0.367347</td>\n",
       "      <td>0.653061</td>\n",
       "      <td>0.267261</td>\n",
       "      <td>1</td>\n",
       "    </tr>\n",
       "    <tr>\n",
       "      <th>1</th>\n",
       "      <td>0.773080</td>\n",
       "      <td>0.151879</td>\n",
       "      <td>0.031000</td>\n",
       "      <td>0.001585</td>\n",
       "      <td>{0: 1, 1: 4}</td>\n",
       "      <td>{'class_weight': {0: 1, 1: 4}}</td>\n",
       "      <td>0.133523</td>\n",
       "      <td>1.000000</td>\n",
       "      <td>0.955556</td>\n",
       "      <td>0.809524</td>\n",
       "      <td>0.724651</td>\n",
       "      <td>0.348486</td>\n",
       "      <td>4</td>\n",
       "      <td>0.959184</td>\n",
       "      <td>0.387755</td>\n",
       "      <td>0.877551</td>\n",
       "      <td>0.346939</td>\n",
       "      <td>0.642857</td>\n",
       "      <td>0.277393</td>\n",
       "      <td>2</td>\n",
       "    </tr>\n",
       "    <tr>\n",
       "      <th>2</th>\n",
       "      <td>0.793363</td>\n",
       "      <td>0.168746</td>\n",
       "      <td>0.030598</td>\n",
       "      <td>0.000712</td>\n",
       "      <td>{0: 1, 1: 3}</td>\n",
       "      <td>{'class_weight': {0: 1, 1: 3}}</td>\n",
       "      <td>0.154882</td>\n",
       "      <td>1.000000</td>\n",
       "      <td>0.955556</td>\n",
       "      <td>0.800000</td>\n",
       "      <td>0.727609</td>\n",
       "      <td>0.338900</td>\n",
       "      <td>3</td>\n",
       "      <td>0.938776</td>\n",
       "      <td>0.367347</td>\n",
       "      <td>0.877551</td>\n",
       "      <td>0.326531</td>\n",
       "      <td>0.627551</td>\n",
       "      <td>0.281816</td>\n",
       "      <td>3</td>\n",
       "    </tr>\n",
       "    <tr>\n",
       "      <th>3</th>\n",
       "      <td>0.808914</td>\n",
       "      <td>0.175701</td>\n",
       "      <td>0.031489</td>\n",
       "      <td>0.001105</td>\n",
       "      <td>{0: 1, 1: 2}</td>\n",
       "      <td>{'class_weight': {0: 1, 1: 2}}</td>\n",
       "      <td>0.190678</td>\n",
       "      <td>1.000000</td>\n",
       "      <td>0.955556</td>\n",
       "      <td>0.812500</td>\n",
       "      <td>0.739683</td>\n",
       "      <td>0.324451</td>\n",
       "      <td>2</td>\n",
       "      <td>0.918367</td>\n",
       "      <td>0.346939</td>\n",
       "      <td>0.877551</td>\n",
       "      <td>0.265306</td>\n",
       "      <td>0.602041</td>\n",
       "      <td>0.297672</td>\n",
       "      <td>4</td>\n",
       "    </tr>\n",
       "    <tr>\n",
       "      <th>4</th>\n",
       "      <td>0.824315</td>\n",
       "      <td>0.238314</td>\n",
       "      <td>0.028313</td>\n",
       "      <td>0.002393</td>\n",
       "      <td>{0: 1, 1: 1}</td>\n",
       "      <td>{'class_weight': {0: 1, 1: 1}}</td>\n",
       "      <td>0.281250</td>\n",
       "      <td>1.000000</td>\n",
       "      <td>0.952381</td>\n",
       "      <td>0.857143</td>\n",
       "      <td>0.772693</td>\n",
       "      <td>0.288359</td>\n",
       "      <td>1</td>\n",
       "      <td>0.918367</td>\n",
       "      <td>0.326531</td>\n",
       "      <td>0.816327</td>\n",
       "      <td>0.122449</td>\n",
       "      <td>0.545918</td>\n",
       "      <td>0.331397</td>\n",
       "      <td>5</td>\n",
       "    </tr>\n",
       "  </tbody>\n",
       "</table>\n",
       "</div>"
      ],
      "text/plain": [
       "   mean_fit_time  std_fit_time  mean_score_time  std_score_time  \\\n",
       "0       0.797062      0.179523         0.031995        0.003232   \n",
       "1       0.773080      0.151879         0.031000        0.001585   \n",
       "2       0.793363      0.168746         0.030598        0.000712   \n",
       "3       0.808914      0.175701         0.031489        0.001105   \n",
       "4       0.824315      0.238314         0.028313        0.002393   \n",
       "\n",
       "  param_class_weight                          params  split0_test_precision  \\\n",
       "0       {0: 1, 1: 5}  {'class_weight': {0: 1, 1: 5}}               0.114634   \n",
       "1       {0: 1, 1: 4}  {'class_weight': {0: 1, 1: 4}}               0.133523   \n",
       "2       {0: 1, 1: 3}  {'class_weight': {0: 1, 1: 3}}               0.154882   \n",
       "3       {0: 1, 1: 2}  {'class_weight': {0: 1, 1: 2}}               0.190678   \n",
       "4       {0: 1, 1: 1}  {'class_weight': {0: 1, 1: 1}}               0.281250   \n",
       "\n",
       "   split1_test_precision  split2_test_precision  split3_test_precision  \\\n",
       "0               0.952381               0.934783               0.818182   \n",
       "1               1.000000               0.955556               0.809524   \n",
       "2               1.000000               0.955556               0.800000   \n",
       "3               1.000000               0.955556               0.812500   \n",
       "4               1.000000               0.952381               0.857143   \n",
       "\n",
       "   mean_test_precision  std_test_precision  rank_test_precision  \\\n",
       "0             0.704995            0.344724                    5   \n",
       "1             0.724651            0.348486                    4   \n",
       "2             0.727609            0.338900                    3   \n",
       "3             0.739683            0.324451                    2   \n",
       "4             0.772693            0.288359                    1   \n",
       "\n",
       "   split0_test_recall_score  split1_test_recall_score  \\\n",
       "0                  0.959184                  0.408163   \n",
       "1                  0.959184                  0.387755   \n",
       "2                  0.938776                  0.367347   \n",
       "3                  0.918367                  0.346939   \n",
       "4                  0.918367                  0.326531   \n",
       "\n",
       "   split2_test_recall_score  split3_test_recall_score  mean_test_recall_score  \\\n",
       "0                  0.877551                  0.367347                0.653061   \n",
       "1                  0.877551                  0.346939                0.642857   \n",
       "2                  0.877551                  0.326531                0.627551   \n",
       "3                  0.877551                  0.265306                0.602041   \n",
       "4                  0.816327                  0.122449                0.545918   \n",
       "\n",
       "   std_test_recall_score  rank_test_recall_score  \n",
       "0               0.267261                       1  \n",
       "1               0.277393                       2  \n",
       "2               0.281816                       3  \n",
       "3               0.297672                       4  \n",
       "4               0.331397                       5  "
      ]
     },
     "execution_count": 88,
     "metadata": {},
     "output_type": "execute_result"
    }
   ],
   "source": [
    "results"
   ]
  },
  {
   "cell_type": "code",
   "execution_count": 89,
   "id": "f6c8b046",
   "metadata": {},
   "outputs": [
    {
     "data": {
      "text/plain": [
       "[<matplotlib.lines.Line2D at 0x1d569e10190>]"
      ]
     },
     "execution_count": 89,
     "metadata": {},
     "output_type": "execute_result"
    },
    {
     "data": {
      "image/png": "[encoded data removed]",
      "text/plain": [
       "<Figure size 640x480 with 1 Axes>"
      ]
     },
     "metadata": {},
     "output_type": "display_data"
    }
   ],
   "source": [
    "class_weight = [1,2,3,4,5]\n",
    "plt.plot(class_weight, results[\"mean_test_recall_score\"]);\n",
    "plt.plot(class_weight, results[\"mean_test_precision\"])"
   ]
  },
  {
   "cell_type": "code",
   "execution_count": 90,
   "id": "fb147bac",
   "metadata": {},
   "outputs": [],
   "source": [
    "def min_recall_precision(y_true, y_pred):\n",
    "    recall = recall_score(y_true, y_pred)\n",
    "    precision = precision_score(y_true, y_pred)\n",
    "    return min(recall, precision)"
   ]
  },
  {
   "cell_type": "code",
   "execution_count": 91,
   "id": "ec4191a9",
   "metadata": {},
   "outputs": [],
   "source": [
    "grid = GridSearchCV(\n",
    "    estimator=LogisticRegression(max_iter=1000),\n",
    "    param_grid={\"class_weight\":[{0:1, 1:5}, {0:1, 1:4}, {0:1, 1:3}, {0:1, 1:2}, {0:1,1:1}]},\n",
    "    cv=4,\n",
    "    scoring={'precision': make_scorer(precision_score), 'recall_score': make_scorer(recall_score), 'min_recall_precision': make_scorer(min_recall_precision)},\n",
    "    refit='min_recall_precision'\n",
    ")\n",
    "grid.fit(X,y)\n",
    "results = pd.DataFrame(grid.cv_results_)"
   ]
  },
  {
   "cell_type": "code",
   "execution_count": 92,
   "id": "d8074e47",
   "metadata": {},
   "outputs": [
    {
     "data": {
      "text/html": [
       "<div>\n",
       "<style scoped>\n",
       "    .dataframe tbody tr th:only-of-type {\n",
       "        vertical-align: middle;\n",
       "    }\n",
       "\n",
       "    .dataframe tbody tr th {\n",
       "        vertical-align: top;\n",
       "    }\n",
       "\n",
       "    .dataframe thead th {\n",
       "        text-align: right;\n",
       "    }\n",
       "</style>\n",
       "<table border=\"1\" class=\"dataframe\">\n",
       "  <thead>\n",
       "    <tr style=\"text-align: right;\">\n",
       "      <th></th>\n",
       "      <th>mean_fit_time</th>\n",
       "      <th>std_fit_time</th>\n",
       "      <th>mean_score_time</th>\n",
       "      <th>std_score_time</th>\n",
       "      <th>param_class_weight</th>\n",
       "      <th>params</th>\n",
       "      <th>split0_test_precision</th>\n",
       "      <th>split1_test_precision</th>\n",
       "      <th>split2_test_precision</th>\n",
       "      <th>split3_test_precision</th>\n",
       "      <th>...</th>\n",
       "      <th>mean_test_recall_score</th>\n",
       "      <th>std_test_recall_score</th>\n",
       "      <th>rank_test_recall_score</th>\n",
       "      <th>split0_test_min_recall_precision</th>\n",
       "      <th>split1_test_min_recall_precision</th>\n",
       "      <th>split2_test_min_recall_precision</th>\n",
       "      <th>split3_test_min_recall_precision</th>\n",
       "      <th>mean_test_min_recall_precision</th>\n",
       "      <th>std_test_min_recall_precision</th>\n",
       "      <th>rank_test_min_recall_precision</th>\n",
       "    </tr>\n",
       "  </thead>\n",
       "  <tbody>\n",
       "    <tr>\n",
       "      <th>0</th>\n",
       "      <td>0.799480</td>\n",
       "      <td>0.168941</td>\n",
       "      <td>0.057529</td>\n",
       "      <td>0.005592</td>\n",
       "      <td>{0: 1, 1: 5}</td>\n",
       "      <td>{'class_weight': {0: 1, 1: 5}}</td>\n",
       "      <td>0.114634</td>\n",
       "      <td>0.952381</td>\n",
       "      <td>0.934783</td>\n",
       "      <td>0.818182</td>\n",
       "      <td>...</td>\n",
       "      <td>0.653061</td>\n",
       "      <td>0.267261</td>\n",
       "      <td>1</td>\n",
       "      <td>0.114634</td>\n",
       "      <td>0.408163</td>\n",
       "      <td>0.877551</td>\n",
       "      <td>0.367347</td>\n",
       "      <td>0.441924</td>\n",
       "      <td>0.275495</td>\n",
       "      <td>1</td>\n",
       "    </tr>\n",
       "    <tr>\n",
       "      <th>1</th>\n",
       "      <td>0.793780</td>\n",
       "      <td>0.150725</td>\n",
       "      <td>0.055529</td>\n",
       "      <td>0.000487</td>\n",
       "      <td>{0: 1, 1: 4}</td>\n",
       "      <td>{'class_weight': {0: 1, 1: 4}}</td>\n",
       "      <td>0.133523</td>\n",
       "      <td>1.000000</td>\n",
       "      <td>0.955556</td>\n",
       "      <td>0.809524</td>\n",
       "      <td>...</td>\n",
       "      <td>0.642857</td>\n",
       "      <td>0.277393</td>\n",
       "      <td>2</td>\n",
       "      <td>0.133523</td>\n",
       "      <td>0.387755</td>\n",
       "      <td>0.877551</td>\n",
       "      <td>0.346939</td>\n",
       "      <td>0.436442</td>\n",
       "      <td>0.272359</td>\n",
       "      <td>2</td>\n",
       "    </tr>\n",
       "    <tr>\n",
       "      <th>2</th>\n",
       "      <td>0.822293</td>\n",
       "      <td>0.166808</td>\n",
       "      <td>0.062280</td>\n",
       "      <td>0.009818</td>\n",
       "      <td>{0: 1, 1: 3}</td>\n",
       "      <td>{'class_weight': {0: 1, 1: 3}}</td>\n",
       "      <td>0.154882</td>\n",
       "      <td>1.000000</td>\n",
       "      <td>0.955556</td>\n",
       "      <td>0.800000</td>\n",
       "      <td>...</td>\n",
       "      <td>0.627551</td>\n",
       "      <td>0.281816</td>\n",
       "      <td>3</td>\n",
       "      <td>0.154882</td>\n",
       "      <td>0.367347</td>\n",
       "      <td>0.877551</td>\n",
       "      <td>0.326531</td>\n",
       "      <td>0.431578</td>\n",
       "      <td>0.269543</td>\n",
       "      <td>3</td>\n",
       "    </tr>\n",
       "    <tr>\n",
       "      <th>3</th>\n",
       "      <td>0.816849</td>\n",
       "      <td>0.170258</td>\n",
       "      <td>0.058059</td>\n",
       "      <td>0.003018</td>\n",
       "      <td>{0: 1, 1: 2}</td>\n",
       "      <td>{'class_weight': {0: 1, 1: 2}}</td>\n",
       "      <td>0.190678</td>\n",
       "      <td>1.000000</td>\n",
       "      <td>0.955556</td>\n",
       "      <td>0.812500</td>\n",
       "      <td>...</td>\n",
       "      <td>0.602041</td>\n",
       "      <td>0.297672</td>\n",
       "      <td>4</td>\n",
       "      <td>0.190678</td>\n",
       "      <td>0.346939</td>\n",
       "      <td>0.877551</td>\n",
       "      <td>0.265306</td>\n",
       "      <td>0.420118</td>\n",
       "      <td>0.269819</td>\n",
       "      <td>4</td>\n",
       "    </tr>\n",
       "    <tr>\n",
       "      <th>4</th>\n",
       "      <td>0.834472</td>\n",
       "      <td>0.225485</td>\n",
       "      <td>0.056501</td>\n",
       "      <td>0.002289</td>\n",
       "      <td>{0: 1, 1: 1}</td>\n",
       "      <td>{'class_weight': {0: 1, 1: 1}}</td>\n",
       "      <td>0.281250</td>\n",
       "      <td>1.000000</td>\n",
       "      <td>0.952381</td>\n",
       "      <td>0.857143</td>\n",
       "      <td>...</td>\n",
       "      <td>0.545918</td>\n",
       "      <td>0.331397</td>\n",
       "      <td>5</td>\n",
       "      <td>0.281250</td>\n",
       "      <td>0.326531</td>\n",
       "      <td>0.816327</td>\n",
       "      <td>0.122449</td>\n",
       "      <td>0.386639</td>\n",
       "      <td>0.259397</td>\n",
       "      <td>5</td>\n",
       "    </tr>\n",
       "  </tbody>\n",
       "</table>\n",
       "<p>5 rows × 27 columns</p>\n",
       "</div>"
      ],
      "text/plain": [
       "   mean_fit_time  std_fit_time  mean_score_time  std_score_time  \\\n",
       "0       0.799480      0.168941         0.057529        0.005592   \n",
       "1       0.793780      0.150725         0.055529        0.000487   \n",
       "2       0.822293      0.166808         0.062280        0.009818   \n",
       "3       0.816849      0.170258         0.058059        0.003018   \n",
       "4       0.834472      0.225485         0.056501        0.002289   \n",
       "\n",
       "  param_class_weight                          params  split0_test_precision  \\\n",
       "0       {0: 1, 1: 5}  {'class_weight': {0: 1, 1: 5}}               0.114634   \n",
       "1       {0: 1, 1: 4}  {'class_weight': {0: 1, 1: 4}}               0.133523   \n",
       "2       {0: 1, 1: 3}  {'class_weight': {0: 1, 1: 3}}               0.154882   \n",
       "3       {0: 1, 1: 2}  {'class_weight': {0: 1, 1: 2}}               0.190678   \n",
       "4       {0: 1, 1: 1}  {'class_weight': {0: 1, 1: 1}}               0.281250   \n",
       "\n",
       "   split1_test_precision  split2_test_precision  split3_test_precision  ...  \\\n",
       "0               0.952381               0.934783               0.818182  ...   \n",
       "1               1.000000               0.955556               0.809524  ...   \n",
       "2               1.000000               0.955556               0.800000  ...   \n",
       "3               1.000000               0.955556               0.812500  ...   \n",
       "4               1.000000               0.952381               0.857143  ...   \n",
       "\n",
       "   mean_test_recall_score  std_test_recall_score  rank_test_recall_score  \\\n",
       "0                0.653061               0.267261                       1   \n",
       "1                0.642857               0.277393                       2   \n",
       "2                0.627551               0.281816                       3   \n",
       "3                0.602041               0.297672                       4   \n",
       "4                0.545918               0.331397                       5   \n",
       "\n",
       "   split0_test_min_recall_precision  split1_test_min_recall_precision  \\\n",
       "0                          0.114634                          0.408163   \n",
       "1                          0.133523                          0.387755   \n",
       "2                          0.154882                          0.367347   \n",
       "3                          0.190678                          0.346939   \n",
       "4                          0.281250                          0.326531   \n",
       "\n",
       "   split2_test_min_recall_precision  split3_test_min_recall_precision  \\\n",
       "0                          0.877551                          0.367347   \n",
       "1                          0.877551                          0.346939   \n",
       "2                          0.877551                          0.326531   \n",
       "3                          0.877551                          0.265306   \n",
       "4                          0.816327                          0.122449   \n",
       "\n",
       "   mean_test_min_recall_precision  std_test_min_recall_precision  \\\n",
       "0                        0.441924                       0.275495   \n",
       "1                        0.436442                       0.272359   \n",
       "2                        0.431578                       0.269543   \n",
       "3                        0.420118                       0.269819   \n",
       "4                        0.386639                       0.259397   \n",
       "\n",
       "   rank_test_min_recall_precision  \n",
       "0                               1  \n",
       "1                               2  \n",
       "2                               3  \n",
       "3                               4  \n",
       "4                               5  \n",
       "\n",
       "[5 rows x 27 columns]"
      ]
     },
     "execution_count": 92,
     "metadata": {},
     "output_type": "execute_result"
    }
   ],
   "source": [
    "results"
   ]
  },
  {
   "cell_type": "code",
   "execution_count": 93,
   "id": "6e07b296",
   "metadata": {},
   "outputs": [],
   "source": [
    "s = make_scorer(min_recall_precision)\n",
    "??s"
   ]
  },
  {
   "cell_type": "code",
   "execution_count": 94,
   "id": "f347a972",
   "metadata": {},
   "outputs": [
    {
     "data": {
      "text/html": [
       "<div>\n",
       "<style scoped>\n",
       "    .dataframe tbody tr th:only-of-type {\n",
       "        vertical-align: middle;\n",
       "    }\n",
       "\n",
       "    .dataframe tbody tr th {\n",
       "        vertical-align: top;\n",
       "    }\n",
       "\n",
       "    .dataframe thead th {\n",
       "        text-align: right;\n",
       "    }\n",
       "</style>\n",
       "<table border=\"1\" class=\"dataframe\">\n",
       "  <thead>\n",
       "    <tr style=\"text-align: right;\">\n",
       "      <th></th>\n",
       "      <th>mean_fit_time</th>\n",
       "      <th>std_fit_time</th>\n",
       "      <th>mean_score_time</th>\n",
       "      <th>std_score_time</th>\n",
       "      <th>param_class_weight</th>\n",
       "      <th>params</th>\n",
       "      <th>split0_test_precision</th>\n",
       "      <th>split1_test_precision</th>\n",
       "      <th>split2_test_precision</th>\n",
       "      <th>split3_test_precision</th>\n",
       "      <th>...</th>\n",
       "      <th>mean_test_recall_score</th>\n",
       "      <th>std_test_recall_score</th>\n",
       "      <th>rank_test_recall_score</th>\n",
       "      <th>split0_test_min_recall_precision</th>\n",
       "      <th>split1_test_min_recall_precision</th>\n",
       "      <th>split2_test_min_recall_precision</th>\n",
       "      <th>split3_test_min_recall_precision</th>\n",
       "      <th>mean_test_min_recall_precision</th>\n",
       "      <th>std_test_min_recall_precision</th>\n",
       "      <th>rank_test_min_recall_precision</th>\n",
       "    </tr>\n",
       "  </thead>\n",
       "  <tbody>\n",
       "    <tr>\n",
       "      <th>0</th>\n",
       "      <td>0.795287</td>\n",
       "      <td>0.189235</td>\n",
       "      <td>0.061652</td>\n",
       "      <td>0.003376</td>\n",
       "      <td>{0: 1, 1: 5}</td>\n",
       "      <td>{'class_weight': {0: 1, 1: 5}}</td>\n",
       "      <td>0.114634</td>\n",
       "      <td>0.952381</td>\n",
       "      <td>0.934783</td>\n",
       "      <td>0.818182</td>\n",
       "      <td>...</td>\n",
       "      <td>0.653061</td>\n",
       "      <td>0.267261</td>\n",
       "      <td>1</td>\n",
       "      <td>0.114634</td>\n",
       "      <td>0.408163</td>\n",
       "      <td>0.877551</td>\n",
       "      <td>0.367347</td>\n",
       "      <td>0.441924</td>\n",
       "      <td>0.275495</td>\n",
       "      <td>1</td>\n",
       "    </tr>\n",
       "    <tr>\n",
       "      <th>1</th>\n",
       "      <td>0.775834</td>\n",
       "      <td>0.128145</td>\n",
       "      <td>0.057500</td>\n",
       "      <td>0.002294</td>\n",
       "      <td>{0: 1, 1: 4}</td>\n",
       "      <td>{'class_weight': {0: 1, 1: 4}}</td>\n",
       "      <td>0.133523</td>\n",
       "      <td>1.000000</td>\n",
       "      <td>0.955556</td>\n",
       "      <td>0.809524</td>\n",
       "      <td>...</td>\n",
       "      <td>0.642857</td>\n",
       "      <td>0.277393</td>\n",
       "      <td>2</td>\n",
       "      <td>0.133523</td>\n",
       "      <td>0.387755</td>\n",
       "      <td>0.877551</td>\n",
       "      <td>0.346939</td>\n",
       "      <td>0.436442</td>\n",
       "      <td>0.272359</td>\n",
       "      <td>2</td>\n",
       "    </tr>\n",
       "    <tr>\n",
       "      <th>2</th>\n",
       "      <td>0.817798</td>\n",
       "      <td>0.177591</td>\n",
       "      <td>0.058759</td>\n",
       "      <td>0.005887</td>\n",
       "      <td>{0: 1, 1: 3}</td>\n",
       "      <td>{'class_weight': {0: 1, 1: 3}}</td>\n",
       "      <td>0.154882</td>\n",
       "      <td>1.000000</td>\n",
       "      <td>0.955556</td>\n",
       "      <td>0.800000</td>\n",
       "      <td>...</td>\n",
       "      <td>0.627551</td>\n",
       "      <td>0.281816</td>\n",
       "      <td>3</td>\n",
       "      <td>0.154882</td>\n",
       "      <td>0.367347</td>\n",
       "      <td>0.877551</td>\n",
       "      <td>0.326531</td>\n",
       "      <td>0.431578</td>\n",
       "      <td>0.269543</td>\n",
       "      <td>3</td>\n",
       "    </tr>\n",
       "    <tr>\n",
       "      <th>3</th>\n",
       "      <td>0.794178</td>\n",
       "      <td>0.169686</td>\n",
       "      <td>0.060774</td>\n",
       "      <td>0.006003</td>\n",
       "      <td>{0: 1, 1: 2}</td>\n",
       "      <td>{'class_weight': {0: 1, 1: 2}}</td>\n",
       "      <td>0.190678</td>\n",
       "      <td>1.000000</td>\n",
       "      <td>0.955556</td>\n",
       "      <td>0.812500</td>\n",
       "      <td>...</td>\n",
       "      <td>0.602041</td>\n",
       "      <td>0.297672</td>\n",
       "      <td>4</td>\n",
       "      <td>0.190678</td>\n",
       "      <td>0.346939</td>\n",
       "      <td>0.877551</td>\n",
       "      <td>0.265306</td>\n",
       "      <td>0.420118</td>\n",
       "      <td>0.269819</td>\n",
       "      <td>4</td>\n",
       "    </tr>\n",
       "    <tr>\n",
       "      <th>4</th>\n",
       "      <td>0.829908</td>\n",
       "      <td>0.218106</td>\n",
       "      <td>0.059740</td>\n",
       "      <td>0.003114</td>\n",
       "      <td>{0: 1, 1: 1}</td>\n",
       "      <td>{'class_weight': {0: 1, 1: 1}}</td>\n",
       "      <td>0.281250</td>\n",
       "      <td>1.000000</td>\n",
       "      <td>0.952381</td>\n",
       "      <td>0.857143</td>\n",
       "      <td>...</td>\n",
       "      <td>0.545918</td>\n",
       "      <td>0.331397</td>\n",
       "      <td>5</td>\n",
       "      <td>0.281250</td>\n",
       "      <td>0.326531</td>\n",
       "      <td>0.816327</td>\n",
       "      <td>0.122449</td>\n",
       "      <td>0.386639</td>\n",
       "      <td>0.259397</td>\n",
       "      <td>5</td>\n",
       "    </tr>\n",
       "  </tbody>\n",
       "</table>\n",
       "<p>5 rows × 27 columns</p>\n",
       "</div>"
      ],
      "text/plain": [
       "   mean_fit_time  std_fit_time  mean_score_time  std_score_time  \\\n",
       "0       0.795287      0.189235         0.061652        0.003376   \n",
       "1       0.775834      0.128145         0.057500        0.002294   \n",
       "2       0.817798      0.177591         0.058759        0.005887   \n",
       "3       0.794178      0.169686         0.060774        0.006003   \n",
       "4       0.829908      0.218106         0.059740        0.003114   \n",
       "\n",
       "  param_class_weight                          params  split0_test_precision  \\\n",
       "0       {0: 1, 1: 5}  {'class_weight': {0: 1, 1: 5}}               0.114634   \n",
       "1       {0: 1, 1: 4}  {'class_weight': {0: 1, 1: 4}}               0.133523   \n",
       "2       {0: 1, 1: 3}  {'class_weight': {0: 1, 1: 3}}               0.154882   \n",
       "3       {0: 1, 1: 2}  {'class_weight': {0: 1, 1: 2}}               0.190678   \n",
       "4       {0: 1, 1: 1}  {'class_weight': {0: 1, 1: 1}}               0.281250   \n",
       "\n",
       "   split1_test_precision  split2_test_precision  split3_test_precision  ...  \\\n",
       "0               0.952381               0.934783               0.818182  ...   \n",
       "1               1.000000               0.955556               0.809524  ...   \n",
       "2               1.000000               0.955556               0.800000  ...   \n",
       "3               1.000000               0.955556               0.812500  ...   \n",
       "4               1.000000               0.952381               0.857143  ...   \n",
       "\n",
       "   mean_test_recall_score  std_test_recall_score  rank_test_recall_score  \\\n",
       "0                0.653061               0.267261                       1   \n",
       "1                0.642857               0.277393                       2   \n",
       "2                0.627551               0.281816                       3   \n",
       "3                0.602041               0.297672                       4   \n",
       "4                0.545918               0.331397                       5   \n",
       "\n",
       "   split0_test_min_recall_precision  split1_test_min_recall_precision  \\\n",
       "0                          0.114634                          0.408163   \n",
       "1                          0.133523                          0.387755   \n",
       "2                          0.154882                          0.367347   \n",
       "3                          0.190678                          0.346939   \n",
       "4                          0.281250                          0.326531   \n",
       "\n",
       "   split2_test_min_recall_precision  split3_test_min_recall_precision  \\\n",
       "0                          0.877551                          0.367347   \n",
       "1                          0.877551                          0.346939   \n",
       "2                          0.877551                          0.326531   \n",
       "3                          0.877551                          0.265306   \n",
       "4                          0.816327                          0.122449   \n",
       "\n",
       "   mean_test_min_recall_precision  std_test_min_recall_precision  \\\n",
       "0                        0.441924                       0.275495   \n",
       "1                        0.436442                       0.272359   \n",
       "2                        0.431578                       0.269543   \n",
       "3                        0.420118                       0.269819   \n",
       "4                        0.386639                       0.259397   \n",
       "\n",
       "   rank_test_min_recall_precision  \n",
       "0                               1  \n",
       "1                               2  \n",
       "2                               3  \n",
       "3                               4  \n",
       "4                               5  \n",
       "\n",
       "[5 rows x 27 columns]"
      ]
     },
     "execution_count": 94,
     "metadata": {},
     "output_type": "execute_result"
    }
   ],
   "source": [
    "def min_recall_precision(estimator, X, y_true, sample_weight=None, **kwargs):\n",
    "    y_pred = estimator.predict(X);\n",
    "    recall = recall_score(y_true, y_pred)\n",
    "    precision = precision_score(y_true, y_pred)\n",
    "    return min(recall, precision)\n",
    "\n",
    "\n",
    "grid = GridSearchCV(\n",
    "    estimator=LogisticRegression(max_iter=1000),\n",
    "    param_grid={\"class_weight\":[{0:1, 1:5}, {0:1, 1:4}, {0:1, 1:3}, {0:1, 1:2}, {0:1,1:1}]},\n",
    "    cv=4,\n",
    "    scoring={'precision': make_scorer(precision_score), 'recall_score': make_scorer(recall_score), 'min_recall_precision': min_recall_precision},\n",
    "    refit='min_recall_precision'\n",
    ")\n",
    "grid.fit(X,y)\n",
    "results = pd.DataFrame(grid.cv_results_)\n",
    "\n",
    "results"
   ]
  },
  {
   "cell_type": "code",
   "execution_count": 95,
   "id": "b65347a9",
   "metadata": {},
   "outputs": [
    {
     "data": {
      "text/plain": [
       "0        5.014760\n",
       "1        1.305626\n",
       "2        5.939276\n",
       "3        4.824306\n",
       "4        4.262539\n",
       "           ...   \n",
       "79994    3.091042\n",
       "79995    2.564180\n",
       "79996    2.396986\n",
       "79997    4.635505\n",
       "79998    4.226834\n",
       "Name: Amount, Length: 79999, dtype: float64"
      ]
     },
     "execution_count": 95,
     "metadata": {},
     "output_type": "execute_result"
    }
   ],
   "source": [
    "np.log(1+df['Amount'])"
   ]
  },
  {
   "cell_type": "code",
   "execution_count": null,
   "id": "d3d907bd",
   "metadata": {},
   "outputs": [],
   "source": []
  },
  {
   "cell_type": "code",
   "execution_count": 96,
   "id": "eb35cc93",
   "metadata": {},
   "outputs": [
    {
     "data": {
      "text/html": [
       "<style>#sk-container-id-10 {color: black;}#sk-container-id-10 pre{padding: 0;}#sk-container-id-10 div.sk-toggleable {background-color: white;}#sk-container-id-10 label.sk-toggleable__label {cursor: pointer;display: block;width: 100%;margin-bottom: 0;padding: 0.3em;box-sizing: border-box;text-align: center;}#sk-container-id-10 label.sk-toggleable__label-arrow:before {content: \"▸\";float: left;margin-right: 0.25em;color: #696969;}#sk-container-id-10 label.sk-toggleable__label-arrow:hover:before {color: black;}#sk-container-id-10 div.sk-estimator:hover label.sk-toggleable__label-arrow:before {color: black;}#sk-container-id-10 div.sk-toggleable__content {max-height: 0;max-width: 0;overflow: hidden;text-align: left;background-color: #f0f8ff;}#sk-container-id-10 div.sk-toggleable__content pre {margin: 0.2em;color: black;border-radius: 0.25em;background-color: #f0f8ff;}#sk-container-id-10 input.sk-toggleable__control:checked~div.sk-toggleable__content {max-height: 200px;max-width: 100%;overflow: auto;}#sk-container-id-10 input.sk-toggleable__control:checked~label.sk-toggleable__label-arrow:before {content: \"▾\";}#sk-container-id-10 div.sk-estimator input.sk-toggleable__control:checked~label.sk-toggleable__label {background-color: #d4ebff;}#sk-container-id-10 div.sk-label input.sk-toggleable__control:checked~label.sk-toggleable__label {background-color: #d4ebff;}#sk-container-id-10 input.sk-hidden--visually {border: 0;clip: rect(1px 1px 1px 1px);clip: rect(1px, 1px, 1px, 1px);height: 1px;margin: -1px;overflow: hidden;padding: 0;position: absolute;width: 1px;}#sk-container-id-10 div.sk-estimator {font-family: monospace;background-color: #f0f8ff;border: 1px dotted black;border-radius: 0.25em;box-sizing: border-box;margin-bottom: 0.5em;}#sk-container-id-10 div.sk-estimator:hover {background-color: #d4ebff;}#sk-container-id-10 div.sk-parallel-item::after {content: \"\";width: 100%;border-bottom: 1px solid gray;flex-grow: 1;}#sk-container-id-10 div.sk-label:hover label.sk-toggleable__label {background-color: #d4ebff;}#sk-container-id-10 div.sk-serial::before {content: \"\";position: absolute;border-left: 1px solid gray;box-sizing: border-box;top: 0;bottom: 0;left: 50%;z-index: 0;}#sk-container-id-10 div.sk-serial {display: flex;flex-direction: column;align-items: center;background-color: white;padding-right: 0.2em;padding-left: 0.2em;position: relative;}#sk-container-id-10 div.sk-item {position: relative;z-index: 1;}#sk-container-id-10 div.sk-parallel {display: flex;align-items: stretch;justify-content: center;background-color: white;position: relative;}#sk-container-id-10 div.sk-item::before, #sk-container-id-10 div.sk-parallel-item::before {content: \"\";position: absolute;border-left: 1px solid gray;box-sizing: border-box;top: 0;bottom: 0;left: 50%;z-index: -1;}#sk-container-id-10 div.sk-parallel-item {display: flex;flex-direction: column;z-index: 1;position: relative;background-color: white;}#sk-container-id-10 div.sk-parallel-item:first-child::after {align-self: flex-end;width: 50%;}#sk-container-id-10 div.sk-parallel-item:last-child::after {align-self: flex-start;width: 50%;}#sk-container-id-10 div.sk-parallel-item:only-child::after {width: 0;}#sk-container-id-10 div.sk-dashed-wrapped {border: 1px dashed gray;margin: 0 0.4em 0.5em 0.4em;box-sizing: border-box;padding-bottom: 0.4em;background-color: white;}#sk-container-id-10 div.sk-label label {font-family: monospace;font-weight: bold;display: inline-block;line-height: 1.2em;}#sk-container-id-10 div.sk-label-container {text-align: center;}#sk-container-id-10 div.sk-container {/* jupyter's `normalize.less` sets `[hidden] { display: none; }` but bootstrap.min.css set `[hidden] { display: none !important; }` so we also need the `!important` here to be able to override the default hidden behavior on the sphinx rendered scikit-learn.org. See: https://github.com/scikit-learn/scikit-learn/issues/21755 */display: inline-block !important;position: relative;}#sk-container-id-10 div.sk-text-repr-fallback {display: none;}</style><div id=\"sk-container-id-10\" class=\"sk-top-container\"><div class=\"sk-text-repr-fallback\"><pre>IsolationForest()</pre><b>In a Jupyter environment, please rerun this cell to show the HTML representation or trust the notebook. <br />On GitHub, the HTML representation is unable to render, please try loading this page with nbviewer.org.</b></div><div class=\"sk-container\" hidden><div class=\"sk-item\"><div class=\"sk-estimator sk-toggleable\"><input class=\"sk-toggleable__control sk-hidden--visually\" id=\"sk-estimator-id-23\" type=\"checkbox\" checked><label for=\"sk-estimator-id-23\" class=\"sk-toggleable__label sk-toggleable__label-arrow\">IsolationForest</label><div class=\"sk-toggleable__content\"><pre>IsolationForest()</pre></div></div></div></div></div>"
      ],
      "text/plain": [
       "IsolationForest()"
      ]
     },
     "execution_count": 96,
     "metadata": {},
     "output_type": "execute_result"
    }
   ],
   "source": [
    "from sklearn.ensemble import IsolationForest\n",
    "model = IsolationForest()\n",
    "model.fit(X)"
   ]
  },
  {
   "cell_type": "code",
   "execution_count": 97,
   "id": "0aea0742",
   "metadata": {},
   "outputs": [
    {
     "data": {
      "text/plain": [
       "Counter({1: 76927, -1: 3072})"
      ]
     },
     "execution_count": 97,
     "metadata": {},
     "output_type": "execute_result"
    }
   ],
   "source": [
    "from collections import Counter\n",
    "Counter(model.predict(X))"
   ]
  },
  {
   "cell_type": "code",
   "execution_count": 98,
   "id": "752bd919",
   "metadata": {},
   "outputs": [
    {
     "data": {
      "text/html": [
       "<div>\n",
       "<style scoped>\n",
       "    .dataframe tbody tr th:only-of-type {\n",
       "        vertical-align: middle;\n",
       "    }\n",
       "\n",
       "    .dataframe tbody tr th {\n",
       "        vertical-align: top;\n",
       "    }\n",
       "\n",
       "    .dataframe thead th {\n",
       "        text-align: right;\n",
       "    }\n",
       "</style>\n",
       "<table border=\"1\" class=\"dataframe\">\n",
       "  <thead>\n",
       "    <tr style=\"text-align: right;\">\n",
       "      <th></th>\n",
       "      <th>mean_fit_time</th>\n",
       "      <th>std_fit_time</th>\n",
       "      <th>mean_score_time</th>\n",
       "      <th>std_score_time</th>\n",
       "      <th>param_contamination</th>\n",
       "      <th>params</th>\n",
       "      <th>split0_test_outlier_recall_precision</th>\n",
       "      <th>split1_test_outlier_recall_precision</th>\n",
       "      <th>split2_test_outlier_recall_precision</th>\n",
       "      <th>split3_test_outlier_recall_precision</th>\n",
       "      <th>mean_test_outlier_recall_precision</th>\n",
       "      <th>std_test_outlier_recall_precision</th>\n",
       "      <th>rank_test_outlier_recall_precision</th>\n",
       "    </tr>\n",
       "  </thead>\n",
       "  <tbody>\n",
       "    <tr>\n",
       "      <th>0</th>\n",
       "      <td>1.185489</td>\n",
       "      <td>0.015041</td>\n",
       "      <td>0.275217</td>\n",
       "      <td>0.004112</td>\n",
       "      <td>0.001</td>\n",
       "      <td>{'contamination': 0.001}</td>\n",
       "      <td>0.002605</td>\n",
       "      <td>0.000950</td>\n",
       "      <td>0.001853</td>\n",
       "      <td>0.001650</td>\n",
       "      <td>0.001765</td>\n",
       "      <td>0.000590</td>\n",
       "      <td>1</td>\n",
       "    </tr>\n",
       "    <tr>\n",
       "      <th>1</th>\n",
       "      <td>1.179156</td>\n",
       "      <td>0.030733</td>\n",
       "      <td>0.274153</td>\n",
       "      <td>0.004957</td>\n",
       "      <td>0.003111</td>\n",
       "      <td>{'contamination': 0.003111111111111111}</td>\n",
       "      <td>0.002060</td>\n",
       "      <td>0.000952</td>\n",
       "      <td>0.001505</td>\n",
       "      <td>0.001553</td>\n",
       "      <td>0.001518</td>\n",
       "      <td>0.000392</td>\n",
       "      <td>2</td>\n",
       "    </tr>\n",
       "    <tr>\n",
       "      <th>2</th>\n",
       "      <td>1.203731</td>\n",
       "      <td>0.039912</td>\n",
       "      <td>0.272816</td>\n",
       "      <td>0.008791</td>\n",
       "      <td>0.005222</td>\n",
       "      <td>{'contamination': 0.005222222222222222}</td>\n",
       "      <td>0.002015</td>\n",
       "      <td>0.000552</td>\n",
       "      <td>0.001206</td>\n",
       "      <td>0.001006</td>\n",
       "      <td>0.001195</td>\n",
       "      <td>0.000529</td>\n",
       "      <td>3</td>\n",
       "    </tr>\n",
       "    <tr>\n",
       "      <th>3</th>\n",
       "      <td>1.171548</td>\n",
       "      <td>0.036106</td>\n",
       "      <td>0.278514</td>\n",
       "      <td>0.005610</td>\n",
       "      <td>0.007333</td>\n",
       "      <td>{'contamination': 0.007333333333333333}</td>\n",
       "      <td>0.001062</td>\n",
       "      <td>0.000402</td>\n",
       "      <td>0.001056</td>\n",
       "      <td>0.000958</td>\n",
       "      <td>0.000870</td>\n",
       "      <td>0.000273</td>\n",
       "      <td>4</td>\n",
       "    </tr>\n",
       "    <tr>\n",
       "      <th>4</th>\n",
       "      <td>1.169434</td>\n",
       "      <td>0.013679</td>\n",
       "      <td>0.272930</td>\n",
       "      <td>0.004229</td>\n",
       "      <td>0.009444</td>\n",
       "      <td>{'contamination': 0.009444444444444443}</td>\n",
       "      <td>0.000913</td>\n",
       "      <td>0.000403</td>\n",
       "      <td>0.000958</td>\n",
       "      <td>0.000858</td>\n",
       "      <td>0.000783</td>\n",
       "      <td>0.000222</td>\n",
       "      <td>6</td>\n",
       "    </tr>\n",
       "    <tr>\n",
       "      <th>5</th>\n",
       "      <td>1.191773</td>\n",
       "      <td>0.018840</td>\n",
       "      <td>0.295382</td>\n",
       "      <td>0.015483</td>\n",
       "      <td>0.011556</td>\n",
       "      <td>{'contamination': 0.011555555555555555}</td>\n",
       "      <td>0.000916</td>\n",
       "      <td>0.000403</td>\n",
       "      <td>0.001162</td>\n",
       "      <td>0.000910</td>\n",
       "      <td>0.000848</td>\n",
       "      <td>0.000276</td>\n",
       "      <td>5</td>\n",
       "    </tr>\n",
       "    <tr>\n",
       "      <th>6</th>\n",
       "      <td>1.185119</td>\n",
       "      <td>0.012866</td>\n",
       "      <td>0.274761</td>\n",
       "      <td>0.003355</td>\n",
       "      <td>0.013667</td>\n",
       "      <td>{'contamination': 0.013666666666666667}</td>\n",
       "      <td>0.000511</td>\n",
       "      <td>0.000404</td>\n",
       "      <td>0.000962</td>\n",
       "      <td>0.000812</td>\n",
       "      <td>0.000672</td>\n",
       "      <td>0.000224</td>\n",
       "      <td>8</td>\n",
       "    </tr>\n",
       "    <tr>\n",
       "      <th>7</th>\n",
       "      <td>1.229839</td>\n",
       "      <td>0.021022</td>\n",
       "      <td>0.290699</td>\n",
       "      <td>0.009466</td>\n",
       "      <td>0.015778</td>\n",
       "      <td>{'contamination': 0.015777777777777776}</td>\n",
       "      <td>0.000666</td>\n",
       "      <td>0.000405</td>\n",
       "      <td>0.000963</td>\n",
       "      <td>0.000763</td>\n",
       "      <td>0.000699</td>\n",
       "      <td>0.000201</td>\n",
       "      <td>7</td>\n",
       "    </tr>\n",
       "    <tr>\n",
       "      <th>8</th>\n",
       "      <td>1.171199</td>\n",
       "      <td>0.041414</td>\n",
       "      <td>0.291925</td>\n",
       "      <td>0.004296</td>\n",
       "      <td>0.017889</td>\n",
       "      <td>{'contamination': 0.017888888888888888}</td>\n",
       "      <td>0.000411</td>\n",
       "      <td>0.000355</td>\n",
       "      <td>0.000913</td>\n",
       "      <td>0.000816</td>\n",
       "      <td>0.000624</td>\n",
       "      <td>0.000244</td>\n",
       "      <td>9</td>\n",
       "    </tr>\n",
       "    <tr>\n",
       "      <th>9</th>\n",
       "      <td>1.241818</td>\n",
       "      <td>0.046034</td>\n",
       "      <td>0.279529</td>\n",
       "      <td>0.006199</td>\n",
       "      <td>0.02</td>\n",
       "      <td>{'contamination': 0.02}</td>\n",
       "      <td>0.000361</td>\n",
       "      <td>0.000356</td>\n",
       "      <td>0.000865</td>\n",
       "      <td>0.000715</td>\n",
       "      <td>0.000574</td>\n",
       "      <td>0.000222</td>\n",
       "      <td>10</td>\n",
       "    </tr>\n",
       "  </tbody>\n",
       "</table>\n",
       "</div>"
      ],
      "text/plain": [
       "   mean_fit_time  std_fit_time  mean_score_time  std_score_time  \\\n",
       "0       1.185489      0.015041         0.275217        0.004112   \n",
       "1       1.179156      0.030733         0.274153        0.004957   \n",
       "2       1.203731      0.039912         0.272816        0.008791   \n",
       "3       1.171548      0.036106         0.278514        0.005610   \n",
       "4       1.169434      0.013679         0.272930        0.004229   \n",
       "5       1.191773      0.018840         0.295382        0.015483   \n",
       "6       1.185119      0.012866         0.274761        0.003355   \n",
       "7       1.229839      0.021022         0.290699        0.009466   \n",
       "8       1.171199      0.041414         0.291925        0.004296   \n",
       "9       1.241818      0.046034         0.279529        0.006199   \n",
       "\n",
       "  param_contamination                                   params  \\\n",
       "0               0.001                 {'contamination': 0.001}   \n",
       "1            0.003111  {'contamination': 0.003111111111111111}   \n",
       "2            0.005222  {'contamination': 0.005222222222222222}   \n",
       "3            0.007333  {'contamination': 0.007333333333333333}   \n",
       "4            0.009444  {'contamination': 0.009444444444444443}   \n",
       "5            0.011556  {'contamination': 0.011555555555555555}   \n",
       "6            0.013667  {'contamination': 0.013666666666666667}   \n",
       "7            0.015778  {'contamination': 0.015777777777777776}   \n",
       "8            0.017889  {'contamination': 0.017888888888888888}   \n",
       "9                0.02                  {'contamination': 0.02}   \n",
       "\n",
       "   split0_test_outlier_recall_precision  split1_test_outlier_recall_precision  \\\n",
       "0                              0.002605                              0.000950   \n",
       "1                              0.002060                              0.000952   \n",
       "2                              0.002015                              0.000552   \n",
       "3                              0.001062                              0.000402   \n",
       "4                              0.000913                              0.000403   \n",
       "5                              0.000916                              0.000403   \n",
       "6                              0.000511                              0.000404   \n",
       "7                              0.000666                              0.000405   \n",
       "8                              0.000411                              0.000355   \n",
       "9                              0.000361                              0.000356   \n",
       "\n",
       "   split2_test_outlier_recall_precision  split3_test_outlier_recall_precision  \\\n",
       "0                              0.001853                              0.001650   \n",
       "1                              0.001505                              0.001553   \n",
       "2                              0.001206                              0.001006   \n",
       "3                              0.001056                              0.000958   \n",
       "4                              0.000958                              0.000858   \n",
       "5                              0.001162                              0.000910   \n",
       "6                              0.000962                              0.000812   \n",
       "7                              0.000963                              0.000763   \n",
       "8                              0.000913                              0.000816   \n",
       "9                              0.000865                              0.000715   \n",
       "\n",
       "   mean_test_outlier_recall_precision  std_test_outlier_recall_precision  \\\n",
       "0                            0.001765                           0.000590   \n",
       "1                            0.001518                           0.000392   \n",
       "2                            0.001195                           0.000529   \n",
       "3                            0.000870                           0.000273   \n",
       "4                            0.000783                           0.000222   \n",
       "5                            0.000848                           0.000276   \n",
       "6                            0.000672                           0.000224   \n",
       "7                            0.000699                           0.000201   \n",
       "8                            0.000624                           0.000244   \n",
       "9                            0.000574                           0.000222   \n",
       "\n",
       "   rank_test_outlier_recall_precision  \n",
       "0                                   1  \n",
       "1                                   2  \n",
       "2                                   3  \n",
       "3                                   4  \n",
       "4                                   6  \n",
       "5                                   5  \n",
       "6                                   8  \n",
       "7                                   7  \n",
       "8                                   9  \n",
       "9                                  10  "
      ]
     },
     "execution_count": 98,
     "metadata": {},
     "output_type": "execute_result"
    }
   ],
   "source": [
    "def outlier_recall_precision(estimator, X, y_true, sample_weight=None, **kwargs):\n",
    "    y_pred = estimator.predict(X);\n",
    "    y_pred = [x!=-1 for x in y_pred]\n",
    "    recall = recall_score(y_true, y_pred)\n",
    "    precision = precision_score(y_true, y_pred)\n",
    "    return min(recall, precision)\n",
    "\n",
    "\n",
    "grid = GridSearchCV(\n",
    "    estimator=IsolationForest(),\n",
    "    param_grid={'contamination': np.linspace(0.001,0.02, 10)},\n",
    "    cv=4,\n",
    "    scoring={'outlier_recall_precision': outlier_recall_precision},\n",
    "    refit='outlier_recall_precision'\n",
    ")\n",
    "grid.fit(X,y)\n",
    "results = pd.DataFrame(grid.cv_results_)\n",
    "\n",
    "results"
   ]
  },
  {
   "cell_type": "code",
   "execution_count": 99,
   "id": "877e0636",
   "metadata": {},
   "outputs": [],
   "source": [
    "# np.where(preds == -1, 1, 0)\n",
    "# hyperparamter"
   ]
  },
  {
   "cell_type": "code",
   "execution_count": null,
   "id": "cfbb418d",
   "metadata": {},
   "outputs": [],
   "source": []
  },
  {
   "cell_type": "code",
   "execution_count": 100,
   "id": "fc917204",
   "metadata": {},
   "outputs": [],
   "source": [
    "# Meta estimators"
   ]
  },
  {
   "cell_type": "code",
   "execution_count": 101,
   "id": "9ea891ab",
   "metadata": {},
   "outputs": [],
   "source": [
    "from sklearn.ensemble import VotingClassifier\n",
    "from sklearn.neighbors import KNeighborsClassifier"
   ]
  },
  {
   "cell_type": "code",
   "execution_count": 102,
   "id": "ddaee98a",
   "metadata": {},
   "outputs": [],
   "source": [
    "clf1 = LogisticRegression(max_iter=1000).fit(X,y)\n",
    "clf2 = KNeighborsClassifier().fit(X,y)"
   ]
  },
  {
   "cell_type": "code",
   "execution_count": 103,
   "id": "b21c14a8",
   "metadata": {},
   "outputs": [],
   "source": [
    "clf3 = VotingClassifier(\n",
    "    estimators=[('clf1', clf1), ('clf2', clf2)],\n",
    "    voting='soft',\n",
    "    weights=[0.5,0.5]\n",
    ")"
   ]
  },
  {
   "cell_type": "code",
   "execution_count": 104,
   "id": "70c8735c",
   "metadata": {},
   "outputs": [
    {
     "data": {
      "text/html": [
       "<style>#sk-container-id-11 {color: black;}#sk-container-id-11 pre{padding: 0;}#sk-container-id-11 div.sk-toggleable {background-color: white;}#sk-container-id-11 label.sk-toggleable__label {cursor: pointer;display: block;width: 100%;margin-bottom: 0;padding: 0.3em;box-sizing: border-box;text-align: center;}#sk-container-id-11 label.sk-toggleable__label-arrow:before {content: \"▸\";float: left;margin-right: 0.25em;color: #696969;}#sk-container-id-11 label.sk-toggleable__label-arrow:hover:before {color: black;}#sk-container-id-11 div.sk-estimator:hover label.sk-toggleable__label-arrow:before {color: black;}#sk-container-id-11 div.sk-toggleable__content {max-height: 0;max-width: 0;overflow: hidden;text-align: left;background-color: #f0f8ff;}#sk-container-id-11 div.sk-toggleable__content pre {margin: 0.2em;color: black;border-radius: 0.25em;background-color: #f0f8ff;}#sk-container-id-11 input.sk-toggleable__control:checked~div.sk-toggleable__content {max-height: 200px;max-width: 100%;overflow: auto;}#sk-container-id-11 input.sk-toggleable__control:checked~label.sk-toggleable__label-arrow:before {content: \"▾\";}#sk-container-id-11 div.sk-estimator input.sk-toggleable__control:checked~label.sk-toggleable__label {background-color: #d4ebff;}#sk-container-id-11 div.sk-label input.sk-toggleable__control:checked~label.sk-toggleable__label {background-color: #d4ebff;}#sk-container-id-11 input.sk-hidden--visually {border: 0;clip: rect(1px 1px 1px 1px);clip: rect(1px, 1px, 1px, 1px);height: 1px;margin: -1px;overflow: hidden;padding: 0;position: absolute;width: 1px;}#sk-container-id-11 div.sk-estimator {font-family: monospace;background-color: #f0f8ff;border: 1px dotted black;border-radius: 0.25em;box-sizing: border-box;margin-bottom: 0.5em;}#sk-container-id-11 div.sk-estimator:hover {background-color: #d4ebff;}#sk-container-id-11 div.sk-parallel-item::after {content: \"\";width: 100%;border-bottom: 1px solid gray;flex-grow: 1;}#sk-container-id-11 div.sk-label:hover label.sk-toggleable__label {background-color: #d4ebff;}#sk-container-id-11 div.sk-serial::before {content: \"\";position: absolute;border-left: 1px solid gray;box-sizing: border-box;top: 0;bottom: 0;left: 50%;z-index: 0;}#sk-container-id-11 div.sk-serial {display: flex;flex-direction: column;align-items: center;background-color: white;padding-right: 0.2em;padding-left: 0.2em;position: relative;}#sk-container-id-11 div.sk-item {position: relative;z-index: 1;}#sk-container-id-11 div.sk-parallel {display: flex;align-items: stretch;justify-content: center;background-color: white;position: relative;}#sk-container-id-11 div.sk-item::before, #sk-container-id-11 div.sk-parallel-item::before {content: \"\";position: absolute;border-left: 1px solid gray;box-sizing: border-box;top: 0;bottom: 0;left: 50%;z-index: -1;}#sk-container-id-11 div.sk-parallel-item {display: flex;flex-direction: column;z-index: 1;position: relative;background-color: white;}#sk-container-id-11 div.sk-parallel-item:first-child::after {align-self: flex-end;width: 50%;}#sk-container-id-11 div.sk-parallel-item:last-child::after {align-self: flex-start;width: 50%;}#sk-container-id-11 div.sk-parallel-item:only-child::after {width: 0;}#sk-container-id-11 div.sk-dashed-wrapped {border: 1px dashed gray;margin: 0 0.4em 0.5em 0.4em;box-sizing: border-box;padding-bottom: 0.4em;background-color: white;}#sk-container-id-11 div.sk-label label {font-family: monospace;font-weight: bold;display: inline-block;line-height: 1.2em;}#sk-container-id-11 div.sk-label-container {text-align: center;}#sk-container-id-11 div.sk-container {/* jupyter's `normalize.less` sets `[hidden] { display: none; }` but bootstrap.min.css set `[hidden] { display: none !important; }` so we also need the `!important` here to be able to override the default hidden behavior on the sphinx rendered scikit-learn.org. See: https://github.com/scikit-learn/scikit-learn/issues/21755 */display: inline-block !important;position: relative;}#sk-container-id-11 div.sk-text-repr-fallback {display: none;}</style><div id=\"sk-container-id-11\" class=\"sk-top-container\"><div class=\"sk-text-repr-fallback\"><pre>VotingClassifier(estimators=[(&#x27;clf1&#x27;, LogisticRegression(max_iter=1000)),\n",
       "                             (&#x27;clf2&#x27;, KNeighborsClassifier())],\n",
       "                 voting=&#x27;soft&#x27;, weights=[0.5, 0.5])</pre><b>In a Jupyter environment, please rerun this cell to show the HTML representation or trust the notebook. <br />On GitHub, the HTML representation is unable to render, please try loading this page with nbviewer.org.</b></div><div class=\"sk-container\" hidden><div class=\"sk-item sk-dashed-wrapped\"><div class=\"sk-label-container\"><div class=\"sk-label sk-toggleable\"><input class=\"sk-toggleable__control sk-hidden--visually\" id=\"sk-estimator-id-24\" type=\"checkbox\" ><label for=\"sk-estimator-id-24\" class=\"sk-toggleable__label sk-toggleable__label-arrow\">VotingClassifier</label><div class=\"sk-toggleable__content\"><pre>VotingClassifier(estimators=[(&#x27;clf1&#x27;, LogisticRegression(max_iter=1000)),\n",
       "                             (&#x27;clf2&#x27;, KNeighborsClassifier())],\n",
       "                 voting=&#x27;soft&#x27;, weights=[0.5, 0.5])</pre></div></div></div><div class=\"sk-parallel\"><div class=\"sk-parallel-item\"><div class=\"sk-item\"><div class=\"sk-label-container\"><div class=\"sk-label sk-toggleable\"><label>clf1</label></div></div><div class=\"sk-serial\"><div class=\"sk-item\"><div class=\"sk-estimator sk-toggleable\"><input class=\"sk-toggleable__control sk-hidden--visually\" id=\"sk-estimator-id-25\" type=\"checkbox\" ><label for=\"sk-estimator-id-25\" class=\"sk-toggleable__label sk-toggleable__label-arrow\">LogisticRegression</label><div class=\"sk-toggleable__content\"><pre>LogisticRegression(max_iter=1000)</pre></div></div></div></div></div></div><div class=\"sk-parallel-item\"><div class=\"sk-item\"><div class=\"sk-label-container\"><div class=\"sk-label sk-toggleable\"><label>clf2</label></div></div><div class=\"sk-serial\"><div class=\"sk-item\"><div class=\"sk-estimator sk-toggleable\"><input class=\"sk-toggleable__control sk-hidden--visually\" id=\"sk-estimator-id-26\" type=\"checkbox\" ><label for=\"sk-estimator-id-26\" class=\"sk-toggleable__label sk-toggleable__label-arrow\">KNeighborsClassifier</label><div class=\"sk-toggleable__content\"><pre>KNeighborsClassifier()</pre></div></div></div></div></div></div></div></div></div></div>"
      ],
      "text/plain": [
       "VotingClassifier(estimators=[('clf1', LogisticRegression(max_iter=1000)),\n",
       "                             ('clf2', KNeighborsClassifier())],\n",
       "                 voting='soft', weights=[0.5, 0.5])"
      ]
     },
     "execution_count": 104,
     "metadata": {},
     "output_type": "execute_result"
    }
   ],
   "source": [
    "clf3.fit(X,y)"
   ]
  },
  {
   "cell_type": "code",
   "execution_count": null,
   "id": "59a7ddae",
   "metadata": {},
   "outputs": [],
   "source": []
  },
  {
   "cell_type": "code",
   "execution_count": null,
   "id": "dd8053c3",
   "metadata": {},
   "outputs": [],
   "source": []
  }
 ],
 "metadata": {
  "kernelspec": {
   "display_name": "Python 3 (ipykernel)",
   "language": "python",
   "name": "python3"
  },
  "language_info": {
   "codemirror_mode": {
    "name": "ipython",
    "version": 3
   },
   "file_extension": ".py",
   "mimetype": "text/x-python",
   "name": "python",
   "nbconvert_exporter": "python",
   "pygments_lexer": "ipython3",
   "version": "3.11.5"
  }
 },
 "nbformat": 4,
 "nbformat_minor": 5
}
