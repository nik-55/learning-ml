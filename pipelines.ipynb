{
 "cells": [
  {
   "cell_type": "code",
   "execution_count": 1,
   "metadata": {},
   "outputs": [],
   "source": [
    "from sklearn.pipeline import Pipeline\n",
    "##feature Scaling\n",
    "from sklearn.preprocessing import StandardScaler\n",
    "from sklearn.linear_model import LogisticRegression"
   ]
  },
  {
   "cell_type": "code",
   "execution_count": 2,
   "metadata": {},
   "outputs": [],
   "source": [
    "steps=[(\"standard_scaler\",StandardScaler()),\n",
    "      (\"classifier\",LogisticRegression())]"
   ]
  },
  {
   "cell_type": "code",
   "execution_count": 3,
   "metadata": {},
   "outputs": [],
   "source": [
    "pipe=Pipeline(steps)"
   ]
  },
  {
   "cell_type": "code",
   "execution_count": 4,
   "metadata": {},
   "outputs": [
    {
     "data": {
      "text/html": [
       "<style>#sk-5fd63a91-b521-474d-bc6f-a7fd6a8e7e3d {color: black;background-color: white;}#sk-5fd63a91-b521-474d-bc6f-a7fd6a8e7e3d pre{padding: 0;}#sk-5fd63a91-b521-474d-bc6f-a7fd6a8e7e3d div.sk-toggleable {background-color: white;}#sk-5fd63a91-b521-474d-bc6f-a7fd6a8e7e3d label.sk-toggleable__label {cursor: pointer;display: block;width: 100%;margin-bottom: 0;padding: 0.3em;box-sizing: border-box;text-align: center;}#sk-5fd63a91-b521-474d-bc6f-a7fd6a8e7e3d label.sk-toggleable__label-arrow:before {content: \"▸\";float: left;margin-right: 0.25em;color: #696969;}#sk-5fd63a91-b521-474d-bc6f-a7fd6a8e7e3d label.sk-toggleable__label-arrow:hover:before {color: black;}#sk-5fd63a91-b521-474d-bc6f-a7fd6a8e7e3d div.sk-estimator:hover label.sk-toggleable__label-arrow:before {color: black;}#sk-5fd63a91-b521-474d-bc6f-a7fd6a8e7e3d div.sk-toggleable__content {max-height: 0;max-width: 0;overflow: hidden;text-align: left;background-color: #f0f8ff;}#sk-5fd63a91-b521-474d-bc6f-a7fd6a8e7e3d div.sk-toggleable__content pre {margin: 0.2em;color: black;border-radius: 0.25em;background-color: #f0f8ff;}#sk-5fd63a91-b521-474d-bc6f-a7fd6a8e7e3d input.sk-toggleable__control:checked~div.sk-toggleable__content {max-height: 200px;max-width: 100%;overflow: auto;}#sk-5fd63a91-b521-474d-bc6f-a7fd6a8e7e3d input.sk-toggleable__control:checked~label.sk-toggleable__label-arrow:before {content: \"▾\";}#sk-5fd63a91-b521-474d-bc6f-a7fd6a8e7e3d div.sk-estimator input.sk-toggleable__control:checked~label.sk-toggleable__label {background-color: #d4ebff;}#sk-5fd63a91-b521-474d-bc6f-a7fd6a8e7e3d div.sk-label input.sk-toggleable__control:checked~label.sk-toggleable__label {background-color: #d4ebff;}#sk-5fd63a91-b521-474d-bc6f-a7fd6a8e7e3d input.sk-hidden--visually {border: 0;clip: rect(1px 1px 1px 1px);clip: rect(1px, 1px, 1px, 1px);height: 1px;margin: -1px;overflow: hidden;padding: 0;position: absolute;width: 1px;}#sk-5fd63a91-b521-474d-bc6f-a7fd6a8e7e3d div.sk-estimator {font-family: monospace;background-color: #f0f8ff;border: 1px dotted black;border-radius: 0.25em;box-sizing: border-box;margin-bottom: 0.5em;}#sk-5fd63a91-b521-474d-bc6f-a7fd6a8e7e3d div.sk-estimator:hover {background-color: #d4ebff;}#sk-5fd63a91-b521-474d-bc6f-a7fd6a8e7e3d div.sk-parallel-item::after {content: \"\";width: 100%;border-bottom: 1px solid gray;flex-grow: 1;}#sk-5fd63a91-b521-474d-bc6f-a7fd6a8e7e3d div.sk-label:hover label.sk-toggleable__label {background-color: #d4ebff;}#sk-5fd63a91-b521-474d-bc6f-a7fd6a8e7e3d div.sk-serial::before {content: \"\";position: absolute;border-left: 1px solid gray;box-sizing: border-box;top: 2em;bottom: 0;left: 50%;}#sk-5fd63a91-b521-474d-bc6f-a7fd6a8e7e3d div.sk-serial {display: flex;flex-direction: column;align-items: center;background-color: white;padding-right: 0.2em;padding-left: 0.2em;}#sk-5fd63a91-b521-474d-bc6f-a7fd6a8e7e3d div.sk-item {z-index: 1;}#sk-5fd63a91-b521-474d-bc6f-a7fd6a8e7e3d div.sk-parallel {display: flex;align-items: stretch;justify-content: center;background-color: white;}#sk-5fd63a91-b521-474d-bc6f-a7fd6a8e7e3d div.sk-parallel::before {content: \"\";position: absolute;border-left: 1px solid gray;box-sizing: border-box;top: 2em;bottom: 0;left: 50%;}#sk-5fd63a91-b521-474d-bc6f-a7fd6a8e7e3d div.sk-parallel-item {display: flex;flex-direction: column;position: relative;background-color: white;}#sk-5fd63a91-b521-474d-bc6f-a7fd6a8e7e3d div.sk-parallel-item:first-child::after {align-self: flex-end;width: 50%;}#sk-5fd63a91-b521-474d-bc6f-a7fd6a8e7e3d div.sk-parallel-item:last-child::after {align-self: flex-start;width: 50%;}#sk-5fd63a91-b521-474d-bc6f-a7fd6a8e7e3d div.sk-parallel-item:only-child::after {width: 0;}#sk-5fd63a91-b521-474d-bc6f-a7fd6a8e7e3d div.sk-dashed-wrapped {border: 1px dashed gray;margin: 0 0.4em 0.5em 0.4em;box-sizing: border-box;padding-bottom: 0.4em;background-color: white;position: relative;}#sk-5fd63a91-b521-474d-bc6f-a7fd6a8e7e3d div.sk-label label {font-family: monospace;font-weight: bold;background-color: white;display: inline-block;line-height: 1.2em;}#sk-5fd63a91-b521-474d-bc6f-a7fd6a8e7e3d div.sk-label-container {position: relative;z-index: 2;text-align: center;}#sk-5fd63a91-b521-474d-bc6f-a7fd6a8e7e3d div.sk-container {/* jupyter's `normalize.less` sets `[hidden] { display: none; }` but bootstrap.min.css set `[hidden] { display: none !important; }` so we also need the `!important` here to be able to override the default hidden behavior on the sphinx rendered scikit-learn.org. See: https://github.com/scikit-learn/scikit-learn/issues/21755 */display: inline-block !important;position: relative;}#sk-5fd63a91-b521-474d-bc6f-a7fd6a8e7e3d div.sk-text-repr-fallback {display: none;}</style><div id=\"sk-5fd63a91-b521-474d-bc6f-a7fd6a8e7e3d\" class=\"sk-top-container\"><div class=\"sk-text-repr-fallback\"><pre>Pipeline(steps=[(&#x27;standard_scaler&#x27;, StandardScaler()),\n",
       "                (&#x27;classifier&#x27;, LogisticRegression())])</pre><b>Please rerun this cell to show the HTML repr or trust the notebook.</b></div><div class=\"sk-container\" hidden><div class=\"sk-item sk-dashed-wrapped\"><div class=\"sk-label-container\"><div class=\"sk-label sk-toggleable\"><input class=\"sk-toggleable__control sk-hidden--visually\" id=\"85f55a08-c7be-445b-9983-6799f89fdde8\" type=\"checkbox\" ><label for=\"85f55a08-c7be-445b-9983-6799f89fdde8\" class=\"sk-toggleable__label sk-toggleable__label-arrow\">Pipeline</label><div class=\"sk-toggleable__content\"><pre>Pipeline(steps=[(&#x27;standard_scaler&#x27;, StandardScaler()),\n",
       "                (&#x27;classifier&#x27;, LogisticRegression())])</pre></div></div></div><div class=\"sk-serial\"><div class=\"sk-item\"><div class=\"sk-estimator sk-toggleable\"><input class=\"sk-toggleable__control sk-hidden--visually\" id=\"2be5b7a6-cf5d-4c0a-8067-05b963158d3e\" type=\"checkbox\" ><label for=\"2be5b7a6-cf5d-4c0a-8067-05b963158d3e\" class=\"sk-toggleable__label sk-toggleable__label-arrow\">StandardScaler</label><div class=\"sk-toggleable__content\"><pre>StandardScaler()</pre></div></div></div><div class=\"sk-item\"><div class=\"sk-estimator sk-toggleable\"><input class=\"sk-toggleable__control sk-hidden--visually\" id=\"35f51115-ab13-4e20-acbc-f17daff52bbb\" type=\"checkbox\" ><label for=\"35f51115-ab13-4e20-acbc-f17daff52bbb\" class=\"sk-toggleable__label sk-toggleable__label-arrow\">LogisticRegression</label><div class=\"sk-toggleable__content\"><pre>LogisticRegression()</pre></div></div></div></div></div></div></div>"
      ],
      "text/plain": [
       "Pipeline(steps=[('standard_scaler', StandardScaler()),\n",
       "                ('classifier', LogisticRegression())])"
      ]
     },
     "execution_count": 4,
     "metadata": {},
     "output_type": "execute_result"
    }
   ],
   "source": [
    "##visualize Pipeline\n",
    "from sklearn import set_config\n",
    "set_config(display=\"diagram\")\n",
    "pipe"
   ]
  },
  {
   "cell_type": "code",
   "execution_count": 5,
   "metadata": {},
   "outputs": [],
   "source": [
    "##creating a dataset\n",
    "from sklearn.datasets import make_classification\n",
    "X,y=make_classification(n_samples=1000)"
   ]
  },
  {
   "cell_type": "code",
   "execution_count": 6,
   "metadata": {},
   "outputs": [
    {
     "data": {
      "text/plain": [
       "(1000, 20)"
      ]
     },
     "execution_count": 6,
     "metadata": {},
     "output_type": "execute_result"
    }
   ],
   "source": [
    "X.shape"
   ]
  },
  {
   "cell_type": "code",
   "execution_count": 7,
   "metadata": {},
   "outputs": [],
   "source": [
    "from sklearn.model_selection import train_test_split\n",
    "X_train, X_test, y_train, y_test = train_test_split(\n",
    "    X, y, test_size=0.33, random_state=42)"
   ]
  },
  {
   "cell_type": "code",
   "execution_count": 8,
   "metadata": {},
   "outputs": [
    {
     "data": {
      "text/plain": [
       "array([[-9.80720723e-01,  1.57995807e+00,  1.24340327e+00, ...,\n",
       "        -1.00100123e-03, -4.97991834e-02, -4.72010216e-01],\n",
       "       [ 3.86271946e-01,  2.35180642e-01, -9.30188404e-01, ...,\n",
       "         4.78734244e-03,  6.69973415e-01, -2.21142501e+00],\n",
       "       [ 7.28595853e-01, -1.07179612e+00, -4.29805329e-01, ...,\n",
       "        -2.85331981e-01,  3.96573809e-01,  1.02288724e+00],\n",
       "       ...,\n",
       "       [ 1.37677900e+00,  1.64477348e-01,  3.50340469e-01, ...,\n",
       "        -3.86599624e-02,  9.75744331e-01, -2.54668859e+00],\n",
       "       [ 1.39833464e+00,  4.25317125e-01, -9.55714236e-01, ...,\n",
       "         3.85724613e-01, -1.80656980e-02, -6.35186999e-01],\n",
       "       [ 1.53453136e+00, -2.68033487e-01,  1.43479700e+00, ...,\n",
       "        -4.31689715e-01, -1.42973816e-01,  3.40855959e-01]])"
      ]
     },
     "execution_count": 8,
     "metadata": {},
     "output_type": "execute_result"
    }
   ],
   "source": [
    "X_train"
   ]
  },
  {
   "cell_type": "code",
   "execution_count": 9,
   "metadata": {
    "scrolled": true
   },
   "outputs": [
    {
     "data": {
      "text/html": [
       "<style>#sk-99c17a51-f14c-4cc8-81af-f4597d8c4de7 {color: black;background-color: white;}#sk-99c17a51-f14c-4cc8-81af-f4597d8c4de7 pre{padding: 0;}#sk-99c17a51-f14c-4cc8-81af-f4597d8c4de7 div.sk-toggleable {background-color: white;}#sk-99c17a51-f14c-4cc8-81af-f4597d8c4de7 label.sk-toggleable__label {cursor: pointer;display: block;width: 100%;margin-bottom: 0;padding: 0.3em;box-sizing: border-box;text-align: center;}#sk-99c17a51-f14c-4cc8-81af-f4597d8c4de7 label.sk-toggleable__label-arrow:before {content: \"▸\";float: left;margin-right: 0.25em;color: #696969;}#sk-99c17a51-f14c-4cc8-81af-f4597d8c4de7 label.sk-toggleable__label-arrow:hover:before {color: black;}#sk-99c17a51-f14c-4cc8-81af-f4597d8c4de7 div.sk-estimator:hover label.sk-toggleable__label-arrow:before {color: black;}#sk-99c17a51-f14c-4cc8-81af-f4597d8c4de7 div.sk-toggleable__content {max-height: 0;max-width: 0;overflow: hidden;text-align: left;background-color: #f0f8ff;}#sk-99c17a51-f14c-4cc8-81af-f4597d8c4de7 div.sk-toggleable__content pre {margin: 0.2em;color: black;border-radius: 0.25em;background-color: #f0f8ff;}#sk-99c17a51-f14c-4cc8-81af-f4597d8c4de7 input.sk-toggleable__control:checked~div.sk-toggleable__content {max-height: 200px;max-width: 100%;overflow: auto;}#sk-99c17a51-f14c-4cc8-81af-f4597d8c4de7 input.sk-toggleable__control:checked~label.sk-toggleable__label-arrow:before {content: \"▾\";}#sk-99c17a51-f14c-4cc8-81af-f4597d8c4de7 div.sk-estimator input.sk-toggleable__control:checked~label.sk-toggleable__label {background-color: #d4ebff;}#sk-99c17a51-f14c-4cc8-81af-f4597d8c4de7 div.sk-label input.sk-toggleable__control:checked~label.sk-toggleable__label {background-color: #d4ebff;}#sk-99c17a51-f14c-4cc8-81af-f4597d8c4de7 input.sk-hidden--visually {border: 0;clip: rect(1px 1px 1px 1px);clip: rect(1px, 1px, 1px, 1px);height: 1px;margin: -1px;overflow: hidden;padding: 0;position: absolute;width: 1px;}#sk-99c17a51-f14c-4cc8-81af-f4597d8c4de7 div.sk-estimator {font-family: monospace;background-color: #f0f8ff;border: 1px dotted black;border-radius: 0.25em;box-sizing: border-box;margin-bottom: 0.5em;}#sk-99c17a51-f14c-4cc8-81af-f4597d8c4de7 div.sk-estimator:hover {background-color: #d4ebff;}#sk-99c17a51-f14c-4cc8-81af-f4597d8c4de7 div.sk-parallel-item::after {content: \"\";width: 100%;border-bottom: 1px solid gray;flex-grow: 1;}#sk-99c17a51-f14c-4cc8-81af-f4597d8c4de7 div.sk-label:hover label.sk-toggleable__label {background-color: #d4ebff;}#sk-99c17a51-f14c-4cc8-81af-f4597d8c4de7 div.sk-serial::before {content: \"\";position: absolute;border-left: 1px solid gray;box-sizing: border-box;top: 2em;bottom: 0;left: 50%;}#sk-99c17a51-f14c-4cc8-81af-f4597d8c4de7 div.sk-serial {display: flex;flex-direction: column;align-items: center;background-color: white;padding-right: 0.2em;padding-left: 0.2em;}#sk-99c17a51-f14c-4cc8-81af-f4597d8c4de7 div.sk-item {z-index: 1;}#sk-99c17a51-f14c-4cc8-81af-f4597d8c4de7 div.sk-parallel {display: flex;align-items: stretch;justify-content: center;background-color: white;}#sk-99c17a51-f14c-4cc8-81af-f4597d8c4de7 div.sk-parallel::before {content: \"\";position: absolute;border-left: 1px solid gray;box-sizing: border-box;top: 2em;bottom: 0;left: 50%;}#sk-99c17a51-f14c-4cc8-81af-f4597d8c4de7 div.sk-parallel-item {display: flex;flex-direction: column;position: relative;background-color: white;}#sk-99c17a51-f14c-4cc8-81af-f4597d8c4de7 div.sk-parallel-item:first-child::after {align-self: flex-end;width: 50%;}#sk-99c17a51-f14c-4cc8-81af-f4597d8c4de7 div.sk-parallel-item:last-child::after {align-self: flex-start;width: 50%;}#sk-99c17a51-f14c-4cc8-81af-f4597d8c4de7 div.sk-parallel-item:only-child::after {width: 0;}#sk-99c17a51-f14c-4cc8-81af-f4597d8c4de7 div.sk-dashed-wrapped {border: 1px dashed gray;margin: 0 0.4em 0.5em 0.4em;box-sizing: border-box;padding-bottom: 0.4em;background-color: white;position: relative;}#sk-99c17a51-f14c-4cc8-81af-f4597d8c4de7 div.sk-label label {font-family: monospace;font-weight: bold;background-color: white;display: inline-block;line-height: 1.2em;}#sk-99c17a51-f14c-4cc8-81af-f4597d8c4de7 div.sk-label-container {position: relative;z-index: 2;text-align: center;}#sk-99c17a51-f14c-4cc8-81af-f4597d8c4de7 div.sk-container {/* jupyter's `normalize.less` sets `[hidden] { display: none; }` but bootstrap.min.css set `[hidden] { display: none !important; }` so we also need the `!important` here to be able to override the default hidden behavior on the sphinx rendered scikit-learn.org. See: https://github.com/scikit-learn/scikit-learn/issues/21755 */display: inline-block !important;position: relative;}#sk-99c17a51-f14c-4cc8-81af-f4597d8c4de7 div.sk-text-repr-fallback {display: none;}</style><div id=\"sk-99c17a51-f14c-4cc8-81af-f4597d8c4de7\" class=\"sk-top-container\"><div class=\"sk-text-repr-fallback\"><pre>Pipeline(steps=[(&#x27;standard_scaler&#x27;, StandardScaler()),\n",
       "                (&#x27;classifier&#x27;, LogisticRegression())])</pre><b>Please rerun this cell to show the HTML repr or trust the notebook.</b></div><div class=\"sk-container\" hidden><div class=\"sk-item sk-dashed-wrapped\"><div class=\"sk-label-container\"><div class=\"sk-label sk-toggleable\"><input class=\"sk-toggleable__control sk-hidden--visually\" id=\"ded208c8-5ed5-4749-b9ce-6a50d4d011b8\" type=\"checkbox\" ><label for=\"ded208c8-5ed5-4749-b9ce-6a50d4d011b8\" class=\"sk-toggleable__label sk-toggleable__label-arrow\">Pipeline</label><div class=\"sk-toggleable__content\"><pre>Pipeline(steps=[(&#x27;standard_scaler&#x27;, StandardScaler()),\n",
       "                (&#x27;classifier&#x27;, LogisticRegression())])</pre></div></div></div><div class=\"sk-serial\"><div class=\"sk-item\"><div class=\"sk-estimator sk-toggleable\"><input class=\"sk-toggleable__control sk-hidden--visually\" id=\"2a2743e2-6243-40dc-96ee-af2fbad511b7\" type=\"checkbox\" ><label for=\"2a2743e2-6243-40dc-96ee-af2fbad511b7\" class=\"sk-toggleable__label sk-toggleable__label-arrow\">StandardScaler</label><div class=\"sk-toggleable__content\"><pre>StandardScaler()</pre></div></div></div><div class=\"sk-item\"><div class=\"sk-estimator sk-toggleable\"><input class=\"sk-toggleable__control sk-hidden--visually\" id=\"4147cfa4-2040-47ff-94ca-fa5cf4fff209\" type=\"checkbox\" ><label for=\"4147cfa4-2040-47ff-94ca-fa5cf4fff209\" class=\"sk-toggleable__label sk-toggleable__label-arrow\">LogisticRegression</label><div class=\"sk-toggleable__content\"><pre>LogisticRegression()</pre></div></div></div></div></div></div></div>"
      ],
      "text/plain": [
       "Pipeline(steps=[('standard_scaler', StandardScaler()),\n",
       "                ('classifier', LogisticRegression())])"
      ]
     },
     "execution_count": 9,
     "metadata": {},
     "output_type": "execute_result"
    }
   ],
   "source": [
    "pipe.fit(X_train,y_train)"
   ]
  },
  {
   "cell_type": "code",
   "execution_count": 10,
   "metadata": {},
   "outputs": [],
   "source": [
    "y_pred=pipe.predict(X_test)"
   ]
  },
  {
   "cell_type": "code",
   "execution_count": 11,
   "metadata": {},
   "outputs": [
    {
     "data": {
      "text/plain": [
       "array([0, 1, 0, 1, 0, 0, 1, 0, 1, 0, 1, 1, 0, 1, 0, 0, 0, 1, 0, 1, 1, 0,\n",
       "       0, 0, 1, 1, 0, 0, 0, 0, 1, 1, 1, 0, 1, 0, 0, 1, 0, 0, 0, 0, 1, 1,\n",
       "       0, 1, 0, 0, 0, 0, 0, 0, 1, 0, 1, 1, 1, 1, 0, 1, 1, 0, 1, 0, 1, 0,\n",
       "       1, 1, 0, 0, 1, 1, 1, 1, 1, 0, 1, 1, 0, 1, 0, 0, 0, 1, 0, 1, 0, 1,\n",
       "       1, 0, 1, 0, 0, 0, 1, 1, 1, 0, 0, 0, 0, 1, 0, 1, 1, 0, 1, 0, 0, 1,\n",
       "       1, 0, 1, 1, 1, 0, 1, 0, 1, 1, 1, 0, 1, 0, 0, 0, 0, 0, 1, 1, 1, 1,\n",
       "       1, 1, 0, 1, 1, 1, 0, 1, 1, 0, 1, 0, 0, 0, 1, 1, 0, 1, 1, 0, 1, 1,\n",
       "       0, 0, 1, 0, 1, 0, 1, 0, 0, 1, 1, 0, 0, 1, 1, 1, 1, 0, 0, 1, 1, 1,\n",
       "       1, 1, 0, 1, 1, 0, 1, 1, 1, 1, 0, 0, 0, 0, 0, 1, 1, 1, 0, 0, 1, 0,\n",
       "       0, 1, 0, 1, 0, 0, 0, 1, 0, 0, 0, 0, 0, 0, 1, 0, 0, 1, 0, 1, 1, 0,\n",
       "       0, 0, 0, 1, 0, 0, 1, 0, 0, 0, 0, 0, 1, 0, 1, 1, 0, 0, 0, 1, 0, 1,\n",
       "       0, 0, 1, 1, 0, 1, 0, 1, 0, 0, 1, 1, 0, 0, 1, 1, 0, 1, 0, 1, 0, 1,\n",
       "       1, 0, 0, 0, 1, 0, 1, 1, 1, 0, 1, 1, 0, 0, 1, 1, 0, 0, 0, 0, 1, 0,\n",
       "       1, 0, 1, 1, 0, 0, 1, 1, 0, 0, 0, 0, 0, 0, 0, 1, 1, 1, 1, 0, 1, 1,\n",
       "       1, 1, 1, 0, 0, 0, 0, 0, 0, 1, 1, 1, 0, 1, 1, 0, 0, 0, 1, 1, 0, 0])"
      ]
     },
     "execution_count": 11,
     "metadata": {},
     "output_type": "execute_result"
    }
   ],
   "source": [
    "y_pred"
   ]
  },
  {
   "cell_type": "markdown",
   "metadata": {},
   "source": [
    "## Example 2\n",
    "Displaying a pipeline with standard scaler, dimesnionality reduction and then estimator"
   ]
  },
  {
   "cell_type": "code",
   "execution_count": 12,
   "metadata": {},
   "outputs": [],
   "source": [
    "from sklearn.decomposition import PCA\n",
    "from sklearn.svm import SVC"
   ]
  },
  {
   "cell_type": "code",
   "execution_count": 13,
   "metadata": {},
   "outputs": [],
   "source": [
    "steps=[(\"scaling\",StandardScaler()),\n",
    "      (\"PCA\",PCA(n_components=3)),\n",
    "      (\"SVC\",SVC())]"
   ]
  },
  {
   "cell_type": "code",
   "execution_count": 14,
   "metadata": {},
   "outputs": [],
   "source": [
    "pipe2=Pipeline(steps)"
   ]
  },
  {
   "cell_type": "code",
   "execution_count": 15,
   "metadata": {},
   "outputs": [
    {
     "data": {
      "text/html": [
       "<style>#sk-2d90addf-415e-4b27-a782-65fe2b39842b {color: black;background-color: white;}#sk-2d90addf-415e-4b27-a782-65fe2b39842b pre{padding: 0;}#sk-2d90addf-415e-4b27-a782-65fe2b39842b div.sk-toggleable {background-color: white;}#sk-2d90addf-415e-4b27-a782-65fe2b39842b label.sk-toggleable__label {cursor: pointer;display: block;width: 100%;margin-bottom: 0;padding: 0.3em;box-sizing: border-box;text-align: center;}#sk-2d90addf-415e-4b27-a782-65fe2b39842b label.sk-toggleable__label-arrow:before {content: \"▸\";float: left;margin-right: 0.25em;color: #696969;}#sk-2d90addf-415e-4b27-a782-65fe2b39842b label.sk-toggleable__label-arrow:hover:before {color: black;}#sk-2d90addf-415e-4b27-a782-65fe2b39842b div.sk-estimator:hover label.sk-toggleable__label-arrow:before {color: black;}#sk-2d90addf-415e-4b27-a782-65fe2b39842b div.sk-toggleable__content {max-height: 0;max-width: 0;overflow: hidden;text-align: left;background-color: #f0f8ff;}#sk-2d90addf-415e-4b27-a782-65fe2b39842b div.sk-toggleable__content pre {margin: 0.2em;color: black;border-radius: 0.25em;background-color: #f0f8ff;}#sk-2d90addf-415e-4b27-a782-65fe2b39842b input.sk-toggleable__control:checked~div.sk-toggleable__content {max-height: 200px;max-width: 100%;overflow: auto;}#sk-2d90addf-415e-4b27-a782-65fe2b39842b input.sk-toggleable__control:checked~label.sk-toggleable__label-arrow:before {content: \"▾\";}#sk-2d90addf-415e-4b27-a782-65fe2b39842b div.sk-estimator input.sk-toggleable__control:checked~label.sk-toggleable__label {background-color: #d4ebff;}#sk-2d90addf-415e-4b27-a782-65fe2b39842b div.sk-label input.sk-toggleable__control:checked~label.sk-toggleable__label {background-color: #d4ebff;}#sk-2d90addf-415e-4b27-a782-65fe2b39842b input.sk-hidden--visually {border: 0;clip: rect(1px 1px 1px 1px);clip: rect(1px, 1px, 1px, 1px);height: 1px;margin: -1px;overflow: hidden;padding: 0;position: absolute;width: 1px;}#sk-2d90addf-415e-4b27-a782-65fe2b39842b div.sk-estimator {font-family: monospace;background-color: #f0f8ff;border: 1px dotted black;border-radius: 0.25em;box-sizing: border-box;margin-bottom: 0.5em;}#sk-2d90addf-415e-4b27-a782-65fe2b39842b div.sk-estimator:hover {background-color: #d4ebff;}#sk-2d90addf-415e-4b27-a782-65fe2b39842b div.sk-parallel-item::after {content: \"\";width: 100%;border-bottom: 1px solid gray;flex-grow: 1;}#sk-2d90addf-415e-4b27-a782-65fe2b39842b div.sk-label:hover label.sk-toggleable__label {background-color: #d4ebff;}#sk-2d90addf-415e-4b27-a782-65fe2b39842b div.sk-serial::before {content: \"\";position: absolute;border-left: 1px solid gray;box-sizing: border-box;top: 2em;bottom: 0;left: 50%;}#sk-2d90addf-415e-4b27-a782-65fe2b39842b div.sk-serial {display: flex;flex-direction: column;align-items: center;background-color: white;padding-right: 0.2em;padding-left: 0.2em;}#sk-2d90addf-415e-4b27-a782-65fe2b39842b div.sk-item {z-index: 1;}#sk-2d90addf-415e-4b27-a782-65fe2b39842b div.sk-parallel {display: flex;align-items: stretch;justify-content: center;background-color: white;}#sk-2d90addf-415e-4b27-a782-65fe2b39842b div.sk-parallel::before {content: \"\";position: absolute;border-left: 1px solid gray;box-sizing: border-box;top: 2em;bottom: 0;left: 50%;}#sk-2d90addf-415e-4b27-a782-65fe2b39842b div.sk-parallel-item {display: flex;flex-direction: column;position: relative;background-color: white;}#sk-2d90addf-415e-4b27-a782-65fe2b39842b div.sk-parallel-item:first-child::after {align-self: flex-end;width: 50%;}#sk-2d90addf-415e-4b27-a782-65fe2b39842b div.sk-parallel-item:last-child::after {align-self: flex-start;width: 50%;}#sk-2d90addf-415e-4b27-a782-65fe2b39842b div.sk-parallel-item:only-child::after {width: 0;}#sk-2d90addf-415e-4b27-a782-65fe2b39842b div.sk-dashed-wrapped {border: 1px dashed gray;margin: 0 0.4em 0.5em 0.4em;box-sizing: border-box;padding-bottom: 0.4em;background-color: white;position: relative;}#sk-2d90addf-415e-4b27-a782-65fe2b39842b div.sk-label label {font-family: monospace;font-weight: bold;background-color: white;display: inline-block;line-height: 1.2em;}#sk-2d90addf-415e-4b27-a782-65fe2b39842b div.sk-label-container {position: relative;z-index: 2;text-align: center;}#sk-2d90addf-415e-4b27-a782-65fe2b39842b div.sk-container {/* jupyter's `normalize.less` sets `[hidden] { display: none; }` but bootstrap.min.css set `[hidden] { display: none !important; }` so we also need the `!important` here to be able to override the default hidden behavior on the sphinx rendered scikit-learn.org. See: https://github.com/scikit-learn/scikit-learn/issues/21755 */display: inline-block !important;position: relative;}#sk-2d90addf-415e-4b27-a782-65fe2b39842b div.sk-text-repr-fallback {display: none;}</style><div id=\"sk-2d90addf-415e-4b27-a782-65fe2b39842b\" class=\"sk-top-container\"><div class=\"sk-text-repr-fallback\"><pre>Pipeline(steps=[(&#x27;scaling&#x27;, StandardScaler()), (&#x27;PCA&#x27;, PCA(n_components=3)),\n",
       "                (&#x27;SVC&#x27;, SVC())])</pre><b>Please rerun this cell to show the HTML repr or trust the notebook.</b></div><div class=\"sk-container\" hidden><div class=\"sk-item sk-dashed-wrapped\"><div class=\"sk-label-container\"><div class=\"sk-label sk-toggleable\"><input class=\"sk-toggleable__control sk-hidden--visually\" id=\"1fcdd14d-8817-4715-8ed5-2f48b6cedc12\" type=\"checkbox\" ><label for=\"1fcdd14d-8817-4715-8ed5-2f48b6cedc12\" class=\"sk-toggleable__label sk-toggleable__label-arrow\">Pipeline</label><div class=\"sk-toggleable__content\"><pre>Pipeline(steps=[(&#x27;scaling&#x27;, StandardScaler()), (&#x27;PCA&#x27;, PCA(n_components=3)),\n",
       "                (&#x27;SVC&#x27;, SVC())])</pre></div></div></div><div class=\"sk-serial\"><div class=\"sk-item\"><div class=\"sk-estimator sk-toggleable\"><input class=\"sk-toggleable__control sk-hidden--visually\" id=\"0a19c3c8-cbce-4646-a350-7530069c7ede\" type=\"checkbox\" ><label for=\"0a19c3c8-cbce-4646-a350-7530069c7ede\" class=\"sk-toggleable__label sk-toggleable__label-arrow\">StandardScaler</label><div class=\"sk-toggleable__content\"><pre>StandardScaler()</pre></div></div></div><div class=\"sk-item\"><div class=\"sk-estimator sk-toggleable\"><input class=\"sk-toggleable__control sk-hidden--visually\" id=\"18d7614f-387b-45de-aa7a-b7eab5a97f25\" type=\"checkbox\" ><label for=\"18d7614f-387b-45de-aa7a-b7eab5a97f25\" class=\"sk-toggleable__label sk-toggleable__label-arrow\">PCA</label><div class=\"sk-toggleable__content\"><pre>PCA(n_components=3)</pre></div></div></div><div class=\"sk-item\"><div class=\"sk-estimator sk-toggleable\"><input class=\"sk-toggleable__control sk-hidden--visually\" id=\"43888981-b3e1-464f-bd3a-710232a89c31\" type=\"checkbox\" ><label for=\"43888981-b3e1-464f-bd3a-710232a89c31\" class=\"sk-toggleable__label sk-toggleable__label-arrow\">SVC</label><div class=\"sk-toggleable__content\"><pre>SVC()</pre></div></div></div></div></div></div></div>"
      ],
      "text/plain": [
       "Pipeline(steps=[('scaling', StandardScaler()), ('PCA', PCA(n_components=3)),\n",
       "                ('SVC', SVC())])"
      ]
     },
     "execution_count": 15,
     "metadata": {},
     "output_type": "execute_result"
    }
   ],
   "source": [
    "pipe2.fit(X_train,y_train)"
   ]
  },
  {
   "cell_type": "code",
   "execution_count": 16,
   "metadata": {},
   "outputs": [
    {
     "data": {
      "text/plain": [
       "array([0, 1, 0, 0, 0, 0, 1, 0, 1, 0, 1, 1, 0, 1, 0, 1, 0, 1, 0, 1, 1, 0,\n",
       "       0, 0, 1, 1, 0, 0, 0, 0, 1, 1, 1, 0, 1, 0, 0, 1, 0, 0, 0, 0, 1, 1,\n",
       "       0, 1, 0, 0, 0, 0, 0, 1, 1, 0, 1, 1, 1, 1, 0, 1, 1, 0, 1, 0, 1, 0,\n",
       "       1, 1, 0, 0, 1, 1, 1, 1, 1, 0, 1, 1, 0, 1, 0, 0, 0, 1, 0, 1, 0, 1,\n",
       "       1, 0, 1, 0, 1, 0, 1, 1, 0, 0, 0, 0, 0, 1, 0, 1, 1, 0, 1, 0, 0, 1,\n",
       "       1, 0, 1, 1, 1, 0, 1, 0, 1, 1, 1, 0, 1, 0, 0, 0, 0, 0, 1, 1, 1, 1,\n",
       "       1, 1, 0, 1, 1, 1, 0, 1, 1, 0, 1, 0, 0, 0, 1, 1, 0, 1, 1, 0, 0, 1,\n",
       "       0, 0, 1, 0, 1, 0, 1, 0, 0, 1, 1, 0, 0, 1, 1, 1, 0, 0, 0, 1, 1, 1,\n",
       "       1, 1, 0, 1, 1, 0, 1, 1, 1, 1, 0, 0, 0, 0, 0, 1, 1, 1, 0, 0, 1, 0,\n",
       "       0, 0, 0, 0, 0, 0, 0, 1, 0, 0, 0, 0, 0, 0, 1, 0, 0, 1, 0, 1, 1, 1,\n",
       "       0, 0, 0, 1, 0, 0, 1, 0, 0, 0, 0, 0, 1, 0, 1, 1, 0, 0, 0, 1, 1, 0,\n",
       "       0, 0, 1, 1, 0, 0, 0, 1, 0, 0, 0, 1, 0, 0, 1, 1, 0, 1, 0, 1, 0, 1,\n",
       "       1, 0, 0, 0, 1, 0, 1, 1, 1, 0, 1, 1, 0, 0, 1, 1, 0, 0, 0, 0, 1, 0,\n",
       "       1, 0, 1, 1, 0, 0, 1, 1, 0, 0, 0, 0, 0, 0, 0, 1, 1, 1, 1, 0, 1, 1,\n",
       "       1, 1, 1, 0, 0, 0, 0, 0, 1, 1, 1, 1, 0, 1, 1, 0, 0, 0, 1, 1, 0, 0])"
      ]
     },
     "execution_count": 16,
     "metadata": {},
     "output_type": "execute_result"
    }
   ],
   "source": [
    "pipe2.predict(X_test)"
   ]
  },
  {
   "cell_type": "markdown",
   "metadata": {},
   "source": [
    "## Complex examples of columns transformer"
   ]
  },
  {
   "cell_type": "code",
   "execution_count": 17,
   "metadata": {},
   "outputs": [],
   "source": [
    "from sklearn.impute import SimpleImputer"
   ]
  },
  {
   "cell_type": "code",
   "execution_count": 18,
   "metadata": {},
   "outputs": [],
   "source": [
    "## numerical processing pipeline\n",
    "import numpy as np\n",
    "numeric_processor=Pipeline(\n",
    "    steps=[(\"imputation_mean\",SimpleImputer(missing_values=np.nan,strategy=\"mean\")),\n",
    "          (\"scaler\",StandardScaler())]\n",
    "\n",
    ")"
   ]
  },
  {
   "cell_type": "code",
   "execution_count": 19,
   "metadata": {},
   "outputs": [
    {
     "data": {
      "text/html": [
       "<style>#sk-cbd9b2f5-c09f-4351-859d-24772bf0a872 {color: black;background-color: white;}#sk-cbd9b2f5-c09f-4351-859d-24772bf0a872 pre{padding: 0;}#sk-cbd9b2f5-c09f-4351-859d-24772bf0a872 div.sk-toggleable {background-color: white;}#sk-cbd9b2f5-c09f-4351-859d-24772bf0a872 label.sk-toggleable__label {cursor: pointer;display: block;width: 100%;margin-bottom: 0;padding: 0.3em;box-sizing: border-box;text-align: center;}#sk-cbd9b2f5-c09f-4351-859d-24772bf0a872 label.sk-toggleable__label-arrow:before {content: \"▸\";float: left;margin-right: 0.25em;color: #696969;}#sk-cbd9b2f5-c09f-4351-859d-24772bf0a872 label.sk-toggleable__label-arrow:hover:before {color: black;}#sk-cbd9b2f5-c09f-4351-859d-24772bf0a872 div.sk-estimator:hover label.sk-toggleable__label-arrow:before {color: black;}#sk-cbd9b2f5-c09f-4351-859d-24772bf0a872 div.sk-toggleable__content {max-height: 0;max-width: 0;overflow: hidden;text-align: left;background-color: #f0f8ff;}#sk-cbd9b2f5-c09f-4351-859d-24772bf0a872 div.sk-toggleable__content pre {margin: 0.2em;color: black;border-radius: 0.25em;background-color: #f0f8ff;}#sk-cbd9b2f5-c09f-4351-859d-24772bf0a872 input.sk-toggleable__control:checked~div.sk-toggleable__content {max-height: 200px;max-width: 100%;overflow: auto;}#sk-cbd9b2f5-c09f-4351-859d-24772bf0a872 input.sk-toggleable__control:checked~label.sk-toggleable__label-arrow:before {content: \"▾\";}#sk-cbd9b2f5-c09f-4351-859d-24772bf0a872 div.sk-estimator input.sk-toggleable__control:checked~label.sk-toggleable__label {background-color: #d4ebff;}#sk-cbd9b2f5-c09f-4351-859d-24772bf0a872 div.sk-label input.sk-toggleable__control:checked~label.sk-toggleable__label {background-color: #d4ebff;}#sk-cbd9b2f5-c09f-4351-859d-24772bf0a872 input.sk-hidden--visually {border: 0;clip: rect(1px 1px 1px 1px);clip: rect(1px, 1px, 1px, 1px);height: 1px;margin: -1px;overflow: hidden;padding: 0;position: absolute;width: 1px;}#sk-cbd9b2f5-c09f-4351-859d-24772bf0a872 div.sk-estimator {font-family: monospace;background-color: #f0f8ff;border: 1px dotted black;border-radius: 0.25em;box-sizing: border-box;margin-bottom: 0.5em;}#sk-cbd9b2f5-c09f-4351-859d-24772bf0a872 div.sk-estimator:hover {background-color: #d4ebff;}#sk-cbd9b2f5-c09f-4351-859d-24772bf0a872 div.sk-parallel-item::after {content: \"\";width: 100%;border-bottom: 1px solid gray;flex-grow: 1;}#sk-cbd9b2f5-c09f-4351-859d-24772bf0a872 div.sk-label:hover label.sk-toggleable__label {background-color: #d4ebff;}#sk-cbd9b2f5-c09f-4351-859d-24772bf0a872 div.sk-serial::before {content: \"\";position: absolute;border-left: 1px solid gray;box-sizing: border-box;top: 2em;bottom: 0;left: 50%;}#sk-cbd9b2f5-c09f-4351-859d-24772bf0a872 div.sk-serial {display: flex;flex-direction: column;align-items: center;background-color: white;padding-right: 0.2em;padding-left: 0.2em;}#sk-cbd9b2f5-c09f-4351-859d-24772bf0a872 div.sk-item {z-index: 1;}#sk-cbd9b2f5-c09f-4351-859d-24772bf0a872 div.sk-parallel {display: flex;align-items: stretch;justify-content: center;background-color: white;}#sk-cbd9b2f5-c09f-4351-859d-24772bf0a872 div.sk-parallel::before {content: \"\";position: absolute;border-left: 1px solid gray;box-sizing: border-box;top: 2em;bottom: 0;left: 50%;}#sk-cbd9b2f5-c09f-4351-859d-24772bf0a872 div.sk-parallel-item {display: flex;flex-direction: column;position: relative;background-color: white;}#sk-cbd9b2f5-c09f-4351-859d-24772bf0a872 div.sk-parallel-item:first-child::after {align-self: flex-end;width: 50%;}#sk-cbd9b2f5-c09f-4351-859d-24772bf0a872 div.sk-parallel-item:last-child::after {align-self: flex-start;width: 50%;}#sk-cbd9b2f5-c09f-4351-859d-24772bf0a872 div.sk-parallel-item:only-child::after {width: 0;}#sk-cbd9b2f5-c09f-4351-859d-24772bf0a872 div.sk-dashed-wrapped {border: 1px dashed gray;margin: 0 0.4em 0.5em 0.4em;box-sizing: border-box;padding-bottom: 0.4em;background-color: white;position: relative;}#sk-cbd9b2f5-c09f-4351-859d-24772bf0a872 div.sk-label label {font-family: monospace;font-weight: bold;background-color: white;display: inline-block;line-height: 1.2em;}#sk-cbd9b2f5-c09f-4351-859d-24772bf0a872 div.sk-label-container {position: relative;z-index: 2;text-align: center;}#sk-cbd9b2f5-c09f-4351-859d-24772bf0a872 div.sk-container {/* jupyter's `normalize.less` sets `[hidden] { display: none; }` but bootstrap.min.css set `[hidden] { display: none !important; }` so we also need the `!important` here to be able to override the default hidden behavior on the sphinx rendered scikit-learn.org. See: https://github.com/scikit-learn/scikit-learn/issues/21755 */display: inline-block !important;position: relative;}#sk-cbd9b2f5-c09f-4351-859d-24772bf0a872 div.sk-text-repr-fallback {display: none;}</style><div id=\"sk-cbd9b2f5-c09f-4351-859d-24772bf0a872\" class=\"sk-top-container\"><div class=\"sk-text-repr-fallback\"><pre>Pipeline(steps=[(&#x27;imputation_mean&#x27;, SimpleImputer()),\n",
       "                (&#x27;scaler&#x27;, StandardScaler())])</pre><b>Please rerun this cell to show the HTML repr or trust the notebook.</b></div><div class=\"sk-container\" hidden><div class=\"sk-item sk-dashed-wrapped\"><div class=\"sk-label-container\"><div class=\"sk-label sk-toggleable\"><input class=\"sk-toggleable__control sk-hidden--visually\" id=\"7a10d600-d5a5-40b3-a4c8-cfdf56ca514b\" type=\"checkbox\" ><label for=\"7a10d600-d5a5-40b3-a4c8-cfdf56ca514b\" class=\"sk-toggleable__label sk-toggleable__label-arrow\">Pipeline</label><div class=\"sk-toggleable__content\"><pre>Pipeline(steps=[(&#x27;imputation_mean&#x27;, SimpleImputer()),\n",
       "                (&#x27;scaler&#x27;, StandardScaler())])</pre></div></div></div><div class=\"sk-serial\"><div class=\"sk-item\"><div class=\"sk-estimator sk-toggleable\"><input class=\"sk-toggleable__control sk-hidden--visually\" id=\"aaea9632-7f9c-4bb9-a6e4-3586c289017e\" type=\"checkbox\" ><label for=\"aaea9632-7f9c-4bb9-a6e4-3586c289017e\" class=\"sk-toggleable__label sk-toggleable__label-arrow\">SimpleImputer</label><div class=\"sk-toggleable__content\"><pre>SimpleImputer()</pre></div></div></div><div class=\"sk-item\"><div class=\"sk-estimator sk-toggleable\"><input class=\"sk-toggleable__control sk-hidden--visually\" id=\"03fe1d7d-9a5d-4b81-9dd2-558fe3fd265b\" type=\"checkbox\" ><label for=\"03fe1d7d-9a5d-4b81-9dd2-558fe3fd265b\" class=\"sk-toggleable__label sk-toggleable__label-arrow\">StandardScaler</label><div class=\"sk-toggleable__content\"><pre>StandardScaler()</pre></div></div></div></div></div></div></div>"
      ],
      "text/plain": [
       "Pipeline(steps=[('imputation_mean', SimpleImputer()),\n",
       "                ('scaler', StandardScaler())])"
      ]
     },
     "execution_count": 19,
     "metadata": {},
     "output_type": "execute_result"
    }
   ],
   "source": [
    "numeric_processor"
   ]
  },
  {
   "cell_type": "code",
   "execution_count": 20,
   "metadata": {},
   "outputs": [],
   "source": [
    "##categorical procesing pipeline"
   ]
  },
  {
   "cell_type": "code",
   "execution_count": 21,
   "metadata": {},
   "outputs": [],
   "source": [
    "from sklearn.preprocessing import OneHotEncoder\n",
    "categorical_processor=Pipeline(\n",
    "    steps=[(\"imputation_consatnt\",SimpleImputer(fill_value=\"missing\",strategy=\"constant\")),\n",
    "          (\"onehot\",OneHotEncoder(handle_unknown=\"ignore\"))]\n",
    ")"
   ]
  },
  {
   "cell_type": "code",
   "execution_count": 22,
   "metadata": {},
   "outputs": [
    {
     "data": {
      "text/html": [
       "<style>#sk-8803083f-a6b7-43c0-8d99-3364bcce5156 {color: black;background-color: white;}#sk-8803083f-a6b7-43c0-8d99-3364bcce5156 pre{padding: 0;}#sk-8803083f-a6b7-43c0-8d99-3364bcce5156 div.sk-toggleable {background-color: white;}#sk-8803083f-a6b7-43c0-8d99-3364bcce5156 label.sk-toggleable__label {cursor: pointer;display: block;width: 100%;margin-bottom: 0;padding: 0.3em;box-sizing: border-box;text-align: center;}#sk-8803083f-a6b7-43c0-8d99-3364bcce5156 label.sk-toggleable__label-arrow:before {content: \"▸\";float: left;margin-right: 0.25em;color: #696969;}#sk-8803083f-a6b7-43c0-8d99-3364bcce5156 label.sk-toggleable__label-arrow:hover:before {color: black;}#sk-8803083f-a6b7-43c0-8d99-3364bcce5156 div.sk-estimator:hover label.sk-toggleable__label-arrow:before {color: black;}#sk-8803083f-a6b7-43c0-8d99-3364bcce5156 div.sk-toggleable__content {max-height: 0;max-width: 0;overflow: hidden;text-align: left;background-color: #f0f8ff;}#sk-8803083f-a6b7-43c0-8d99-3364bcce5156 div.sk-toggleable__content pre {margin: 0.2em;color: black;border-radius: 0.25em;background-color: #f0f8ff;}#sk-8803083f-a6b7-43c0-8d99-3364bcce5156 input.sk-toggleable__control:checked~div.sk-toggleable__content {max-height: 200px;max-width: 100%;overflow: auto;}#sk-8803083f-a6b7-43c0-8d99-3364bcce5156 input.sk-toggleable__control:checked~label.sk-toggleable__label-arrow:before {content: \"▾\";}#sk-8803083f-a6b7-43c0-8d99-3364bcce5156 div.sk-estimator input.sk-toggleable__control:checked~label.sk-toggleable__label {background-color: #d4ebff;}#sk-8803083f-a6b7-43c0-8d99-3364bcce5156 div.sk-label input.sk-toggleable__control:checked~label.sk-toggleable__label {background-color: #d4ebff;}#sk-8803083f-a6b7-43c0-8d99-3364bcce5156 input.sk-hidden--visually {border: 0;clip: rect(1px 1px 1px 1px);clip: rect(1px, 1px, 1px, 1px);height: 1px;margin: -1px;overflow: hidden;padding: 0;position: absolute;width: 1px;}#sk-8803083f-a6b7-43c0-8d99-3364bcce5156 div.sk-estimator {font-family: monospace;background-color: #f0f8ff;border: 1px dotted black;border-radius: 0.25em;box-sizing: border-box;margin-bottom: 0.5em;}#sk-8803083f-a6b7-43c0-8d99-3364bcce5156 div.sk-estimator:hover {background-color: #d4ebff;}#sk-8803083f-a6b7-43c0-8d99-3364bcce5156 div.sk-parallel-item::after {content: \"\";width: 100%;border-bottom: 1px solid gray;flex-grow: 1;}#sk-8803083f-a6b7-43c0-8d99-3364bcce5156 div.sk-label:hover label.sk-toggleable__label {background-color: #d4ebff;}#sk-8803083f-a6b7-43c0-8d99-3364bcce5156 div.sk-serial::before {content: \"\";position: absolute;border-left: 1px solid gray;box-sizing: border-box;top: 2em;bottom: 0;left: 50%;}#sk-8803083f-a6b7-43c0-8d99-3364bcce5156 div.sk-serial {display: flex;flex-direction: column;align-items: center;background-color: white;padding-right: 0.2em;padding-left: 0.2em;}#sk-8803083f-a6b7-43c0-8d99-3364bcce5156 div.sk-item {z-index: 1;}#sk-8803083f-a6b7-43c0-8d99-3364bcce5156 div.sk-parallel {display: flex;align-items: stretch;justify-content: center;background-color: white;}#sk-8803083f-a6b7-43c0-8d99-3364bcce5156 div.sk-parallel::before {content: \"\";position: absolute;border-left: 1px solid gray;box-sizing: border-box;top: 2em;bottom: 0;left: 50%;}#sk-8803083f-a6b7-43c0-8d99-3364bcce5156 div.sk-parallel-item {display: flex;flex-direction: column;position: relative;background-color: white;}#sk-8803083f-a6b7-43c0-8d99-3364bcce5156 div.sk-parallel-item:first-child::after {align-self: flex-end;width: 50%;}#sk-8803083f-a6b7-43c0-8d99-3364bcce5156 div.sk-parallel-item:last-child::after {align-self: flex-start;width: 50%;}#sk-8803083f-a6b7-43c0-8d99-3364bcce5156 div.sk-parallel-item:only-child::after {width: 0;}#sk-8803083f-a6b7-43c0-8d99-3364bcce5156 div.sk-dashed-wrapped {border: 1px dashed gray;margin: 0 0.4em 0.5em 0.4em;box-sizing: border-box;padding-bottom: 0.4em;background-color: white;position: relative;}#sk-8803083f-a6b7-43c0-8d99-3364bcce5156 div.sk-label label {font-family: monospace;font-weight: bold;background-color: white;display: inline-block;line-height: 1.2em;}#sk-8803083f-a6b7-43c0-8d99-3364bcce5156 div.sk-label-container {position: relative;z-index: 2;text-align: center;}#sk-8803083f-a6b7-43c0-8d99-3364bcce5156 div.sk-container {/* jupyter's `normalize.less` sets `[hidden] { display: none; }` but bootstrap.min.css set `[hidden] { display: none !important; }` so we also need the `!important` here to be able to override the default hidden behavior on the sphinx rendered scikit-learn.org. See: https://github.com/scikit-learn/scikit-learn/issues/21755 */display: inline-block !important;position: relative;}#sk-8803083f-a6b7-43c0-8d99-3364bcce5156 div.sk-text-repr-fallback {display: none;}</style><div id=\"sk-8803083f-a6b7-43c0-8d99-3364bcce5156\" class=\"sk-top-container\"><div class=\"sk-text-repr-fallback\"><pre>Pipeline(steps=[(&#x27;imputation_consatnt&#x27;,\n",
       "                 SimpleImputer(fill_value=&#x27;missing&#x27;, strategy=&#x27;constant&#x27;)),\n",
       "                (&#x27;onehot&#x27;, OneHotEncoder(handle_unknown=&#x27;ignore&#x27;))])</pre><b>Please rerun this cell to show the HTML repr or trust the notebook.</b></div><div class=\"sk-container\" hidden><div class=\"sk-item sk-dashed-wrapped\"><div class=\"sk-label-container\"><div class=\"sk-label sk-toggleable\"><input class=\"sk-toggleable__control sk-hidden--visually\" id=\"b49cfb67-baf4-4bfd-aecf-7a1ffa8d060b\" type=\"checkbox\" ><label for=\"b49cfb67-baf4-4bfd-aecf-7a1ffa8d060b\" class=\"sk-toggleable__label sk-toggleable__label-arrow\">Pipeline</label><div class=\"sk-toggleable__content\"><pre>Pipeline(steps=[(&#x27;imputation_consatnt&#x27;,\n",
       "                 SimpleImputer(fill_value=&#x27;missing&#x27;, strategy=&#x27;constant&#x27;)),\n",
       "                (&#x27;onehot&#x27;, OneHotEncoder(handle_unknown=&#x27;ignore&#x27;))])</pre></div></div></div><div class=\"sk-serial\"><div class=\"sk-item\"><div class=\"sk-estimator sk-toggleable\"><input class=\"sk-toggleable__control sk-hidden--visually\" id=\"3598e936-f577-4b95-b1d4-82922715b44f\" type=\"checkbox\" ><label for=\"3598e936-f577-4b95-b1d4-82922715b44f\" class=\"sk-toggleable__label sk-toggleable__label-arrow\">SimpleImputer</label><div class=\"sk-toggleable__content\"><pre>SimpleImputer(fill_value=&#x27;missing&#x27;, strategy=&#x27;constant&#x27;)</pre></div></div></div><div class=\"sk-item\"><div class=\"sk-estimator sk-toggleable\"><input class=\"sk-toggleable__control sk-hidden--visually\" id=\"0f3f26ce-2627-4648-9f14-b26bca85babc\" type=\"checkbox\" ><label for=\"0f3f26ce-2627-4648-9f14-b26bca85babc\" class=\"sk-toggleable__label sk-toggleable__label-arrow\">OneHotEncoder</label><div class=\"sk-toggleable__content\"><pre>OneHotEncoder(handle_unknown=&#x27;ignore&#x27;)</pre></div></div></div></div></div></div></div>"
      ],
      "text/plain": [
       "Pipeline(steps=[('imputation_consatnt',\n",
       "                 SimpleImputer(fill_value='missing', strategy='constant')),\n",
       "                ('onehot', OneHotEncoder(handle_unknown='ignore'))])"
      ]
     },
     "execution_count": 22,
     "metadata": {},
     "output_type": "execute_result"
    }
   ],
   "source": [
    "categorical_processor"
   ]
  },
  {
   "cell_type": "code",
   "execution_count": 23,
   "metadata": {},
   "outputs": [],
   "source": [
    "## combine processing technqiues\n",
    "from sklearn.compose import ColumnTransformer"
   ]
  },
  {
   "cell_type": "code",
   "execution_count": 24,
   "metadata": {},
   "outputs": [],
   "source": [
    "preprocessor=ColumnTransformer(\n",
    "    [(\"categorical\",categorical_processor,[\"gender\",\"City\"]),\n",
    "    (\"numerical\",numeric_processor,[\"age\",\"height\"])]\n",
    ")"
   ]
  },
  {
   "cell_type": "code",
   "execution_count": 25,
   "metadata": {},
   "outputs": [
    {
     "data": {
      "text/html": [
       "<style>#sk-7c974ecb-bf19-4d2b-b569-24a5a53ee937 {color: black;background-color: white;}#sk-7c974ecb-bf19-4d2b-b569-24a5a53ee937 pre{padding: 0;}#sk-7c974ecb-bf19-4d2b-b569-24a5a53ee937 div.sk-toggleable {background-color: white;}#sk-7c974ecb-bf19-4d2b-b569-24a5a53ee937 label.sk-toggleable__label {cursor: pointer;display: block;width: 100%;margin-bottom: 0;padding: 0.3em;box-sizing: border-box;text-align: center;}#sk-7c974ecb-bf19-4d2b-b569-24a5a53ee937 label.sk-toggleable__label-arrow:before {content: \"▸\";float: left;margin-right: 0.25em;color: #696969;}#sk-7c974ecb-bf19-4d2b-b569-24a5a53ee937 label.sk-toggleable__label-arrow:hover:before {color: black;}#sk-7c974ecb-bf19-4d2b-b569-24a5a53ee937 div.sk-estimator:hover label.sk-toggleable__label-arrow:before {color: black;}#sk-7c974ecb-bf19-4d2b-b569-24a5a53ee937 div.sk-toggleable__content {max-height: 0;max-width: 0;overflow: hidden;text-align: left;background-color: #f0f8ff;}#sk-7c974ecb-bf19-4d2b-b569-24a5a53ee937 div.sk-toggleable__content pre {margin: 0.2em;color: black;border-radius: 0.25em;background-color: #f0f8ff;}#sk-7c974ecb-bf19-4d2b-b569-24a5a53ee937 input.sk-toggleable__control:checked~div.sk-toggleable__content {max-height: 200px;max-width: 100%;overflow: auto;}#sk-7c974ecb-bf19-4d2b-b569-24a5a53ee937 input.sk-toggleable__control:checked~label.sk-toggleable__label-arrow:before {content: \"▾\";}#sk-7c974ecb-bf19-4d2b-b569-24a5a53ee937 div.sk-estimator input.sk-toggleable__control:checked~label.sk-toggleable__label {background-color: #d4ebff;}#sk-7c974ecb-bf19-4d2b-b569-24a5a53ee937 div.sk-label input.sk-toggleable__control:checked~label.sk-toggleable__label {background-color: #d4ebff;}#sk-7c974ecb-bf19-4d2b-b569-24a5a53ee937 input.sk-hidden--visually {border: 0;clip: rect(1px 1px 1px 1px);clip: rect(1px, 1px, 1px, 1px);height: 1px;margin: -1px;overflow: hidden;padding: 0;position: absolute;width: 1px;}#sk-7c974ecb-bf19-4d2b-b569-24a5a53ee937 div.sk-estimator {font-family: monospace;background-color: #f0f8ff;border: 1px dotted black;border-radius: 0.25em;box-sizing: border-box;margin-bottom: 0.5em;}#sk-7c974ecb-bf19-4d2b-b569-24a5a53ee937 div.sk-estimator:hover {background-color: #d4ebff;}#sk-7c974ecb-bf19-4d2b-b569-24a5a53ee937 div.sk-parallel-item::after {content: \"\";width: 100%;border-bottom: 1px solid gray;flex-grow: 1;}#sk-7c974ecb-bf19-4d2b-b569-24a5a53ee937 div.sk-label:hover label.sk-toggleable__label {background-color: #d4ebff;}#sk-7c974ecb-bf19-4d2b-b569-24a5a53ee937 div.sk-serial::before {content: \"\";position: absolute;border-left: 1px solid gray;box-sizing: border-box;top: 2em;bottom: 0;left: 50%;}#sk-7c974ecb-bf19-4d2b-b569-24a5a53ee937 div.sk-serial {display: flex;flex-direction: column;align-items: center;background-color: white;padding-right: 0.2em;padding-left: 0.2em;}#sk-7c974ecb-bf19-4d2b-b569-24a5a53ee937 div.sk-item {z-index: 1;}#sk-7c974ecb-bf19-4d2b-b569-24a5a53ee937 div.sk-parallel {display: flex;align-items: stretch;justify-content: center;background-color: white;}#sk-7c974ecb-bf19-4d2b-b569-24a5a53ee937 div.sk-parallel::before {content: \"\";position: absolute;border-left: 1px solid gray;box-sizing: border-box;top: 2em;bottom: 0;left: 50%;}#sk-7c974ecb-bf19-4d2b-b569-24a5a53ee937 div.sk-parallel-item {display: flex;flex-direction: column;position: relative;background-color: white;}#sk-7c974ecb-bf19-4d2b-b569-24a5a53ee937 div.sk-parallel-item:first-child::after {align-self: flex-end;width: 50%;}#sk-7c974ecb-bf19-4d2b-b569-24a5a53ee937 div.sk-parallel-item:last-child::after {align-self: flex-start;width: 50%;}#sk-7c974ecb-bf19-4d2b-b569-24a5a53ee937 div.sk-parallel-item:only-child::after {width: 0;}#sk-7c974ecb-bf19-4d2b-b569-24a5a53ee937 div.sk-dashed-wrapped {border: 1px dashed gray;margin: 0 0.4em 0.5em 0.4em;box-sizing: border-box;padding-bottom: 0.4em;background-color: white;position: relative;}#sk-7c974ecb-bf19-4d2b-b569-24a5a53ee937 div.sk-label label {font-family: monospace;font-weight: bold;background-color: white;display: inline-block;line-height: 1.2em;}#sk-7c974ecb-bf19-4d2b-b569-24a5a53ee937 div.sk-label-container {position: relative;z-index: 2;text-align: center;}#sk-7c974ecb-bf19-4d2b-b569-24a5a53ee937 div.sk-container {/* jupyter's `normalize.less` sets `[hidden] { display: none; }` but bootstrap.min.css set `[hidden] { display: none !important; }` so we also need the `!important` here to be able to override the default hidden behavior on the sphinx rendered scikit-learn.org. See: https://github.com/scikit-learn/scikit-learn/issues/21755 */display: inline-block !important;position: relative;}#sk-7c974ecb-bf19-4d2b-b569-24a5a53ee937 div.sk-text-repr-fallback {display: none;}</style><div id=\"sk-7c974ecb-bf19-4d2b-b569-24a5a53ee937\" class=\"sk-top-container\"><div class=\"sk-text-repr-fallback\"><pre>ColumnTransformer(transformers=[(&#x27;categorical&#x27;,\n",
       "                                 Pipeline(steps=[(&#x27;imputation_consatnt&#x27;,\n",
       "                                                  SimpleImputer(fill_value=&#x27;missing&#x27;,\n",
       "                                                                strategy=&#x27;constant&#x27;)),\n",
       "                                                 (&#x27;onehot&#x27;,\n",
       "                                                  OneHotEncoder(handle_unknown=&#x27;ignore&#x27;))]),\n",
       "                                 [&#x27;gender&#x27;, &#x27;City&#x27;]),\n",
       "                                (&#x27;numerical&#x27;,\n",
       "                                 Pipeline(steps=[(&#x27;imputation_mean&#x27;,\n",
       "                                                  SimpleImputer()),\n",
       "                                                 (&#x27;scaler&#x27;, StandardScaler())]),\n",
       "                                 [&#x27;age&#x27;, &#x27;height&#x27;])])</pre><b>Please rerun this cell to show the HTML repr or trust the notebook.</b></div><div class=\"sk-container\" hidden><div class=\"sk-item sk-dashed-wrapped\"><div class=\"sk-label-container\"><div class=\"sk-label sk-toggleable\"><input class=\"sk-toggleable__control sk-hidden--visually\" id=\"c7d8374c-a452-4c6e-a894-29cf295ba8e8\" type=\"checkbox\" ><label for=\"c7d8374c-a452-4c6e-a894-29cf295ba8e8\" class=\"sk-toggleable__label sk-toggleable__label-arrow\">ColumnTransformer</label><div class=\"sk-toggleable__content\"><pre>ColumnTransformer(transformers=[(&#x27;categorical&#x27;,\n",
       "                                 Pipeline(steps=[(&#x27;imputation_consatnt&#x27;,\n",
       "                                                  SimpleImputer(fill_value=&#x27;missing&#x27;,\n",
       "                                                                strategy=&#x27;constant&#x27;)),\n",
       "                                                 (&#x27;onehot&#x27;,\n",
       "                                                  OneHotEncoder(handle_unknown=&#x27;ignore&#x27;))]),\n",
       "                                 [&#x27;gender&#x27;, &#x27;City&#x27;]),\n",
       "                                (&#x27;numerical&#x27;,\n",
       "                                 Pipeline(steps=[(&#x27;imputation_mean&#x27;,\n",
       "                                                  SimpleImputer()),\n",
       "                                                 (&#x27;scaler&#x27;, StandardScaler())]),\n",
       "                                 [&#x27;age&#x27;, &#x27;height&#x27;])])</pre></div></div></div><div class=\"sk-parallel\"><div class=\"sk-parallel-item\"><div class=\"sk-item\"><div class=\"sk-label-container\"><div class=\"sk-label sk-toggleable\"><input class=\"sk-toggleable__control sk-hidden--visually\" id=\"2c1b50a5-59a3-4cc2-93bc-95edc2a6f775\" type=\"checkbox\" ><label for=\"2c1b50a5-59a3-4cc2-93bc-95edc2a6f775\" class=\"sk-toggleable__label sk-toggleable__label-arrow\">categorical</label><div class=\"sk-toggleable__content\"><pre>[&#x27;gender&#x27;, &#x27;City&#x27;]</pre></div></div></div><div class=\"sk-serial\"><div class=\"sk-item\"><div class=\"sk-serial\"><div class=\"sk-item\"><div class=\"sk-estimator sk-toggleable\"><input class=\"sk-toggleable__control sk-hidden--visually\" id=\"0deb9c0e-a9be-4d6b-8aae-e991e6af69fe\" type=\"checkbox\" ><label for=\"0deb9c0e-a9be-4d6b-8aae-e991e6af69fe\" class=\"sk-toggleable__label sk-toggleable__label-arrow\">SimpleImputer</label><div class=\"sk-toggleable__content\"><pre>SimpleImputer(fill_value=&#x27;missing&#x27;, strategy=&#x27;constant&#x27;)</pre></div></div></div><div class=\"sk-item\"><div class=\"sk-estimator sk-toggleable\"><input class=\"sk-toggleable__control sk-hidden--visually\" id=\"01cd062a-9413-4be7-9da3-9b7c6c4a8f18\" type=\"checkbox\" ><label for=\"01cd062a-9413-4be7-9da3-9b7c6c4a8f18\" class=\"sk-toggleable__label sk-toggleable__label-arrow\">OneHotEncoder</label><div class=\"sk-toggleable__content\"><pre>OneHotEncoder(handle_unknown=&#x27;ignore&#x27;)</pre></div></div></div></div></div></div></div></div><div class=\"sk-parallel-item\"><div class=\"sk-item\"><div class=\"sk-label-container\"><div class=\"sk-label sk-toggleable\"><input class=\"sk-toggleable__control sk-hidden--visually\" id=\"56406f74-f777-4b12-9012-3be886897e3f\" type=\"checkbox\" ><label for=\"56406f74-f777-4b12-9012-3be886897e3f\" class=\"sk-toggleable__label sk-toggleable__label-arrow\">numerical</label><div class=\"sk-toggleable__content\"><pre>[&#x27;age&#x27;, &#x27;height&#x27;]</pre></div></div></div><div class=\"sk-serial\"><div class=\"sk-item\"><div class=\"sk-serial\"><div class=\"sk-item\"><div class=\"sk-estimator sk-toggleable\"><input class=\"sk-toggleable__control sk-hidden--visually\" id=\"208b6f82-6feb-47e9-8207-23fed87a9dfc\" type=\"checkbox\" ><label for=\"208b6f82-6feb-47e9-8207-23fed87a9dfc\" class=\"sk-toggleable__label sk-toggleable__label-arrow\">SimpleImputer</label><div class=\"sk-toggleable__content\"><pre>SimpleImputer()</pre></div></div></div><div class=\"sk-item\"><div class=\"sk-estimator sk-toggleable\"><input class=\"sk-toggleable__control sk-hidden--visually\" id=\"7f72eec2-db47-43a5-bc06-f3b31857f266\" type=\"checkbox\" ><label for=\"7f72eec2-db47-43a5-bc06-f3b31857f266\" class=\"sk-toggleable__label sk-toggleable__label-arrow\">StandardScaler</label><div class=\"sk-toggleable__content\"><pre>StandardScaler()</pre></div></div></div></div></div></div></div></div></div></div></div></div>"
      ],
      "text/plain": [
       "ColumnTransformer(transformers=[('categorical',\n",
       "                                 Pipeline(steps=[('imputation_consatnt',\n",
       "                                                  SimpleImputer(fill_value='missing',\n",
       "                                                                strategy='constant')),\n",
       "                                                 ('onehot',\n",
       "                                                  OneHotEncoder(handle_unknown='ignore'))]),\n",
       "                                 ['gender', 'City']),\n",
       "                                ('numerical',\n",
       "                                 Pipeline(steps=[('imputation_mean',\n",
       "                                                  SimpleImputer()),\n",
       "                                                 ('scaler', StandardScaler())]),\n",
       "                                 ['age', 'height'])])"
      ]
     },
     "execution_count": 25,
     "metadata": {},
     "output_type": "execute_result"
    }
   ],
   "source": [
    "preprocessor"
   ]
  },
  {
   "cell_type": "code",
   "execution_count": 26,
   "metadata": {},
   "outputs": [],
   "source": [
    "from sklearn.pipeline import make_pipeline"
   ]
  },
  {
   "cell_type": "code",
   "execution_count": 27,
   "metadata": {},
   "outputs": [],
   "source": [
    "pipe=make_pipeline(preprocessor,LogisticRegression())"
   ]
  },
  {
   "cell_type": "code",
   "execution_count": 28,
   "metadata": {},
   "outputs": [
    {
     "data": {
      "text/html": [
       "<style>#sk-019d71a8-b5a7-4e24-8070-3162e96a3442 {color: black;background-color: white;}#sk-019d71a8-b5a7-4e24-8070-3162e96a3442 pre{padding: 0;}#sk-019d71a8-b5a7-4e24-8070-3162e96a3442 div.sk-toggleable {background-color: white;}#sk-019d71a8-b5a7-4e24-8070-3162e96a3442 label.sk-toggleable__label {cursor: pointer;display: block;width: 100%;margin-bottom: 0;padding: 0.3em;box-sizing: border-box;text-align: center;}#sk-019d71a8-b5a7-4e24-8070-3162e96a3442 label.sk-toggleable__label-arrow:before {content: \"▸\";float: left;margin-right: 0.25em;color: #696969;}#sk-019d71a8-b5a7-4e24-8070-3162e96a3442 label.sk-toggleable__label-arrow:hover:before {color: black;}#sk-019d71a8-b5a7-4e24-8070-3162e96a3442 div.sk-estimator:hover label.sk-toggleable__label-arrow:before {color: black;}#sk-019d71a8-b5a7-4e24-8070-3162e96a3442 div.sk-toggleable__content {max-height: 0;max-width: 0;overflow: hidden;text-align: left;background-color: #f0f8ff;}#sk-019d71a8-b5a7-4e24-8070-3162e96a3442 div.sk-toggleable__content pre {margin: 0.2em;color: black;border-radius: 0.25em;background-color: #f0f8ff;}#sk-019d71a8-b5a7-4e24-8070-3162e96a3442 input.sk-toggleable__control:checked~div.sk-toggleable__content {max-height: 200px;max-width: 100%;overflow: auto;}#sk-019d71a8-b5a7-4e24-8070-3162e96a3442 input.sk-toggleable__control:checked~label.sk-toggleable__label-arrow:before {content: \"▾\";}#sk-019d71a8-b5a7-4e24-8070-3162e96a3442 div.sk-estimator input.sk-toggleable__control:checked~label.sk-toggleable__label {background-color: #d4ebff;}#sk-019d71a8-b5a7-4e24-8070-3162e96a3442 div.sk-label input.sk-toggleable__control:checked~label.sk-toggleable__label {background-color: #d4ebff;}#sk-019d71a8-b5a7-4e24-8070-3162e96a3442 input.sk-hidden--visually {border: 0;clip: rect(1px 1px 1px 1px);clip: rect(1px, 1px, 1px, 1px);height: 1px;margin: -1px;overflow: hidden;padding: 0;position: absolute;width: 1px;}#sk-019d71a8-b5a7-4e24-8070-3162e96a3442 div.sk-estimator {font-family: monospace;background-color: #f0f8ff;border: 1px dotted black;border-radius: 0.25em;box-sizing: border-box;margin-bottom: 0.5em;}#sk-019d71a8-b5a7-4e24-8070-3162e96a3442 div.sk-estimator:hover {background-color: #d4ebff;}#sk-019d71a8-b5a7-4e24-8070-3162e96a3442 div.sk-parallel-item::after {content: \"\";width: 100%;border-bottom: 1px solid gray;flex-grow: 1;}#sk-019d71a8-b5a7-4e24-8070-3162e96a3442 div.sk-label:hover label.sk-toggleable__label {background-color: #d4ebff;}#sk-019d71a8-b5a7-4e24-8070-3162e96a3442 div.sk-serial::before {content: \"\";position: absolute;border-left: 1px solid gray;box-sizing: border-box;top: 2em;bottom: 0;left: 50%;}#sk-019d71a8-b5a7-4e24-8070-3162e96a3442 div.sk-serial {display: flex;flex-direction: column;align-items: center;background-color: white;padding-right: 0.2em;padding-left: 0.2em;}#sk-019d71a8-b5a7-4e24-8070-3162e96a3442 div.sk-item {z-index: 1;}#sk-019d71a8-b5a7-4e24-8070-3162e96a3442 div.sk-parallel {display: flex;align-items: stretch;justify-content: center;background-color: white;}#sk-019d71a8-b5a7-4e24-8070-3162e96a3442 div.sk-parallel::before {content: \"\";position: absolute;border-left: 1px solid gray;box-sizing: border-box;top: 2em;bottom: 0;left: 50%;}#sk-019d71a8-b5a7-4e24-8070-3162e96a3442 div.sk-parallel-item {display: flex;flex-direction: column;position: relative;background-color: white;}#sk-019d71a8-b5a7-4e24-8070-3162e96a3442 div.sk-parallel-item:first-child::after {align-self: flex-end;width: 50%;}#sk-019d71a8-b5a7-4e24-8070-3162e96a3442 div.sk-parallel-item:last-child::after {align-self: flex-start;width: 50%;}#sk-019d71a8-b5a7-4e24-8070-3162e96a3442 div.sk-parallel-item:only-child::after {width: 0;}#sk-019d71a8-b5a7-4e24-8070-3162e96a3442 div.sk-dashed-wrapped {border: 1px dashed gray;margin: 0 0.4em 0.5em 0.4em;box-sizing: border-box;padding-bottom: 0.4em;background-color: white;position: relative;}#sk-019d71a8-b5a7-4e24-8070-3162e96a3442 div.sk-label label {font-family: monospace;font-weight: bold;background-color: white;display: inline-block;line-height: 1.2em;}#sk-019d71a8-b5a7-4e24-8070-3162e96a3442 div.sk-label-container {position: relative;z-index: 2;text-align: center;}#sk-019d71a8-b5a7-4e24-8070-3162e96a3442 div.sk-container {/* jupyter's `normalize.less` sets `[hidden] { display: none; }` but bootstrap.min.css set `[hidden] { display: none !important; }` so we also need the `!important` here to be able to override the default hidden behavior on the sphinx rendered scikit-learn.org. See: https://github.com/scikit-learn/scikit-learn/issues/21755 */display: inline-block !important;position: relative;}#sk-019d71a8-b5a7-4e24-8070-3162e96a3442 div.sk-text-repr-fallback {display: none;}</style><div id=\"sk-019d71a8-b5a7-4e24-8070-3162e96a3442\" class=\"sk-top-container\"><div class=\"sk-text-repr-fallback\"><pre>Pipeline(steps=[(&#x27;columntransformer&#x27;,\n",
       "                 ColumnTransformer(transformers=[(&#x27;categorical&#x27;,\n",
       "                                                  Pipeline(steps=[(&#x27;imputation_consatnt&#x27;,\n",
       "                                                                   SimpleImputer(fill_value=&#x27;missing&#x27;,\n",
       "                                                                                 strategy=&#x27;constant&#x27;)),\n",
       "                                                                  (&#x27;onehot&#x27;,\n",
       "                                                                   OneHotEncoder(handle_unknown=&#x27;ignore&#x27;))]),\n",
       "                                                  [&#x27;gender&#x27;, &#x27;City&#x27;]),\n",
       "                                                 (&#x27;numerical&#x27;,\n",
       "                                                  Pipeline(steps=[(&#x27;imputation_mean&#x27;,\n",
       "                                                                   SimpleImputer()),\n",
       "                                                                  (&#x27;scaler&#x27;,\n",
       "                                                                   StandardScaler())]),\n",
       "                                                  [&#x27;age&#x27;, &#x27;height&#x27;])])),\n",
       "                (&#x27;logisticregression&#x27;, LogisticRegression())])</pre><b>Please rerun this cell to show the HTML repr or trust the notebook.</b></div><div class=\"sk-container\" hidden><div class=\"sk-item sk-dashed-wrapped\"><div class=\"sk-label-container\"><div class=\"sk-label sk-toggleable\"><input class=\"sk-toggleable__control sk-hidden--visually\" id=\"43ae0480-a32a-4acd-abe1-ca77dc4dcbb1\" type=\"checkbox\" ><label for=\"43ae0480-a32a-4acd-abe1-ca77dc4dcbb1\" class=\"sk-toggleable__label sk-toggleable__label-arrow\">Pipeline</label><div class=\"sk-toggleable__content\"><pre>Pipeline(steps=[(&#x27;columntransformer&#x27;,\n",
       "                 ColumnTransformer(transformers=[(&#x27;categorical&#x27;,\n",
       "                                                  Pipeline(steps=[(&#x27;imputation_consatnt&#x27;,\n",
       "                                                                   SimpleImputer(fill_value=&#x27;missing&#x27;,\n",
       "                                                                                 strategy=&#x27;constant&#x27;)),\n",
       "                                                                  (&#x27;onehot&#x27;,\n",
       "                                                                   OneHotEncoder(handle_unknown=&#x27;ignore&#x27;))]),\n",
       "                                                  [&#x27;gender&#x27;, &#x27;City&#x27;]),\n",
       "                                                 (&#x27;numerical&#x27;,\n",
       "                                                  Pipeline(steps=[(&#x27;imputation_mean&#x27;,\n",
       "                                                                   SimpleImputer()),\n",
       "                                                                  (&#x27;scaler&#x27;,\n",
       "                                                                   StandardScaler())]),\n",
       "                                                  [&#x27;age&#x27;, &#x27;height&#x27;])])),\n",
       "                (&#x27;logisticregression&#x27;, LogisticRegression())])</pre></div></div></div><div class=\"sk-serial\"><div class=\"sk-item sk-dashed-wrapped\"><div class=\"sk-label-container\"><div class=\"sk-label sk-toggleable\"><input class=\"sk-toggleable__control sk-hidden--visually\" id=\"a52bda08-7265-4358-ba7f-1aefcb10e46d\" type=\"checkbox\" ><label for=\"a52bda08-7265-4358-ba7f-1aefcb10e46d\" class=\"sk-toggleable__label sk-toggleable__label-arrow\">columntransformer: ColumnTransformer</label><div class=\"sk-toggleable__content\"><pre>ColumnTransformer(transformers=[(&#x27;categorical&#x27;,\n",
       "                                 Pipeline(steps=[(&#x27;imputation_consatnt&#x27;,\n",
       "                                                  SimpleImputer(fill_value=&#x27;missing&#x27;,\n",
       "                                                                strategy=&#x27;constant&#x27;)),\n",
       "                                                 (&#x27;onehot&#x27;,\n",
       "                                                  OneHotEncoder(handle_unknown=&#x27;ignore&#x27;))]),\n",
       "                                 [&#x27;gender&#x27;, &#x27;City&#x27;]),\n",
       "                                (&#x27;numerical&#x27;,\n",
       "                                 Pipeline(steps=[(&#x27;imputation_mean&#x27;,\n",
       "                                                  SimpleImputer()),\n",
       "                                                 (&#x27;scaler&#x27;, StandardScaler())]),\n",
       "                                 [&#x27;age&#x27;, &#x27;height&#x27;])])</pre></div></div></div><div class=\"sk-parallel\"><div class=\"sk-parallel-item\"><div class=\"sk-item\"><div class=\"sk-label-container\"><div class=\"sk-label sk-toggleable\"><input class=\"sk-toggleable__control sk-hidden--visually\" id=\"df432b09-9de3-4d80-ad94-ede6c8e3d1cd\" type=\"checkbox\" ><label for=\"df432b09-9de3-4d80-ad94-ede6c8e3d1cd\" class=\"sk-toggleable__label sk-toggleable__label-arrow\">categorical</label><div class=\"sk-toggleable__content\"><pre>[&#x27;gender&#x27;, &#x27;City&#x27;]</pre></div></div></div><div class=\"sk-serial\"><div class=\"sk-item\"><div class=\"sk-serial\"><div class=\"sk-item\"><div class=\"sk-estimator sk-toggleable\"><input class=\"sk-toggleable__control sk-hidden--visually\" id=\"2ac83df6-0579-45f5-8084-7e7457e7cc3e\" type=\"checkbox\" ><label for=\"2ac83df6-0579-45f5-8084-7e7457e7cc3e\" class=\"sk-toggleable__label sk-toggleable__label-arrow\">SimpleImputer</label><div class=\"sk-toggleable__content\"><pre>SimpleImputer(fill_value=&#x27;missing&#x27;, strategy=&#x27;constant&#x27;)</pre></div></div></div><div class=\"sk-item\"><div class=\"sk-estimator sk-toggleable\"><input class=\"sk-toggleable__control sk-hidden--visually\" id=\"e8b5e833-f9f2-415f-bc9c-9f50382f4594\" type=\"checkbox\" ><label for=\"e8b5e833-f9f2-415f-bc9c-9f50382f4594\" class=\"sk-toggleable__label sk-toggleable__label-arrow\">OneHotEncoder</label><div class=\"sk-toggleable__content\"><pre>OneHotEncoder(handle_unknown=&#x27;ignore&#x27;)</pre></div></div></div></div></div></div></div></div><div class=\"sk-parallel-item\"><div class=\"sk-item\"><div class=\"sk-label-container\"><div class=\"sk-label sk-toggleable\"><input class=\"sk-toggleable__control sk-hidden--visually\" id=\"73a41471-53b6-40c3-aeb5-bb6d44cd4b26\" type=\"checkbox\" ><label for=\"73a41471-53b6-40c3-aeb5-bb6d44cd4b26\" class=\"sk-toggleable__label sk-toggleable__label-arrow\">numerical</label><div class=\"sk-toggleable__content\"><pre>[&#x27;age&#x27;, &#x27;height&#x27;]</pre></div></div></div><div class=\"sk-serial\"><div class=\"sk-item\"><div class=\"sk-serial\"><div class=\"sk-item\"><div class=\"sk-estimator sk-toggleable\"><input class=\"sk-toggleable__control sk-hidden--visually\" id=\"c5620e06-2244-4a54-95c3-77febe9112ad\" type=\"checkbox\" ><label for=\"c5620e06-2244-4a54-95c3-77febe9112ad\" class=\"sk-toggleable__label sk-toggleable__label-arrow\">SimpleImputer</label><div class=\"sk-toggleable__content\"><pre>SimpleImputer()</pre></div></div></div><div class=\"sk-item\"><div class=\"sk-estimator sk-toggleable\"><input class=\"sk-toggleable__control sk-hidden--visually\" id=\"d94f1602-1fb0-4647-9218-f699e322a52c\" type=\"checkbox\" ><label for=\"d94f1602-1fb0-4647-9218-f699e322a52c\" class=\"sk-toggleable__label sk-toggleable__label-arrow\">StandardScaler</label><div class=\"sk-toggleable__content\"><pre>StandardScaler()</pre></div></div></div></div></div></div></div></div></div></div><div class=\"sk-item\"><div class=\"sk-estimator sk-toggleable\"><input class=\"sk-toggleable__control sk-hidden--visually\" id=\"6f1bf878-1024-4b69-85ec-c11db0e7ba03\" type=\"checkbox\" ><label for=\"6f1bf878-1024-4b69-85ec-c11db0e7ba03\" class=\"sk-toggleable__label sk-toggleable__label-arrow\">LogisticRegression</label><div class=\"sk-toggleable__content\"><pre>LogisticRegression()</pre></div></div></div></div></div></div></div>"
      ],
      "text/plain": [
       "Pipeline(steps=[('columntransformer',\n",
       "                 ColumnTransformer(transformers=[('categorical',\n",
       "                                                  Pipeline(steps=[('imputation_consatnt',\n",
       "                                                                   SimpleImputer(fill_value='missing',\n",
       "                                                                                 strategy='constant')),\n",
       "                                                                  ('onehot',\n",
       "                                                                   OneHotEncoder(handle_unknown='ignore'))]),\n",
       "                                                  ['gender', 'City']),\n",
       "                                                 ('numerical',\n",
       "                                                  Pipeline(steps=[('imputation_mean',\n",
       "                                                                   SimpleImputer()),\n",
       "                                                                  ('scaler',\n",
       "                                                                   StandardScaler())]),\n",
       "                                                  ['age', 'height'])])),\n",
       "                ('logisticregression', LogisticRegression())])"
      ]
     },
     "execution_count": 28,
     "metadata": {},
     "output_type": "execute_result"
    }
   ],
   "source": [
    "pipe"
   ]
  }
 ],
 "metadata": {
  "kernelspec": {
   "display_name": "Python 3 (ipykernel)",
   "language": "python",
   "name": "python3"
  },
  "language_info": {
   "codemirror_mode": {
    "name": "ipython",
    "version": 3
   },
   "file_extension": ".py",
   "mimetype": "text/x-python",
   "name": "python",
   "nbconvert_exporter": "python",
   "pygments_lexer": "ipython3",
   "version": "3.9.12"
  }
 },
 "nbformat": 4,
 "nbformat_minor": 4
}
