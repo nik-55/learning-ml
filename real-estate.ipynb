{
 "cells": [
  {
   "cell_type": "code",
   "execution_count": null,
   "id": "d2adf7c0",
   "metadata": {},
   "outputs": [],
   "source": [
    "# using kaggle for downloading dataset --- bouston housing data ---> real-estate-csv.csv\n",
    "import pandas as pd\n",
    "housing = pd.read_csv(\"./real-estate-csv.csv\")\n",
    "# housing.head()\n",
    "# housing.info()\n",
    "# housing[\"RM\"]"
   ]
  },
  {
   "cell_type": "code",
   "execution_count": null,
   "id": "6fc6adcf",
   "metadata": {},
   "outputs": [],
   "source": [
    "# %matplotlib inline\n",
    "# for juypter notebook to show plots here \n",
    "# import matplotlib.pyplot as plt\n",
    "# housing.hist(bins=50 , figsize=(20,15))"
   ]
  },
  {
   "cell_type": "code",
   "execution_count": null,
   "id": "a5acdc75",
   "metadata": {},
   "outputs": [],
   "source": [
    "# train-test-splitting\n",
    "# import numpy as np\n",
    "# def train_test_split(data,test_ratio):\n",
    "# #     we do not want that shuffled data get changed each time we run our code \n",
    "# #     so we seed with 42 so shuffled won't change \n",
    "#     np.random.seed(42)\n",
    "#     shuffled = np.random.permutation(len(data))\n",
    "#     test_set_size = int(len(data)*test_ratio)\n",
    "#     test_indices = shuffled[:test_set_size]\n",
    "#     train_indices = shuffled[test_set_size:]\n",
    "#     return data.iloc[train_indices] , data.iloc[test_indices]\n",
    "\n",
    "# train_data,test_data=train_test_split(housing,0.2)"
   ]
  },
  {
   "cell_type": "code",
   "execution_count": null,
   "id": "4f4e1a16",
   "metadata": {},
   "outputs": [],
   "source": [
    "from sklearn.model_selection import train_test_split,StratifiedShuffleSplit\n",
    "train_data,test_data = train_test_split(housing,test_size=0.2,random_state=42)\n",
    "# housing[\"CHAS\"].value_counts()"
   ]
  },
  {
   "cell_type": "code",
   "execution_count": null,
   "id": "d7465b2d",
   "metadata": {},
   "outputs": [],
   "source": [
    "# If data split such that all 35 chas with value 1 goes to test_data then our model have never been trained for chas value as 1\n",
    "# and hence it will give wrong predictions\n",
    "\n",
    "split = StratifiedShuffleSplit(n_splits = 1, test_size = 0.2 , random_state = 42)\n",
    "for train_index,test_index in split.split(housing,housing[\"CHAS\"]) : \n",
    "    strat_train_set = housing.loc[train_index]\n",
    "    strat_test_set = housing.loc[test_index]"
   ]
  },
  {
   "cell_type": "code",
   "execution_count": null,
   "id": "4d1b5ec5",
   "metadata": {},
   "outputs": [],
   "source": [
    "# correlation_matrix = housing.corr()\n",
    "# correlation_matrix[\"MEDV\"].sort_values(ascending=False)\n",
    "# if correlation coffecient is close to 1 that means that parameter is strongly correlated to MEDV (directly proportional)\n",
    "# if correlation coffecient is close to -1 that means that parameter is strongly inversely related to MEDV"
   ]
  },
  {
   "cell_type": "code",
   "execution_count": null,
   "id": "5ab00206",
   "metadata": {},
   "outputs": [],
   "source": [
    "from pandas.plotting import scatter_matrix\n",
    "attributes = [\"MEDV\",\"RM\",\"ZN\",\"LSTAT\"]\n",
    "scatter_matrix(housing[attributes])"
   ]
  },
  {
   "cell_type": "code",
   "execution_count": null,
   "id": "02d6ce5a",
   "metadata": {},
   "outputs": [],
   "source": [
    "# setting new field\n",
    "# housing[\"TaxRM\"] = housing[\"TAX\"]/housing[\"RM\"]\n",
    "# housing[\"TaxRM\"]\n",
    "# housing.head() === new column will be added"
   ]
  },
  {
   "cell_type": "code",
   "execution_count": null,
   "id": "763c48e8",
   "metadata": {},
   "outputs": [],
   "source": [
    "correlation_matrix = housing.corr()\n",
    "correlation_matrix[\"MEDV\"].sort_values(ascending=False)"
   ]
  },
  {
   "cell_type": "code",
   "execution_count": null,
   "id": "01efb399",
   "metadata": {},
   "outputs": [],
   "source": [
    "# to take care of missing attributes there are three ways\n",
    "# shift + tab === to get information about function\n",
    "\n",
    "## get rid of missing data points\n",
    "# new_housing = housing.dropna(subset=[\"RM\"])\n",
    "# new_housing.describe()\n",
    "\n",
    "## get rid of whole attribute\n",
    "# new_housing = housing.drop(\"RM\",axis=1)\n",
    "# axis = 1 means column axis\n",
    "# new_housing.describe()\n",
    "# new_housing.shape\n",
    "\n",
    "\n",
    "## set the value to either zero or any other convinent value(median , mode)\n",
    "# median = housing[\"RM\"].median()\n",
    "# new_housing = housing[\"RM\"].fillna(median)"
   ]
  },
  {
   "cell_type": "code",
   "execution_count": null,
   "id": "ab09d130",
   "metadata": {},
   "outputs": [],
   "source": [
    "from sklearn.impute import SimpleImputer\n",
    "imputer = SimpleImputer(strategy=\"median\")\n",
    "imputer.fit(housing)\n",
    "x = imputer.transform(housing)\n",
    "new_housing = pd.DataFrame(x,columns=housing.columns)\n",
    "new_housing.describe()"
   ]
  },
  {
   "cell_type": "markdown",
   "id": "9a1d9279",
   "metadata": {},
   "source": [
    "Primarily , there are three types of objects in scikit learn :\n",
    "\n",
    "> Estimators === it estimates some parameters based on dataset. Eg : Imputer\n",
    "  it has a fit method that fits the dataset and calculate internal parameters\n",
    "  \n",
    "> Transformers === transform method takes input and returns output based on learnings from fit()\n",
    "\n",
    "> Predictors === Eg : Linear regression model\n",
    "  fit() and predict() are two common functions"
   ]
  },
  {
   "cell_type": "code",
   "execution_count": null,
   "id": "78b87866",
   "metadata": {},
   "outputs": [],
   "source": [
    "# feature scaling :\n",
    "## Min-max scaling : (value-min)/(max-min)\n",
    "## Standardization : (value - mean) / std\n",
    "from sklearn.pipeline import Pipeline\n",
    "from sklearn.preprocessing import StandardScaler\n",
    "from sklearn.impute import SimpleImputer\n",
    "my_pipeline = Pipeline([\n",
    "    ('imputer',SimpleImputer(strategy = \"median\")),\n",
    "    ('std_scaler',StandardScaler())\n",
    "])\n",
    "\n",
    "housing_new = my_pipeline.fit_transform(new_housing)\n",
    "housing_new"
   ]
  },
  {
   "cell_type": "code",
   "execution_count": null,
   "id": "71b15f40",
   "metadata": {},
   "outputs": [],
   "source": [
    "# selecting desired model\n",
    "# from sklearn.linear_model import LinearRegression\n",
    "# model.fit()"
   ]
  }
 ],
 "metadata": {
  "kernelspec": {
   "display_name": "Python 3 (ipykernel)",
   "language": "python",
   "name": "python3"
  },
  "language_info": {
   "codemirror_mode": {
    "name": "ipython",
    "version": 3
   },
   "file_extension": ".py",
   "mimetype": "text/x-python",
   "name": "python",
   "nbconvert_exporter": "python",
   "pygments_lexer": "ipython3",
   "version": "3.9.12"
  },
  "vscode": {
   "interpreter": {
    "hash": "369f2c481f4da34e4445cda3fffd2e751bd1c4d706f27375911949ba6bb62e1c"
   }
  }
 },
 "nbformat": 4,
 "nbformat_minor": 5
}
